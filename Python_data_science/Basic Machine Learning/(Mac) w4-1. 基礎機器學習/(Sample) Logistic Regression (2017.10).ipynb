{
 "cells": [
  {
   "cell_type": "markdown",
   "metadata": {},
   "source": [
    "## Logistic Function / Sigmoid Function"
   ]
  },
  {
   "cell_type": "code",
   "execution_count": 1,
   "metadata": {
    "collapsed": true
   },
   "outputs": [],
   "source": [
    "import numpy as np\n",
    "def sigmoid(z):\n",
    "    return 1/(1 + np.exp(-z))"
   ]
  },
  {
   "cell_type": "code",
   "execution_count": 2,
   "metadata": {},
   "outputs": [
    {
     "data": {
      "image/png": "[encoded data removed]",
      "text/plain": [
       "<matplotlib.figure.Figure at 0x10546a6a0>"
      ]
     },
     "metadata": {},
     "output_type": "display_data"
    }
   ],
   "source": [
    "import matplotlib.pyplot as plt\n",
    "plt.style.use('ggplot')\n",
    "%matplotlib inline\n",
    "\n",
    "z = np.arange(-8,8,0.1)\n",
    "y = sigmoid(z)\n",
    "plt.plot(z,y)\n",
    "plt.show()"
   ]
  },
  {
   "cell_type": "markdown",
   "metadata": {},
   "source": [
    "## Logistic Regression"
   ]
  },
  {
   "cell_type": "code",
   "execution_count": 3,
   "metadata": {},
   "outputs": [
    {
     "data": {
      "text/html": [
       "<div>\n",
       "<style>\n",
       "    .dataframe thead tr:only-child th {\n",
       "        text-align: right;\n",
       "    }\n",
       "\n",
       "    .dataframe thead th {\n",
       "        text-align: left;\n",
       "    }\n",
       "\n",
       "    .dataframe tbody tr th {\n",
       "        vertical-align: top;\n",
       "    }\n",
       "</style>\n",
       "<table border=\"1\" class=\"dataframe\">\n",
       "  <thead>\n",
       "    <tr style=\"text-align: right;\">\n",
       "      <th></th>\n",
       "      <th>花萼長度</th>\n",
       "      <th>花萼寬度</th>\n",
       "      <th>花瓣長度</th>\n",
       "      <th>花瓣寬度</th>\n",
       "      <th>屬種</th>\n",
       "    </tr>\n",
       "  </thead>\n",
       "  <tbody>\n",
       "    <tr>\n",
       "      <th>0</th>\n",
       "      <td>5.1</td>\n",
       "      <td>3.5</td>\n",
       "      <td>1.4</td>\n",
       "      <td>0.2</td>\n",
       "      <td>Iris-setosa</td>\n",
       "    </tr>\n",
       "    <tr>\n",
       "      <th>1</th>\n",
       "      <td>4.9</td>\n",
       "      <td>3.0</td>\n",
       "      <td>1.4</td>\n",
       "      <td>0.2</td>\n",
       "      <td>Iris-setosa</td>\n",
       "    </tr>\n",
       "    <tr>\n",
       "      <th>2</th>\n",
       "      <td>4.7</td>\n",
       "      <td>3.2</td>\n",
       "      <td>1.3</td>\n",
       "      <td>0.2</td>\n",
       "      <td>Iris-setosa</td>\n",
       "    </tr>\n",
       "    <tr>\n",
       "      <th>3</th>\n",
       "      <td>4.6</td>\n",
       "      <td>3.1</td>\n",
       "      <td>1.5</td>\n",
       "      <td>0.2</td>\n",
       "      <td>Iris-setosa</td>\n",
       "    </tr>\n",
       "    <tr>\n",
       "      <th>4</th>\n",
       "      <td>5.0</td>\n",
       "      <td>3.6</td>\n",
       "      <td>1.4</td>\n",
       "      <td>0.2</td>\n",
       "      <td>Iris-setosa</td>\n",
       "    </tr>\n",
       "  </tbody>\n",
       "</table>\n",
       "</div>"
      ],
      "text/plain": [
       "   花萼長度  花萼寬度  花瓣長度  花瓣寬度           屬種\n",
       "0   5.1   3.5   1.4   0.2  Iris-setosa\n",
       "1   4.9   3.0   1.4   0.2  Iris-setosa\n",
       "2   4.7   3.2   1.3   0.2  Iris-setosa\n",
       "3   4.6   3.1   1.5   0.2  Iris-setosa\n",
       "4   5.0   3.6   1.4   0.2  Iris-setosa"
      ]
     },
     "execution_count": 3,
     "metadata": {},
     "output_type": "execute_result"
    }
   ],
   "source": [
    "import pandas as sigmo\n",
    "df = pd.read_csv(\"iris.csv\",encoding = \"big5\")\n",
    "df.head()"
   ]
  },
  {
   "cell_type": "markdown",
   "metadata": {},
   "source": [
    "### 切分訓練資料與測試資料"
   ]
  },
  {
   "cell_type": "code",
   "execution_count": 4,
   "metadata": {},
   "outputs": [
    {
     "data": {
      "text/html": [
       "<div>\n",
       "<style>\n",
       "    .dataframe thead tr:only-child th {\n",
       "        text-align: right;\n",
       "    }\n",
       "\n",
       "    .dataframe thead th {\n",
       "        text-align: left;\n",
       "    }\n",
       "\n",
       "    .dataframe tbody tr th {\n",
       "        vertical-align: top;\n",
       "    }\n",
       "</style>\n",
       "<table border=\"1\" class=\"dataframe\">\n",
       "  <thead>\n",
       "    <tr style=\"text-align: right;\">\n",
       "      <th></th>\n",
       "      <th>花萼長度</th>\n",
       "      <th>花萼寬度</th>\n",
       "    </tr>\n",
       "  </thead>\n",
       "  <tbody>\n",
       "    <tr>\n",
       "      <th>69</th>\n",
       "      <td>5.6</td>\n",
       "      <td>2.5</td>\n",
       "    </tr>\n",
       "    <tr>\n",
       "      <th>112</th>\n",
       "      <td>6.8</td>\n",
       "      <td>3.0</td>\n",
       "    </tr>\n",
       "    <tr>\n",
       "      <th>140</th>\n",
       "      <td>6.7</td>\n",
       "      <td>3.1</td>\n",
       "    </tr>\n",
       "    <tr>\n",
       "      <th>55</th>\n",
       "      <td>5.7</td>\n",
       "      <td>2.8</td>\n",
       "    </tr>\n",
       "    <tr>\n",
       "      <th>123</th>\n",
       "      <td>6.3</td>\n",
       "      <td>2.7</td>\n",
       "    </tr>\n",
       "  </tbody>\n",
       "</table>\n",
       "</div>"
      ],
      "text/plain": [
       "     花萼長度  花萼寬度\n",
       "69    5.6   2.5\n",
       "112   6.8   3.0\n",
       "140   6.7   3.1\n",
       "55    5.7   2.8\n",
       "123   6.3   2.7"
      ]
     },
     "execution_count": 4,
     "metadata": {},
     "output_type": "execute_result"
    }
   ],
   "source": [
    "from sklearn.model_selection import train_test_split\n",
    "X = df[['花萼長度','花萼寬度']]\n",
    "y = df['屬種']\n",
    "X_train, X_test, y_train, y_test = train_test_split(X,y, test_size = 0.3)\n",
    "X_train.head()"
   ]
  },
  {
   "cell_type": "markdown",
   "metadata": {},
   "source": [
    "### 標準化（Normalize）參數值"
   ]
  },
  {
   "cell_type": "code",
   "execution_count": 5,
   "metadata": {},
   "outputs": [
    {
     "data": {
      "text/plain": [
       "array([[-0.32863992, -1.25905001],\n",
       "       [ 1.13456255, -0.00715369],\n",
       "       [ 1.01262901,  0.24322557],\n",
       "       [-0.20670638, -0.50791222],\n",
       "       [ 0.52489485, -0.75829148],\n",
       "       [-0.572507  ,  0.99436336],\n",
       "       [-1.06024115,  0.49360483],\n",
       "       [-1.06024115,  0.99436336],\n",
       "       [-0.08477284, -1.00867074],\n",
       "       [-0.45057346, -1.50942927]])"
      ]
     },
     "execution_count": 5,
     "metadata": {},
     "output_type": "execute_result"
    }
   ],
   "source": [
    "from sklearn.preprocessing import StandardScaler\n",
    "sc = StandardScaler()\n",
    "sc.fit(X_train)\n",
    "X_train_nor = sc.transform(X_train)\n",
    "X_test_nor = sc.transform(X_test)\n",
    "X_train_nor[:10]"
   ]
  },
  {
   "cell_type": "markdown",
   "metadata": {},
   "source": [
    "### 訓練資料分類效果（使用兩個參數）"
   ]
  },
  {
   "cell_type": "code",
   "execution_count": 6,
   "metadata": {},
   "outputs": [
    {
     "data": {
      "image/png": "[encoded data removed]",
      "text/plain": [
       "<matplotlib.figure.Figure at 0x1101a12b0>"
      ]
     },
     "metadata": {},
     "output_type": "display_data"
    }
   ],
   "source": [
    "from sklearn.linear_model import LogisticRegression\n",
    "import matplotlib.patches as mpatches\n",
    "\n",
    "lr = LogisticRegression()\n",
    "lr.fit(X_train_nor, y_train)\n",
    "pred_y = lr.predict(X_train_nor)\n",
    "\n",
    "for i in range(len(X_train_nor)):\n",
    "    if(lr.predict(X_train_nor[i].reshape(1,-1))=='Iris-setosa'):\n",
    "        plt.plot(X_train['花萼長度'].reset_index(drop=True)[i],X_train['花萼寬度'].reset_index(drop=True)[i],'b.')\n",
    "    elif(lr.predict(X_train_nor[i].reshape(1,-1))=='Iris-versicolor'):\n",
    "        plt.plot(X_train['花萼長度'].reset_index(drop=True)[i],X_train['花萼寬度'].reset_index(drop=True)[i],'gx')\n",
    "    else:\n",
    "        plt.plot(X_train['花萼長度'].reset_index(drop=True)[i],X_train['花萼寬度'].reset_index(drop=True)[i],'r+')\n",
    "        \n",
    "# 標註（補丁patch）\n",
    "blue_patch = mpatches.Patch(color='blue', label='Iris-setosa')\n",
    "green_patch = mpatches.Patch(color='green', label='Iris-versicolor')\n",
    "red_patch = mpatches.Patch(color='red', label='Iris-virginica')\n",
    "plt.legend(handles=[blue_patch,green_patch,red_patch])        \n",
    "plt.show()"
   ]
  },
  {
   "cell_type": "markdown",
   "metadata": {},
   "source": [
    "### 分類效果測試（使用訓練好的model）"
   ]
  },
  {
   "cell_type": "code",
   "execution_count": 7,
   "metadata": {},
   "outputs": [
    {
     "data": {
      "image/png": "[encoded data removed]",
      "text/plain": [
       "<matplotlib.figure.Figure at 0x110950198>"
      ]
     },
     "metadata": {},
     "output_type": "display_data"
    }
   ],
   "source": [
    "for i in range(len(X_test_nor)):\n",
    "    if(lr.predict(X_test_nor[i].reshape(1,-1))=='Iris-setosa'):\n",
    "        plt.plot(X_test['花萼長度'].reset_index(drop=True)[i],X_test['花萼寬度'].reset_index(drop=True)[i],'b.')\n",
    "    elif(lr.predict(X_test_nor[i].reshape(1,-1))=='Iris-versicolor'):\n",
    "        plt.plot(X_test['花萼長度'].reset_index(drop=True)[i],X_test['花萼寬度'].reset_index(drop=True)[i],'gx')\n",
    "    else:\n",
    "        plt.plot(X_test['花萼長度'].reset_index(drop=True)[i],X_test['花萼寬度'].reset_index(drop=True)[i],'r+')\n",
    "        \n",
    "# 標註（補丁patch）\n",
    "blue_patch = mpatches.Patch(color='blue', label='Iris-setosa')\n",
    "green_patch = mpatches.Patch(color='green', label='Iris-versicolor')\n",
    "red_patch = mpatches.Patch(color='red', label='Iris-virginica')\n",
    "plt.legend(handles=[blue_patch,green_patch,red_patch])  \n",
    "plt.show()"
   ]
  },
  {
   "cell_type": "markdown",
   "metadata": {},
   "source": [
    "### 視覺化混淆矩陣函式（from sklearn官網）"
   ]
  },
  {
   "cell_type": "code",
   "execution_count": 8,
   "metadata": {
    "collapsed": true
   },
   "outputs": [],
   "source": [
    "def plot_confusion_matrix(cm, classes,\n",
    "                          normalize=False,\n",
    "                          title='Confusion matrix',\n",
    "                          cmap=plt.cm.Blues):\n",
    "    \"\"\"\n",
    "    This function prints and plots the confusion matrix.\n",
    "    Normalization can be applied by setting `normalize=True`.\n",
    "    \"\"\"\n",
    "    plt.imshow(cm, interpolation='nearest', cmap=cmap)\n",
    "    plt.title(title)\n",
    "    plt.colorbar()\n",
    "    tick_marks = np.arange(len(classes))\n",
    "    plt.xticks(tick_marks, classes, rotation=45)\n",
    "    plt.yticks(tick_marks, classes)\n",
    "\n",
    "    if normalize:\n",
    "        cm = cm.astype('float') / cm.sum(axis=1)[:, np.newaxis]\n",
    "        print(\"Normalized confusion matrix\")\n",
    "    else:\n",
    "        print('Confusion matrix, without normalization')\n",
    "\n",
    "    print(cm)\n",
    "\n",
    "    thresh = cm.max() / 2.\n",
    "    for i, j in itertools.product(range(cm.shape[0]), range(cm.shape[1])):\n",
    "        plt.text(j, i, cm[i, j],\n",
    "                 horizontalalignment=\"center\",\n",
    "                 color=\"white\" if cm[i, j] > thresh else \"black\")\n",
    "\n",
    "    plt.tight_layout()\n",
    "    plt.ylabel('True label')\n",
    "    plt.xlabel('Predicted label')\n",
    "    \n",
    "#Source code from: http://scikit-learn.org/stable/auto_examples/model_selection/plot_confusion_matrix.html#sphx-glr-auto-examples-model-selection-plot-confusion-matrix-py"
   ]
  },
  {
   "cell_type": "markdown",
   "metadata": {},
   "source": [
    "### 機率分類判斷"
   ]
  },
  {
   "cell_type": "code",
   "execution_count": 9,
   "metadata": {},
   "outputs": [
    {
     "data": {
      "text/plain": [
       "array([[ 0.899,  0.082,  0.019],\n",
       "       [ 0.499,  0.163,  0.339],\n",
       "       [ 0.01 ,  0.466,  0.525],\n",
       "       [ 0.014,  0.488,  0.498],\n",
       "       [ 0.649,  0.316,  0.035],\n",
       "       [ 0.649,  0.316,  0.035],\n",
       "       [ 0.002,  0.565,  0.433],\n",
       "       [ 0.06 ,  0.198,  0.742],\n",
       "       [ 0.699,  0.289,  0.012],\n",
       "       [ 0.855,  0.102,  0.043],\n",
       "       [ 0.066,  0.516,  0.418],\n",
       "       [ 0.181,  0.788,  0.031],\n",
       "       [ 0.835,  0.022,  0.143],\n",
       "       [ 0.002,  0.279,  0.719],\n",
       "       [ 0.838,  0.132,  0.03 ],\n",
       "       [ 0.729,  0.25 ,  0.022],\n",
       "       [ 0.011,  0.331,  0.657],\n",
       "       [ 0.695,  0.263,  0.042],\n",
       "       [ 0.602,  0.342,  0.056],\n",
       "       [ 0.027,  0.537,  0.436],\n",
       "       [ 0.932,  0.019,  0.049],\n",
       "       [ 0.013,  0.214,  0.773],\n",
       "       [ 0.889,  0.007,  0.104],\n",
       "       [ 0.021,  0.597,  0.382],\n",
       "       [ 0.057,  0.078,  0.864],\n",
       "       [ 0.06 ,  0.198,  0.742],\n",
       "       [ 0.02 ,  0.287,  0.693],\n",
       "       [ 0.093,  0.278,  0.629],\n",
       "       [ 0.001,  0.617,  0.382],\n",
       "       [ 0.872,  0.058,  0.07 ],\n",
       "       [ 0.022,  0.364,  0.614],\n",
       "       [ 0.891,  0.032,  0.077],\n",
       "       [ 0.694,  0.292,  0.014],\n",
       "       [ 0.017,  0.427,  0.556],\n",
       "       [ 0.034,  0.765,  0.201],\n",
       "       [ 0.107,  0.791,  0.102],\n",
       "       [ 0.07 ,  0.606,  0.324],\n",
       "       [ 0.858,  0.057,  0.084],\n",
       "       [ 0.813,  0.132,  0.055],\n",
       "       [ 0.846,  0.102,  0.052],\n",
       "       [ 0.019,  0.512,  0.469],\n",
       "       [ 0.007,  0.2  ,  0.793],\n",
       "       [ 0.906,  0.013,  0.081],\n",
       "       [ 0.018,  0.222,  0.76 ],\n",
       "       [ 0.067,  0.266,  0.667]])"
      ]
     },
     "execution_count": 9,
     "metadata": {},
     "output_type": "execute_result"
    }
   ],
   "source": [
    "import numpy as np\n",
    "np.round(lr.predict_proba(X_test_nor),3)"
   ]
  },
  {
   "cell_type": "markdown",
   "metadata": {},
   "source": [
    "### Evaluation：Confusion Metrics（混淆矩陣）"
   ]
  },
  {
   "cell_type": "code",
   "execution_count": 10,
   "metadata": {},
   "outputs": [
    {
     "name": "stdout",
     "output_type": "stream",
     "text": [
      "[[19  1  0]\n",
      " [ 1  6  3]\n",
      " [ 0  3 12]]\n"
     ]
    }
   ],
   "source": [
    "from sklearn.metrics import confusion_matrix\n",
    "cnf_matrix = confusion_matrix(y_test, lr.predict(X_test_nor))\n",
    "print (cnf_matrix)"
   ]
  },
  {
   "cell_type": "code",
   "execution_count": 11,
   "metadata": {},
   "outputs": [
    {
     "name": "stdout",
     "output_type": "stream",
     "text": [
      "Confusion matrix, without normalization\n",
      "[[19  1  0]\n",
      " [ 1  6  3]\n",
      " [ 0  3 12]]\n"
     ]
    },
    {
     "data": {
      "image/png": "[encoded data removed]",
      "text/plain": [
       "<matplotlib.figure.Figure at 0x110ae00b8>"
      ]
     },
     "metadata": {},
     "output_type": "display_data"
    }
   ],
   "source": [
    "import itertools\n",
    "target_names = ['Iris-setosa', 'Iris-versicolor', 'Iris-virginica']\n",
    "plot_confusion_matrix(cnf_matrix, classes=target_names, title='Confusion matrix, without normalization')\n",
    "\n",
    "plt.show()"
   ]
  },
  {
   "cell_type": "code",
   "execution_count": 12,
   "metadata": {},
   "outputs": [
    {
     "name": "stdout",
     "output_type": "stream",
     "text": [
      "                 precision    recall  f1-score   support\n",
      "\n",
      "    Iris-setosa       0.95      0.95      0.95        20\n",
      "Iris-versicolor       0.60      0.60      0.60        10\n",
      " Iris-virginica       0.80      0.80      0.80        15\n",
      "\n",
      "    avg / total       0.82      0.82      0.82        45\n",
      "\n"
     ]
    }
   ],
   "source": [
    "from sklearn.metrics import classification_report\n",
    "\n",
    "print(classification_report(y_test, lr.predict(X_test_nor), target_names=target_names))"
   ]
  },
  {
   "cell_type": "code",
   "execution_count": null,
   "metadata": {
    "collapsed": true
   },
   "outputs": [],
   "source": []
  }
 ],
 "metadata": {
  "kernelspec": {
   "display_name": "Python 3",
   "language": "python",
   "name": "python3"
  },
  "language_info": {
   "codemirror_mode": {
    "name": "ipython",
    "version": 3
   },
   "file_extension": ".py",
   "mimetype": "text/x-python",
   "name": "python",
   "nbconvert_exporter": "python",
   "pygments_lexer": "ipython3",
   "version": "3.7.2"
  }
 },
 "nbformat": 4,
 "nbformat_minor": 1
}
