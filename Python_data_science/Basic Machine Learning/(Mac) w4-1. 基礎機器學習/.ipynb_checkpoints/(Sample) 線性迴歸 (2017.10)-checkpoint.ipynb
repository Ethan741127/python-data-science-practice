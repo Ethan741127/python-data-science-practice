{
 "cells": [
  {
   "cell_type": "markdown",
   "metadata": {},
   "source": [
    "## 相關性分析"
   ]
  },
  {
   "cell_type": "code",
   "execution_count": 1,
   "metadata": {},
   "outputs": [
    {
     "data": {
      "text/html": [
       "<div>\n",
       "<style>\n",
       "    .dataframe thead tr:only-child th {\n",
       "        text-align: right;\n",
       "    }\n",
       "\n",
       "    .dataframe thead th {\n",
       "        text-align: left;\n",
       "    }\n",
       "\n",
       "    .dataframe tbody tr th {\n",
       "        vertical-align: top;\n",
       "    }\n",
       "</style>\n",
       "<table border=\"1\" class=\"dataframe\">\n",
       "  <thead>\n",
       "    <tr style=\"text-align: right;\">\n",
       "      <th></th>\n",
       "      <th>建物移轉總面積平方公尺</th>\n",
       "      <th>建物現況格局-房</th>\n",
       "      <th>建物現況格局-廳</th>\n",
       "      <th>建物現況格局-衛</th>\n",
       "      <th>總價元</th>\n",
       "    </tr>\n",
       "  </thead>\n",
       "  <tbody>\n",
       "    <tr>\n",
       "      <th>0</th>\n",
       "      <td>133.85</td>\n",
       "      <td>3</td>\n",
       "      <td>2</td>\n",
       "      <td>2</td>\n",
       "      <td>13600000</td>\n",
       "    </tr>\n",
       "    <tr>\n",
       "      <th>1</th>\n",
       "      <td>74.08</td>\n",
       "      <td>0</td>\n",
       "      <td>2</td>\n",
       "      <td>1</td>\n",
       "      <td>19700000</td>\n",
       "    </tr>\n",
       "    <tr>\n",
       "      <th>2</th>\n",
       "      <td>109.87</td>\n",
       "      <td>3</td>\n",
       "      <td>2</td>\n",
       "      <td>2</td>\n",
       "      <td>12550000</td>\n",
       "    </tr>\n",
       "    <tr>\n",
       "      <th>3</th>\n",
       "      <td>50.02</td>\n",
       "      <td>1</td>\n",
       "      <td>1</td>\n",
       "      <td>1</td>\n",
       "      <td>9800000</td>\n",
       "    </tr>\n",
       "    <tr>\n",
       "      <th>4</th>\n",
       "      <td>81.38</td>\n",
       "      <td>3</td>\n",
       "      <td>2</td>\n",
       "      <td>2</td>\n",
       "      <td>15800000</td>\n",
       "    </tr>\n",
       "    <tr>\n",
       "      <th>5</th>\n",
       "      <td>23.01</td>\n",
       "      <td>0</td>\n",
       "      <td>0</td>\n",
       "      <td>0</td>\n",
       "      <td>3150000</td>\n",
       "    </tr>\n",
       "    <tr>\n",
       "      <th>6</th>\n",
       "      <td>0.00</td>\n",
       "      <td>0</td>\n",
       "      <td>0</td>\n",
       "      <td>0</td>\n",
       "      <td>3322200</td>\n",
       "    </tr>\n",
       "    <tr>\n",
       "      <th>7</th>\n",
       "      <td>129.84</td>\n",
       "      <td>3</td>\n",
       "      <td>2</td>\n",
       "      <td>2</td>\n",
       "      <td>17000000</td>\n",
       "    </tr>\n",
       "    <tr>\n",
       "      <th>8</th>\n",
       "      <td>156.72</td>\n",
       "      <td>3</td>\n",
       "      <td>2</td>\n",
       "      <td>2</td>\n",
       "      <td>27230000</td>\n",
       "    </tr>\n",
       "    <tr>\n",
       "      <th>9</th>\n",
       "      <td>279.71</td>\n",
       "      <td>4</td>\n",
       "      <td>2</td>\n",
       "      <td>2</td>\n",
       "      <td>28200000</td>\n",
       "    </tr>\n",
       "  </tbody>\n",
       "</table>\n",
       "</div>"
      ],
      "text/plain": [
       "   建物移轉總面積平方公尺  建物現況格局-房  建物現況格局-廳  建物現況格局-衛       總價元\n",
       "0       133.85         3         2         2  13600000\n",
       "1        74.08         0         2         1  19700000\n",
       "2       109.87         3         2         2  12550000\n",
       "3        50.02         1         1         1   9800000\n",
       "4        81.38         3         2         2  15800000\n",
       "5        23.01         0         0         0   3150000\n",
       "6         0.00         0         0         0   3322200\n",
       "7       129.84         3         2         2  17000000\n",
       "8       156.72         3         2         2  27230000\n",
       "9       279.71         4         2         2  28200000"
      ]
     },
     "execution_count": 1,
     "metadata": {},
     "output_type": "execute_result"
    }
   ],
   "source": [
    "import pandas as pd\n",
    "import numpy as np\n",
    "import matplotlib.pyplot as plt\n",
    "\n",
    "%matplotlib inline\n",
    "\n",
    "plt.rcParams['font.family']='SimHei' #顯示中文\n",
    "\n",
    "# 政府開放資料平台 - 不動產買賣實價登錄批次資料（http://data.gov.tw/node/6213）\n",
    "df = pd.read_csv('A_LVR_LAND_A.csv', encoding='big5')\n",
    "df[:10]"
   ]
  },
  {
   "cell_type": "code",
   "execution_count": 2,
   "metadata": {},
   "outputs": [
    {
     "data": {
      "text/html": [
       "<div>\n",
       "<style>\n",
       "    .dataframe thead tr:only-child th {\n",
       "        text-align: right;\n",
       "    }\n",
       "\n",
       "    .dataframe thead th {\n",
       "        text-align: left;\n",
       "    }\n",
       "\n",
       "    .dataframe tbody tr th {\n",
       "        vertical-align: top;\n",
       "    }\n",
       "</style>\n",
       "<table border=\"1\" class=\"dataframe\">\n",
       "  <thead>\n",
       "    <tr style=\"text-align: right;\">\n",
       "      <th></th>\n",
       "      <th>建物移轉總面積平方公尺</th>\n",
       "      <th>建物現況格局-房</th>\n",
       "      <th>建物現況格局-廳</th>\n",
       "      <th>建物現況格局-衛</th>\n",
       "      <th>總價元</th>\n",
       "    </tr>\n",
       "  </thead>\n",
       "  <tbody>\n",
       "    <tr>\n",
       "      <th>建物移轉總面積平方公尺</th>\n",
       "      <td>1.000000</td>\n",
       "      <td>0.195329</td>\n",
       "      <td>0.159584</td>\n",
       "      <td>0.303817</td>\n",
       "      <td>0.627678</td>\n",
       "    </tr>\n",
       "    <tr>\n",
       "      <th>建物現況格局-房</th>\n",
       "      <td>0.195329</td>\n",
       "      <td>1.000000</td>\n",
       "      <td>0.343025</td>\n",
       "      <td>0.503330</td>\n",
       "      <td>0.142180</td>\n",
       "    </tr>\n",
       "    <tr>\n",
       "      <th>建物現況格局-廳</th>\n",
       "      <td>0.159584</td>\n",
       "      <td>0.343025</td>\n",
       "      <td>1.000000</td>\n",
       "      <td>0.672597</td>\n",
       "      <td>0.089311</td>\n",
       "    </tr>\n",
       "    <tr>\n",
       "      <th>建物現況格局-衛</th>\n",
       "      <td>0.303817</td>\n",
       "      <td>0.503330</td>\n",
       "      <td>0.672597</td>\n",
       "      <td>1.000000</td>\n",
       "      <td>0.284548</td>\n",
       "    </tr>\n",
       "    <tr>\n",
       "      <th>總價元</th>\n",
       "      <td>0.627678</td>\n",
       "      <td>0.142180</td>\n",
       "      <td>0.089311</td>\n",
       "      <td>0.284548</td>\n",
       "      <td>1.000000</td>\n",
       "    </tr>\n",
       "  </tbody>\n",
       "</table>\n",
       "</div>"
      ],
      "text/plain": [
       "             建物移轉總面積平方公尺  建物現況格局-房  建物現況格局-廳  建物現況格局-衛       總價元\n",
       "建物移轉總面積平方公尺     1.000000  0.195329  0.159584  0.303817  0.627678\n",
       "建物現況格局-房        0.195329  1.000000  0.343025  0.503330  0.142180\n",
       "建物現況格局-廳        0.159584  0.343025  1.000000  0.672597  0.089311\n",
       "建物現況格局-衛        0.303817  0.503330  0.672597  1.000000  0.284548\n",
       "總價元             0.627678  0.142180  0.089311  0.284548  1.000000"
      ]
     },
     "execution_count": 2,
     "metadata": {},
     "output_type": "execute_result"
    }
   ],
   "source": [
    "df.corr()"
   ]
  },
  {
   "cell_type": "code",
   "execution_count": 3,
   "metadata": {},
   "outputs": [
    {
     "data": {
      "text/plain": [
       "<matplotlib.axes._subplots.AxesSubplot at 0x10e0de550>"
      ]
     },
     "execution_count": 3,
     "metadata": {},
     "output_type": "execute_result"
    },
    {
     "data": {
      "image/png": "[encoded data removed]",
      "text/plain": [
       "<matplotlib.figure.Figure at 0x10e0debe0>"
      ]
     },
     "metadata": {},
     "output_type": "display_data"
    }
   ],
   "source": [
    "plt.rcParams['axes.unicode_minus']=False #正常顯示負號\n",
    "df.plot(kind='scatter',title='散佈圖（高度正相關）',figsize=(6,4),x='建物移轉總面積平方公尺',y='總價元',marker='+')"
   ]
  },
  {
   "cell_type": "markdown",
   "metadata": {},
   "source": [
    "## 資料預處理"
   ]
  },
  {
   "cell_type": "code",
   "execution_count": 4,
   "metadata": {},
   "outputs": [
    {
     "data": {
      "text/plain": [
       "<matplotlib.axes._subplots.AxesSubplot at 0x10e144ac8>"
      ]
     },
     "execution_count": 4,
     "metadata": {},
     "output_type": "execute_result"
    },
    {
     "data": {
      "image/png": "[encoded data removed]",
      "text/plain": [
       "<matplotlib.figure.Figure at 0x10e19b4e0>"
      ]
     },
     "metadata": {},
     "output_type": "display_data"
    }
   ],
   "source": [
    "df = df[df['建物移轉總面積平方公尺']>0]\n",
    "df = df[df['建物移轉總面積平方公尺']<1000]\n",
    "df = df[df['總價元']>0]/10000\n",
    "df.plot(kind='scatter',title='散佈圖（高度正相關）',figsize=(6,4),x='建物移轉總面積平方公尺',y='總價元',marker='+')"
   ]
  },
  {
   "cell_type": "markdown",
   "metadata": {},
   "source": [
    "## 簡單線性迴歸\n",
    "### 切分訓練及測試資料 (1 feature)"
   ]
  },
  {
   "cell_type": "code",
   "execution_count": 5,
   "metadata": {},
   "outputs": [
    {
     "data": {
      "text/html": [
       "<div>\n",
       "<style>\n",
       "    .dataframe thead tr:only-child th {\n",
       "        text-align: right;\n",
       "    }\n",
       "\n",
       "    .dataframe thead th {\n",
       "        text-align: left;\n",
       "    }\n",
       "\n",
       "    .dataframe tbody tr th {\n",
       "        vertical-align: top;\n",
       "    }\n",
       "</style>\n",
       "<table border=\"1\" class=\"dataframe\">\n",
       "  <thead>\n",
       "    <tr style=\"text-align: right;\">\n",
       "      <th></th>\n",
       "      <th>建物移轉總面積平方公尺</th>\n",
       "    </tr>\n",
       "  </thead>\n",
       "  <tbody>\n",
       "    <tr>\n",
       "      <th>641</th>\n",
       "      <td>0.003740</td>\n",
       "    </tr>\n",
       "    <tr>\n",
       "      <th>176</th>\n",
       "      <td>0.006765</td>\n",
       "    </tr>\n",
       "    <tr>\n",
       "      <th>165</th>\n",
       "      <td>0.014001</td>\n",
       "    </tr>\n",
       "    <tr>\n",
       "      <th>373</th>\n",
       "      <td>0.007430</td>\n",
       "    </tr>\n",
       "    <tr>\n",
       "      <th>98</th>\n",
       "      <td>0.026954</td>\n",
       "    </tr>\n",
       "  </tbody>\n",
       "</table>\n",
       "</div>"
      ],
      "text/plain": [
       "     建物移轉總面積平方公尺\n",
       "641     0.003740\n",
       "176     0.006765\n",
       "165     0.014001\n",
       "373     0.007430\n",
       "98      0.026954"
      ]
     },
     "execution_count": 5,
     "metadata": {},
     "output_type": "execute_result"
    }
   ],
   "source": [
    "from sklearn.model_selection import train_test_split\n",
    "X = df[['建物移轉總面積平方公尺']]\n",
    "y = df[['總價元']]\n",
    "X_train, X_test, y_train, y_test = train_test_split(X,y, test_size = 0.3) # 30% for testing, 70% for training\n",
    "X_train.head()"
   ]
  },
  {
   "cell_type": "code",
   "execution_count": 6,
   "metadata": {},
   "outputs": [
    {
     "name": "stdout",
     "output_type": "stream",
     "text": [
      "各變項參數: \n",
      " [[ 218015.59924231]]\n",
      "均方誤差 (Mean squared error, MSE): 2529918.48\n"
     ]
    },
    {
     "data": {
      "image/png": "[encoded data removed]",
      "text/plain": [
       "<matplotlib.figure.Figure at 0x11048bb70>"
      ]
     },
     "metadata": {},
     "output_type": "display_data"
    }
   ],
   "source": [
    "import matplotlib.pyplot as plt\n",
    "import numpy as np\n",
    "from sklearn import datasets, linear_model\n",
    "plt.style.use('ggplot')\n",
    "\n",
    "# linear regression 物件\n",
    "regr = linear_model.LinearRegression()\n",
    "\n",
    "# 訓練模型\n",
    "regr.fit(X_train, y_train)\n",
    "\n",
    "print('各變項參數: \\n', regr.coef_)\n",
    "print(\"均方誤差 (Mean squared error, MSE): %.2f\" % np.mean((regr.predict(X_test) - y_test) ** 2))\n",
    "\n",
    "plt.scatter(X_test, y_test,  color='blue', marker = 'x')\n",
    "plt.plot(X_test, regr.predict(X_test), color='green', linewidth=1)\n",
    "\n",
    "plt.ylabel('總價元(10K)')\n",
    "plt.xlabel('建物移轉總面積平方公尺')\n",
    "\n",
    "plt.show()"
   ]
  },
  {
   "cell_type": "markdown",
   "metadata": {},
   "source": [
    "## 多變項線性迴歸\n",
    "### 切分訓練及測試資料 (2 features)"
   ]
  },
  {
   "cell_type": "code",
   "execution_count": 7,
   "metadata": {},
   "outputs": [
    {
     "data": {
      "text/html": [
       "<div>\n",
       "<style>\n",
       "    .dataframe thead tr:only-child th {\n",
       "        text-align: right;\n",
       "    }\n",
       "\n",
       "    .dataframe thead th {\n",
       "        text-align: left;\n",
       "    }\n",
       "\n",
       "    .dataframe tbody tr th {\n",
       "        vertical-align: top;\n",
       "    }\n",
       "</style>\n",
       "<table border=\"1\" class=\"dataframe\">\n",
       "  <thead>\n",
       "    <tr style=\"text-align: right;\">\n",
       "      <th></th>\n",
       "      <th>建物移轉總面積平方公尺</th>\n",
       "      <th>建物現況格局-衛</th>\n",
       "    </tr>\n",
       "  </thead>\n",
       "  <tbody>\n",
       "    <tr>\n",
       "      <th>595</th>\n",
       "      <td>0.024041</td>\n",
       "      <td>0.0002</td>\n",
       "    </tr>\n",
       "    <tr>\n",
       "      <th>30</th>\n",
       "      <td>0.012351</td>\n",
       "      <td>0.0007</td>\n",
       "    </tr>\n",
       "    <tr>\n",
       "      <th>28</th>\n",
       "      <td>0.007983</td>\n",
       "      <td>0.0002</td>\n",
       "    </tr>\n",
       "    <tr>\n",
       "      <th>1</th>\n",
       "      <td>0.007408</td>\n",
       "      <td>0.0001</td>\n",
       "    </tr>\n",
       "    <tr>\n",
       "      <th>239</th>\n",
       "      <td>0.006226</td>\n",
       "      <td>0.0000</td>\n",
       "    </tr>\n",
       "  </tbody>\n",
       "</table>\n",
       "</div>"
      ],
      "text/plain": [
       "     建物移轉總面積平方公尺  建物現況格局-衛\n",
       "595     0.024041    0.0002\n",
       "30      0.012351    0.0007\n",
       "28      0.007983    0.0002\n",
       "1       0.007408    0.0001\n",
       "239     0.006226    0.0000"
      ]
     },
     "execution_count": 7,
     "metadata": {},
     "output_type": "execute_result"
    }
   ],
   "source": [
    "from sklearn.model_selection import train_test_split\n",
    "X = df[['建物移轉總面積平方公尺','建物現況格局-衛']]\n",
    "y = df[['總價元']]\n",
    "X_train, X_test, y_train, y_test = train_test_split(X,y, test_size = 0.3) # 30% for testing, 70% for training\n",
    "X_train.head()"
   ]
  },
  {
   "cell_type": "markdown",
   "metadata": {},
   "source": [
    "### 標準化 (Normalize)"
   ]
  },
  {
   "cell_type": "code",
   "execution_count": 8,
   "metadata": {},
   "outputs": [
    {
     "data": {
      "text/plain": [
       "array([[ 0.8776597 ,  0.57503562],\n",
       "       [-0.11174249,  5.7554226 ],\n",
       "       [-0.48143529,  0.57503562],\n",
       "       [-0.53010135, -0.46104178],\n",
       "       [-0.63014185, -1.49711917],\n",
       "       [ 0.01089598,  0.57503562],\n",
       "       [-0.42388238, -0.46104178],\n",
       "       [ 3.5647034 ,  1.61111302],\n",
       "       [-0.85883002, -1.49711917],\n",
       "       [-0.06316107,  0.57503562]])"
      ]
     },
     "execution_count": 8,
     "metadata": {},
     "output_type": "execute_result"
    }
   ],
   "source": [
    "from sklearn.preprocessing import StandardScaler\n",
    "sc = StandardScaler()\n",
    "sc.fit(X_train)\n",
    "X_train_nor = sc.transform(X_train)\n",
    "X_test_nor = sc.transform(X_test)\n",
    "X_train_nor[:10]"
   ]
  },
  {
   "cell_type": "code",
   "execution_count": 9,
   "metadata": {},
   "outputs": [
    {
     "name": "stdout",
     "output_type": "stream",
     "text": [
      "各變項參數(normalized): \n",
      " [[ 2890.89940423  -320.30098111]]\n",
      "均方誤差 (Mean squared error, MSE): 1652232.06\n"
     ]
    }
   ],
   "source": [
    "import matplotlib.pyplot as plt\n",
    "import numpy as np\n",
    "from sklearn import datasets, linear_model\n",
    "plt.style.use('ggplot')\n",
    "\n",
    "# linear regression 物件\n",
    "regr = linear_model.LinearRegression()\n",
    "\n",
    "# 訓練模型\n",
    "regr.fit(X_train_nor, y_train)\n",
    "\n",
    "print('各變項參數(normalized): \\n', regr.coef_)\n",
    "print(\"均方誤差 (Mean squared error, MSE): %.2f\" % np.mean((regr.predict(X_test_nor) - y_test) ** 2))"
   ]
  },
  {
   "cell_type": "markdown",
   "metadata": {},
   "source": [
    "## 多項式(Polynomial) 非線性迴歸\n",
    "### 切分訓練及測試資料 (1 feature)"
   ]
  },
  {
   "cell_type": "code",
   "execution_count": 10,
   "metadata": {},
   "outputs": [
    {
     "data": {
      "text/html": [
       "<div>\n",
       "<style>\n",
       "    .dataframe thead tr:only-child th {\n",
       "        text-align: right;\n",
       "    }\n",
       "\n",
       "    .dataframe thead th {\n",
       "        text-align: left;\n",
       "    }\n",
       "\n",
       "    .dataframe tbody tr th {\n",
       "        vertical-align: top;\n",
       "    }\n",
       "</style>\n",
       "<table border=\"1\" class=\"dataframe\">\n",
       "  <thead>\n",
       "    <tr style=\"text-align: right;\">\n",
       "      <th></th>\n",
       "      <th>建物移轉總面積平方公尺</th>\n",
       "    </tr>\n",
       "  </thead>\n",
       "  <tbody>\n",
       "    <tr>\n",
       "      <th>256</th>\n",
       "      <td>0.008325</td>\n",
       "    </tr>\n",
       "    <tr>\n",
       "      <th>94</th>\n",
       "      <td>0.008961</td>\n",
       "    </tr>\n",
       "    <tr>\n",
       "      <th>144</th>\n",
       "      <td>0.005526</td>\n",
       "    </tr>\n",
       "    <tr>\n",
       "      <th>525</th>\n",
       "      <td>0.030276</td>\n",
       "    </tr>\n",
       "    <tr>\n",
       "      <th>522</th>\n",
       "      <td>0.010292</td>\n",
       "    </tr>\n",
       "  </tbody>\n",
       "</table>\n",
       "</div>"
      ],
      "text/plain": [
       "     建物移轉總面積平方公尺\n",
       "256     0.008325\n",
       "94      0.008961\n",
       "144     0.005526\n",
       "525     0.030276\n",
       "522     0.010292"
      ]
     },
     "execution_count": 10,
     "metadata": {},
     "output_type": "execute_result"
    }
   ],
   "source": [
    "from sklearn.model_selection import train_test_split\n",
    "X = df[['建物移轉總面積平方公尺']]\n",
    "y = df[['總價元']]\n",
    "X_train, X_test, y_train, y_test = train_test_split(X,y, test_size = 0.3) # 30% for testing, 70% for training\n",
    "X_train.head()"
   ]
  },
  {
   "cell_type": "markdown",
   "metadata": {},
   "source": [
    "### 創造高維變項"
   ]
  },
  {
   "cell_type": "code",
   "execution_count": 11,
   "metadata": {},
   "outputs": [
    {
     "name": "stdout",
     "output_type": "stream",
     "text": [
      "各變項參數: \n",
      " [[      0.          187891.76724137  465915.28336118]]\n",
      "均方誤差 (Mean squared error, MSE): 1017553.76\n"
     ]
    },
    {
     "data": {
      "image/png": "[encoded data removed]",
      "text/plain": [
       "<matplotlib.figure.Figure at 0x10e0c0c88>"
      ]
     },
     "metadata": {},
     "output_type": "display_data"
    }
   ],
   "source": [
    "import matplotlib.pyplot as plt\n",
    "import numpy as np\n",
    "from sklearn import datasets, linear_model\n",
    "from sklearn.preprocessing import PolynomialFeatures\n",
    "plt.style.use('ggplot')\n",
    "\n",
    "quadratic = PolynomialFeatures(degree=2)\n",
    "X_train_raw = X_train.copy() #原始X_train\n",
    "X_test_raw = X_test.copy() #原始X_test\n",
    "X_train = quadratic.fit_transform(X_train_raw) #產生x^0, x^1, x^2\n",
    "X_test = quadratic.fit_transform(X_test_raw) #產生x^0, x^1, x^2\n",
    "\n",
    "X_fit = pd.DataFrame(np.arange(0,0.1,0.001))\n",
    "\n",
    "# linear regression 物件\n",
    "regr = linear_model.LinearRegression()\n",
    "\n",
    "# 訓練模型\n",
    "regr.fit(X_train, y_train)\n",
    "\n",
    "print('各變項參數: \\n', regr.coef_)\n",
    "print(\"均方誤差 (Mean squared error, MSE): %.2f\" % np.mean((regr.predict(X_test) - y_test) ** 2))\n",
    "\n",
    "# Plot outputs\n",
    "plt.scatter(X_test_raw, y_test,  color='blue', marker = 'x')\n",
    "plt.plot(X_fit, regr.predict(quadratic.fit_transform(X_fit)), color='green', linewidth=1)\n",
    "\n",
    "plt.show()"
   ]
  },
  {
   "cell_type": "code",
   "execution_count": null,
   "metadata": {
    "collapsed": true
   },
   "outputs": [],
   "source": []
  }
 ],
 "metadata": {
  "anaconda-cloud": {},
  "kernelspec": {
   "display_name": "Python 3",
   "language": "python",
   "name": "python3"
  },
  "language_info": {
   "codemirror_mode": {
    "name": "ipython",
    "version": 3
   },
   "file_extension": ".py",
   "mimetype": "text/x-python",
   "name": "python",
   "nbconvert_exporter": "python",
   "pygments_lexer": "ipython3",
   "version": "3.7.2"
  }
 },
 "nbformat": 4,
 "nbformat_minor": 1
}
