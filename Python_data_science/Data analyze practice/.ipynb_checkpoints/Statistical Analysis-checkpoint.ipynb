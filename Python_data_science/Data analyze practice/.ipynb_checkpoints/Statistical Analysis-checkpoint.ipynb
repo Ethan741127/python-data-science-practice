{
 "cells": [
  {
   "cell_type": "code",
   "execution_count": 1,
   "metadata": {},
   "outputs": [
    {
     "data": {
      "text/html": [
       "<div>\n",
       "<style scoped>\n",
       "    .dataframe tbody tr th:only-of-type {\n",
       "        vertical-align: middle;\n",
       "    }\n",
       "\n",
       "    .dataframe tbody tr th {\n",
       "        vertical-align: top;\n",
       "    }\n",
       "\n",
       "    .dataframe thead th {\n",
       "        text-align: right;\n",
       "    }\n",
       "</style>\n",
       "<table border=\"1\" class=\"dataframe\">\n",
       "  <thead>\n",
       "    <tr style=\"text-align: right;\">\n",
       "      <th></th>\n",
       "      <th>A</th>\n",
       "      <th>B</th>\n",
       "      <th>C</th>\n",
       "      <th>D</th>\n",
       "    </tr>\n",
       "  </thead>\n",
       "  <tbody>\n",
       "    <tr>\n",
       "      <th>bar1</th>\n",
       "      <td>0.042061</td>\n",
       "      <td>0.040942</td>\n",
       "      <td>0.852589</td>\n",
       "      <td>0.268457</td>\n",
       "    </tr>\n",
       "    <tr>\n",
       "      <th>bar2</th>\n",
       "      <td>0.979568</td>\n",
       "      <td>0.703964</td>\n",
       "      <td>0.899189</td>\n",
       "      <td>0.441009</td>\n",
       "    </tr>\n",
       "    <tr>\n",
       "      <th>bar3</th>\n",
       "      <td>0.225860</td>\n",
       "      <td>0.750727</td>\n",
       "      <td>0.205947</td>\n",
       "      <td>0.448458</td>\n",
       "    </tr>\n",
       "    <tr>\n",
       "      <th>bar4</th>\n",
       "      <td>0.765536</td>\n",
       "      <td>0.327826</td>\n",
       "      <td>0.815762</td>\n",
       "      <td>0.316089</td>\n",
       "    </tr>\n",
       "    <tr>\n",
       "      <th>bar5</th>\n",
       "      <td>0.139843</td>\n",
       "      <td>0.591814</td>\n",
       "      <td>0.096254</td>\n",
       "      <td>0.121108</td>\n",
       "    </tr>\n",
       "    <tr>\n",
       "      <th>bar6</th>\n",
       "      <td>0.192954</td>\n",
       "      <td>0.079166</td>\n",
       "      <td>0.631272</td>\n",
       "      <td>0.474136</td>\n",
       "    </tr>\n",
       "  </tbody>\n",
       "</table>\n",
       "</div>"
      ],
      "text/plain": [
       "             A         B         C         D\n",
       "bar1  0.042061  0.040942  0.852589  0.268457\n",
       "bar2  0.979568  0.703964  0.899189  0.441009\n",
       "bar3  0.225860  0.750727  0.205947  0.448458\n",
       "bar4  0.765536  0.327826  0.815762  0.316089\n",
       "bar5  0.139843  0.591814  0.096254  0.121108\n",
       "bar6  0.192954  0.079166  0.631272  0.474136"
      ]
     },
     "execution_count": 1,
     "metadata": {},
     "output_type": "execute_result"
    }
   ],
   "source": [
    "import matplotlib.pyplot as plt\n",
    "import pandas as pd\n",
    "import numpy as np\n",
    "plt.style.use('ggplot')\n",
    "\n",
    "#pandas作圖不使用plt.show()，若要顯示在Jupyter Notebook上，需先執行以下程式碼：（%是直接在terminal中執行command line的意思）\n",
    "%matplotlib inline\n",
    "\n",
    "\n",
    "df = pd.DataFrame(np.random.rand(6,4),index=['bar1','bar2','bar3','bar4','bar5','bar6'],columns=['A','B','C','D'])\n",
    "df"
   ]
  },
  {
   "cell_type": "markdown",
   "metadata": {},
   "source": [
    "描述性統計"
   ]
  },
  {
   "cell_type": "code",
   "execution_count": 2,
   "metadata": {},
   "outputs": [
    {
     "data": {
      "text/html": [
       "<div>\n",
       "<style scoped>\n",
       "    .dataframe tbody tr th:only-of-type {\n",
       "        vertical-align: middle;\n",
       "    }\n",
       "\n",
       "    .dataframe tbody tr th {\n",
       "        vertical-align: top;\n",
       "    }\n",
       "\n",
       "    .dataframe thead th {\n",
       "        text-align: right;\n",
       "    }\n",
       "</style>\n",
       "<table border=\"1\" class=\"dataframe\">\n",
       "  <thead>\n",
       "    <tr style=\"text-align: right;\">\n",
       "      <th></th>\n",
       "      <th>A</th>\n",
       "      <th>B</th>\n",
       "      <th>C</th>\n",
       "      <th>D</th>\n",
       "    </tr>\n",
       "  </thead>\n",
       "  <tbody>\n",
       "    <tr>\n",
       "      <th>count</th>\n",
       "      <td>6.000000</td>\n",
       "      <td>6.000000</td>\n",
       "      <td>6.000000</td>\n",
       "      <td>6.000000</td>\n",
       "    </tr>\n",
       "    <tr>\n",
       "      <th>mean</th>\n",
       "      <td>0.390970</td>\n",
       "      <td>0.415740</td>\n",
       "      <td>0.583502</td>\n",
       "      <td>0.344876</td>\n",
       "    </tr>\n",
       "    <tr>\n",
       "      <th>std</th>\n",
       "      <td>0.384193</td>\n",
       "      <td>0.312338</td>\n",
       "      <td>0.348784</td>\n",
       "      <td>0.136689</td>\n",
       "    </tr>\n",
       "    <tr>\n",
       "      <th>min</th>\n",
       "      <td>0.042061</td>\n",
       "      <td>0.040942</td>\n",
       "      <td>0.096254</td>\n",
       "      <td>0.121108</td>\n",
       "    </tr>\n",
       "    <tr>\n",
       "      <th>25%</th>\n",
       "      <td>0.153121</td>\n",
       "      <td>0.141331</td>\n",
       "      <td>0.312278</td>\n",
       "      <td>0.280365</td>\n",
       "    </tr>\n",
       "    <tr>\n",
       "      <th>50%</th>\n",
       "      <td>0.209407</td>\n",
       "      <td>0.459820</td>\n",
       "      <td>0.723517</td>\n",
       "      <td>0.378549</td>\n",
       "    </tr>\n",
       "    <tr>\n",
       "      <th>75%</th>\n",
       "      <td>0.630617</td>\n",
       "      <td>0.675926</td>\n",
       "      <td>0.843382</td>\n",
       "      <td>0.446595</td>\n",
       "    </tr>\n",
       "    <tr>\n",
       "      <th>max</th>\n",
       "      <td>0.979568</td>\n",
       "      <td>0.750727</td>\n",
       "      <td>0.899189</td>\n",
       "      <td>0.474136</td>\n",
       "    </tr>\n",
       "  </tbody>\n",
       "</table>\n",
       "</div>"
      ],
      "text/plain": [
       "              A         B         C         D\n",
       "count  6.000000  6.000000  6.000000  6.000000\n",
       "mean   0.390970  0.415740  0.583502  0.344876\n",
       "std    0.384193  0.312338  0.348784  0.136689\n",
       "min    0.042061  0.040942  0.096254  0.121108\n",
       "25%    0.153121  0.141331  0.312278  0.280365\n",
       "50%    0.209407  0.459820  0.723517  0.378549\n",
       "75%    0.630617  0.675926  0.843382  0.446595\n",
       "max    0.979568  0.750727  0.899189  0.474136"
      ]
     },
     "execution_count": 2,
     "metadata": {},
     "output_type": "execute_result"
    }
   ],
   "source": [
    "df.describe()"
   ]
  },
  {
   "cell_type": "markdown",
   "metadata": {},
   "source": [
    "平均"
   ]
  },
  {
   "cell_type": "code",
   "execution_count": 3,
   "metadata": {},
   "outputs": [
    {
     "data": {
      "text/plain": [
       "A    0.390970\n",
       "B    0.415740\n",
       "C    0.583502\n",
       "D    0.344876\n",
       "dtype: float64"
      ]
     },
     "execution_count": 3,
     "metadata": {},
     "output_type": "execute_result"
    }
   ],
   "source": [
    "df.mean()"
   ]
  },
  {
   "cell_type": "markdown",
   "metadata": {},
   "source": [
    "最大值"
   ]
  },
  {
   "cell_type": "code",
   "execution_count": 4,
   "metadata": {},
   "outputs": [
    {
     "data": {
      "text/plain": [
       "A    0.979568\n",
       "B    0.750727\n",
       "C    0.899189\n",
       "D    0.474136\n",
       "dtype: float64"
      ]
     },
     "execution_count": 4,
     "metadata": {},
     "output_type": "execute_result"
    }
   ],
   "source": [
    "df.max()"
   ]
  },
  {
   "cell_type": "markdown",
   "metadata": {},
   "source": [
    "最小值"
   ]
  },
  {
   "cell_type": "code",
   "execution_count": 5,
   "metadata": {},
   "outputs": [
    {
     "data": {
      "text/plain": [
       "A    0.042061\n",
       "B    0.040942\n",
       "C    0.096254\n",
       "D    0.121108\n",
       "dtype: float64"
      ]
     },
     "execution_count": 5,
     "metadata": {},
     "output_type": "execute_result"
    }
   ],
   "source": [
    "df.min()"
   ]
  },
  {
   "cell_type": "markdown",
   "metadata": {},
   "source": [
    "中位數"
   ]
  },
  {
   "cell_type": "code",
   "execution_count": 6,
   "metadata": {},
   "outputs": [
    {
     "data": {
      "text/plain": [
       "A    0.209407\n",
       "B    0.459820\n",
       "C    0.723517\n",
       "D    0.378549\n",
       "dtype: float64"
      ]
     },
     "execution_count": 6,
     "metadata": {},
     "output_type": "execute_result"
    }
   ],
   "source": [
    "df.median()"
   ]
  },
  {
   "cell_type": "markdown",
   "metadata": {},
   "source": [
    "四分位數"
   ]
  },
  {
   "cell_type": "code",
   "execution_count": 7,
   "metadata": {},
   "outputs": [
    {
     "data": {
      "text/plain": [
       "A    0.630617\n",
       "B    0.675926\n",
       "C    0.843382\n",
       "D    0.446595\n",
       "Name: 0.75, dtype: float64"
      ]
     },
     "execution_count": 7,
     "metadata": {},
     "output_type": "execute_result"
    }
   ],
   "source": [
    "df.quantile(0.75)"
   ]
  },
  {
   "cell_type": "markdown",
   "metadata": {},
   "source": [
    "總和"
   ]
  },
  {
   "cell_type": "code",
   "execution_count": 10,
   "metadata": {},
   "outputs": [
    {
     "data": {
      "text/plain": [
       "A    2.345823\n",
       "B    2.494440\n",
       "C    3.501014\n",
       "D    2.069256\n",
       "dtype: float64"
      ]
     },
     "execution_count": 10,
     "metadata": {},
     "output_type": "execute_result"
    }
   ],
   "source": [
    "df.sum()"
   ]
  },
  {
   "cell_type": "markdown",
   "metadata": {},
   "source": [
    "標準差"
   ]
  },
  {
   "cell_type": "code",
   "execution_count": 11,
   "metadata": {},
   "outputs": [
    {
     "data": {
      "text/plain": [
       "A    0.384193\n",
       "B    0.312338\n",
       "C    0.348784\n",
       "D    0.136689\n",
       "dtype: float64"
      ]
     },
     "execution_count": 11,
     "metadata": {},
     "output_type": "execute_result"
    }
   ],
   "source": [
    "df.std()"
   ]
  },
  {
   "cell_type": "markdown",
   "metadata": {},
   "source": [
    "變異數"
   ]
  },
  {
   "cell_type": "code",
   "execution_count": 12,
   "metadata": {},
   "outputs": [
    {
     "data": {
      "text/plain": [
       "A    0.147604\n",
       "B    0.097555\n",
       "C    0.121650\n",
       "D    0.018684\n",
       "dtype: float64"
      ]
     },
     "execution_count": 12,
     "metadata": {},
     "output_type": "execute_result"
    }
   ],
   "source": [
    "df.var()"
   ]
  },
  {
   "cell_type": "markdown",
   "metadata": {},
   "source": [
    "幾何平均數（Scipy.stats)算百分比適用"
   ]
  },
  {
   "cell_type": "code",
   "execution_count": 13,
   "metadata": {},
   "outputs": [
    {
     "data": {
      "text/plain": [
       "1.0479480137027495"
      ]
     },
     "execution_count": 13,
     "metadata": {},
     "output_type": "execute_result"
    }
   ],
   "source": [
    "from scipy import stats\n",
    "x = [1.2,1.15,0.96,0.9,1.06]\n",
    "stats.gmean(x)"
   ]
  },
  {
   "cell_type": "markdown",
   "metadata": {},
   "source": [
    "調和平均數（Scipy.stats）"
   ]
  },
  {
   "cell_type": "code",
   "execution_count": 14,
   "metadata": {},
   "outputs": [
    {
     "data": {
      "text/plain": [
       "200.0"
      ]
     },
     "execution_count": 14,
     "metadata": {},
     "output_type": "execute_result"
    }
   ],
   "source": [
    "x = [300,150]\n",
    "stats.hmean(x)"
   ]
  },
  {
   "cell_type": "markdown",
   "metadata": {},
   "source": [
    "四分位數（Scipy.stats）"
   ]
  },
  {
   "cell_type": "code",
   "execution_count": 15,
   "metadata": {},
   "outputs": [
    {
     "data": {
      "text/plain": [
       "array([2.45, 4.5 , 6.55])"
      ]
     },
     "execution_count": 15,
     "metadata": {},
     "output_type": "execute_result"
    }
   ],
   "source": [
    "stats.mstats.mquantiles([1,2,3,4,5,6,7,8])"
   ]
  },
  {
   "cell_type": "markdown",
   "metadata": {},
   "source": [
    "共變數（Covariance）"
   ]
  },
  {
   "cell_type": "code",
   "execution_count": 16,
   "metadata": {},
   "outputs": [
    {
     "data": {
      "text/html": [
       "<div>\n",
       "<style scoped>\n",
       "    .dataframe tbody tr th:only-of-type {\n",
       "        vertical-align: middle;\n",
       "    }\n",
       "\n",
       "    .dataframe tbody tr th {\n",
       "        vertical-align: top;\n",
       "    }\n",
       "\n",
       "    .dataframe thead th {\n",
       "        text-align: right;\n",
       "    }\n",
       "</style>\n",
       "<table border=\"1\" class=\"dataframe\">\n",
       "  <thead>\n",
       "    <tr style=\"text-align: right;\">\n",
       "      <th></th>\n",
       "      <th>A</th>\n",
       "      <th>B</th>\n",
       "      <th>C</th>\n",
       "      <th>D</th>\n",
       "    </tr>\n",
       "  </thead>\n",
       "  <tbody>\n",
       "    <tr>\n",
       "      <th>A</th>\n",
       "      <td>0.147604</td>\n",
       "      <td>0.046922</td>\n",
       "      <td>0.070832</td>\n",
       "      <td>0.017192</td>\n",
       "    </tr>\n",
       "    <tr>\n",
       "      <th>B</th>\n",
       "      <td>0.046922</td>\n",
       "      <td>0.097555</td>\n",
       "      <td>-0.051726</td>\n",
       "      <td>0.002135</td>\n",
       "    </tr>\n",
       "    <tr>\n",
       "      <th>C</th>\n",
       "      <td>0.070832</td>\n",
       "      <td>-0.051726</td>\n",
       "      <td>0.121650</td>\n",
       "      <td>0.015839</td>\n",
       "    </tr>\n",
       "    <tr>\n",
       "      <th>D</th>\n",
       "      <td>0.017192</td>\n",
       "      <td>0.002135</td>\n",
       "      <td>0.015839</td>\n",
       "      <td>0.018684</td>\n",
       "    </tr>\n",
       "  </tbody>\n",
       "</table>\n",
       "</div>"
      ],
      "text/plain": [
       "          A         B         C         D\n",
       "A  0.147604  0.046922  0.070832  0.017192\n",
       "B  0.046922  0.097555 -0.051726  0.002135\n",
       "C  0.070832 -0.051726  0.121650  0.015839\n",
       "D  0.017192  0.002135  0.015839  0.018684"
      ]
     },
     "execution_count": 16,
     "metadata": {},
     "output_type": "execute_result"
    }
   ],
   "source": [
    "df.cov()"
   ]
  },
  {
   "cell_type": "markdown",
   "metadata": {},
   "source": [
    "機率密度"
   ]
  },
  {
   "cell_type": "code",
   "execution_count": 17,
   "metadata": {},
   "outputs": [
    {
     "data": {
      "text/plain": [
       "<matplotlib.axes._subplots.AxesSubplot at 0x1a1625e240>"
      ]
     },
     "execution_count": 17,
     "metadata": {},
     "output_type": "execute_result"
    },
    {
     "data": {
      "image/png": "[encoded data removed]",
      "text/plain": [
       "<Figure size 432x288 with 1 Axes>"
      ]
     },
     "metadata": {
      "needs_background": "light"
     },
     "output_type": "display_data"
    }
   ],
   "source": [
    "plt.rcParams['axes.unicode_minus']=False #正常顯示負號\n",
    "df.plot(kind='kde',title=\"PDF\")"
   ]
  },
  {
   "cell_type": "markdown",
   "metadata": {},
   "source": [
    "峰度（Kurtosis）\n",
    "\n",
    "峰度值 > 0，為高狹峰，較常態分配來得高瘦。\n",
    "\n",
    "峰度值 = 0，為常態峰。\n",
    "\n",
    "峰度值 < 0，為低闊峰，較常態分配來得低寬。"
   ]
  },
  {
   "cell_type": "code",
   "execution_count": 21,
   "metadata": {},
   "outputs": [
    {
     "data": {
      "text/plain": [
       "A   -1.084016\n",
       "B   -2.345822\n",
       "C   -1.767093\n",
       "D   -0.190822\n",
       "dtype: float64"
      ]
     },
     "execution_count": 21,
     "metadata": {},
     "output_type": "execute_result"
    }
   ],
   "source": [
    "df.kurt()"
   ]
  },
  {
   "cell_type": "markdown",
   "metadata": {},
   "source": [
    "偏態（Skewness）     \n",
    "\n",
    "偏態值 > 0，為正偏態，分配集中在平均數以下，低分群的個體較多。\n",
    "\n",
    "偏態值 = 0，為平均數左右對稱的分配，平均數上下的個體數相等。\n",
    "\n",
    "偏態值 < 0，為負偏態，分配集中在平均數以上，高分群的個體較多。\n"
   ]
  },
  {
   "cell_type": "code",
   "execution_count": 22,
   "metadata": {},
   "outputs": [
    {
     "data": {
      "text/plain": [
       "A    0.983404\n",
       "B   -0.240854\n",
       "C   -0.748873\n",
       "D   -0.882802\n",
       "dtype: float64"
      ]
     },
     "execution_count": 22,
     "metadata": {},
     "output_type": "execute_result"
    }
   ],
   "source": [
    "df.skew()"
   ]
  },
  {
   "cell_type": "code",
   "execution_count": null,
   "metadata": {},
   "outputs": [],
   "source": []
  }
 ],
 "metadata": {
  "kernelspec": {
   "display_name": "Python 3",
   "language": "python",
   "name": "python3"
  },
  "language_info": {
   "codemirror_mode": {
    "name": "ipython",
    "version": 3
   },
   "file_extension": ".py",
   "mimetype": "text/x-python",
   "name": "python",
   "nbconvert_exporter": "python",
   "pygments_lexer": "ipython3",
   "version": "3.7.2"
  }
 },
 "nbformat": 4,
 "nbformat_minor": 2
}
