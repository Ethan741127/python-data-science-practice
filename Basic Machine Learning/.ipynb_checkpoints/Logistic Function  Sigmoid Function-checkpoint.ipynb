{
 "cells": [
  {
   "cell_type": "markdown",
   "metadata": {},
   "source": [
    "Logistic Function / Sigmoid Function"
   ]
  },
  {
   "cell_type": "code",
   "execution_count": 1,
   "metadata": {},
   "outputs": [],
   "source": [
    "import numpy as np\n",
    "def sigmoid(z):\n",
    "    return 1/(1+np.exp(-z))"
   ]
  },
  {
   "cell_type": "code",
   "execution_count": 2,
   "metadata": {},
   "outputs": [
    {
     "data": {
      "text/plain": [
       "<function matplotlib.pyplot.show(*args, **kw)>"
      ]
     },
     "execution_count": 2,
     "metadata": {},
     "output_type": "execute_result"
    },
    {
     "data": {
      "image/png": "[encoded data removed]",
      "text/plain": [
       "<Figure size 432x288 with 1 Axes>"
      ]
     },
     "metadata": {
      "needs_background": "light"
     },
     "output_type": "display_data"
    }
   ],
   "source": [
    "import matplotlib.pyplot as plt\n",
    "plt.style.use('ggplot')\n",
    "%matplotlib inline\n",
    "\n",
    "z=np.arange(-8,8,0.1)\n",
    "y= sigmoid(z)\n",
    "plt.plot(z,y)\n",
    "plt.show"
   ]
  },
  {
   "cell_type": "markdown",
   "metadata": {},
   "source": [
    "Logistic Regression"
   ]
  },
  {
   "cell_type": "code",
   "execution_count": 8,
   "metadata": {},
   "outputs": [
    {
     "data": {
      "text/html": [
       "<div>\n",
       "<style scoped>\n",
       "    .dataframe tbody tr th:only-of-type {\n",
       "        vertical-align: middle;\n",
       "    }\n",
       "\n",
       "    .dataframe tbody tr th {\n",
       "        vertical-align: top;\n",
       "    }\n",
       "\n",
       "    .dataframe thead th {\n",
       "        text-align: right;\n",
       "    }\n",
       "</style>\n",
       "<table border=\"1\" class=\"dataframe\">\n",
       "  <thead>\n",
       "    <tr style=\"text-align: right;\">\n",
       "      <th></th>\n",
       "      <th>花萼長度</th>\n",
       "      <th>花萼寬度</th>\n",
       "      <th>花瓣長度</th>\n",
       "      <th>花瓣寬度</th>\n",
       "      <th>屬種</th>\n",
       "    </tr>\n",
       "  </thead>\n",
       "  <tbody>\n",
       "    <tr>\n",
       "      <th>0</th>\n",
       "      <td>5.1</td>\n",
       "      <td>3.5</td>\n",
       "      <td>1.4</td>\n",
       "      <td>0.2</td>\n",
       "      <td>Iris-setosa</td>\n",
       "    </tr>\n",
       "    <tr>\n",
       "      <th>1</th>\n",
       "      <td>4.9</td>\n",
       "      <td>3.0</td>\n",
       "      <td>1.4</td>\n",
       "      <td>0.2</td>\n",
       "      <td>Iris-setosa</td>\n",
       "    </tr>\n",
       "    <tr>\n",
       "      <th>2</th>\n",
       "      <td>4.7</td>\n",
       "      <td>3.2</td>\n",
       "      <td>1.3</td>\n",
       "      <td>0.2</td>\n",
       "      <td>Iris-setosa</td>\n",
       "    </tr>\n",
       "    <tr>\n",
       "      <th>3</th>\n",
       "      <td>4.6</td>\n",
       "      <td>3.1</td>\n",
       "      <td>1.5</td>\n",
       "      <td>0.2</td>\n",
       "      <td>Iris-setosa</td>\n",
       "    </tr>\n",
       "    <tr>\n",
       "      <th>4</th>\n",
       "      <td>5.0</td>\n",
       "      <td>3.6</td>\n",
       "      <td>1.4</td>\n",
       "      <td>0.2</td>\n",
       "      <td>Iris-setosa</td>\n",
       "    </tr>\n",
       "  </tbody>\n",
       "</table>\n",
       "</div>"
      ],
      "text/plain": [
       "   花萼長度  花萼寬度  花瓣長度  花瓣寬度           屬種\n",
       "0   5.1   3.5   1.4   0.2  Iris-setosa\n",
       "1   4.9   3.0   1.4   0.2  Iris-setosa\n",
       "2   4.7   3.2   1.3   0.2  Iris-setosa\n",
       "3   4.6   3.1   1.5   0.2  Iris-setosa\n",
       "4   5.0   3.6   1.4   0.2  Iris-setosa"
      ]
     },
     "execution_count": 8,
     "metadata": {},
     "output_type": "execute_result"
    }
   ],
   "source": [
    "import pandas as pd\n",
    "df = pd.read_csv('/Users/ethan/Desktop/AI/python資料科學/python-data-science-practice/Basic Machine Learning/(Mac) w4-1. 基礎機器學習/iris.csv',encoding='big5')\n",
    "df.head()\n"
   ]
  },
  {
   "cell_type": "code",
   "execution_count": 9,
   "metadata": {},
   "outputs": [
    {
     "data": {
      "text/html": [
       "<div>\n",
       "<style scoped>\n",
       "    .dataframe tbody tr th:only-of-type {\n",
       "        vertical-align: middle;\n",
       "    }\n",
       "\n",
       "    .dataframe tbody tr th {\n",
       "        vertical-align: top;\n",
       "    }\n",
       "\n",
       "    .dataframe thead th {\n",
       "        text-align: right;\n",
       "    }\n",
       "</style>\n",
       "<table border=\"1\" class=\"dataframe\">\n",
       "  <thead>\n",
       "    <tr style=\"text-align: right;\">\n",
       "      <th></th>\n",
       "      <th>花萼長度</th>\n",
       "      <th>花萼寬度</th>\n",
       "      <th>花瓣長度</th>\n",
       "      <th>花瓣寬度</th>\n",
       "    </tr>\n",
       "  </thead>\n",
       "  <tbody>\n",
       "    <tr>\n",
       "      <th>花萼長度</th>\n",
       "      <td>1.000000</td>\n",
       "      <td>-0.109369</td>\n",
       "      <td>0.871754</td>\n",
       "      <td>0.817954</td>\n",
       "    </tr>\n",
       "    <tr>\n",
       "      <th>花萼寬度</th>\n",
       "      <td>-0.109369</td>\n",
       "      <td>1.000000</td>\n",
       "      <td>-0.420516</td>\n",
       "      <td>-0.356544</td>\n",
       "    </tr>\n",
       "    <tr>\n",
       "      <th>花瓣長度</th>\n",
       "      <td>0.871754</td>\n",
       "      <td>-0.420516</td>\n",
       "      <td>1.000000</td>\n",
       "      <td>0.962757</td>\n",
       "    </tr>\n",
       "    <tr>\n",
       "      <th>花瓣寬度</th>\n",
       "      <td>0.817954</td>\n",
       "      <td>-0.356544</td>\n",
       "      <td>0.962757</td>\n",
       "      <td>1.000000</td>\n",
       "    </tr>\n",
       "  </tbody>\n",
       "</table>\n",
       "</div>"
      ],
      "text/plain": [
       "          花萼長度      花萼寬度      花瓣長度      花瓣寬度\n",
       "花萼長度  1.000000 -0.109369  0.871754  0.817954\n",
       "花萼寬度 -0.109369  1.000000 -0.420516 -0.356544\n",
       "花瓣長度  0.871754 -0.420516  1.000000  0.962757\n",
       "花瓣寬度  0.817954 -0.356544  0.962757  1.000000"
      ]
     },
     "execution_count": 9,
     "metadata": {},
     "output_type": "execute_result"
    }
   ],
   "source": [
    "df.corr()"
   ]
  },
  {
   "cell_type": "markdown",
   "metadata": {},
   "source": [
    "切分訓練資料與測試資料"
   ]
  },
  {
   "cell_type": "code",
   "execution_count": 10,
   "metadata": {},
   "outputs": [
    {
     "data": {
      "text/html": [
       "<div>\n",
       "<style scoped>\n",
       "    .dataframe tbody tr th:only-of-type {\n",
       "        vertical-align: middle;\n",
       "    }\n",
       "\n",
       "    .dataframe tbody tr th {\n",
       "        vertical-align: top;\n",
       "    }\n",
       "\n",
       "    .dataframe thead th {\n",
       "        text-align: right;\n",
       "    }\n",
       "</style>\n",
       "<table border=\"1\" class=\"dataframe\">\n",
       "  <thead>\n",
       "    <tr style=\"text-align: right;\">\n",
       "      <th></th>\n",
       "      <th>花萼長度</th>\n",
       "      <th>花萼寬度</th>\n",
       "    </tr>\n",
       "  </thead>\n",
       "  <tbody>\n",
       "    <tr>\n",
       "      <th>70</th>\n",
       "      <td>5.9</td>\n",
       "      <td>3.2</td>\n",
       "    </tr>\n",
       "    <tr>\n",
       "      <th>81</th>\n",
       "      <td>5.5</td>\n",
       "      <td>2.4</td>\n",
       "    </tr>\n",
       "    <tr>\n",
       "      <th>120</th>\n",
       "      <td>6.9</td>\n",
       "      <td>3.2</td>\n",
       "    </tr>\n",
       "    <tr>\n",
       "      <th>53</th>\n",
       "      <td>5.5</td>\n",
       "      <td>2.3</td>\n",
       "    </tr>\n",
       "    <tr>\n",
       "      <th>113</th>\n",
       "      <td>5.7</td>\n",
       "      <td>2.5</td>\n",
       "    </tr>\n",
       "  </tbody>\n",
       "</table>\n",
       "</div>"
      ],
      "text/plain": [
       "     花萼長度  花萼寬度\n",
       "70    5.9   3.2\n",
       "81    5.5   2.4\n",
       "120   6.9   3.2\n",
       "53    5.5   2.3\n",
       "113   5.7   2.5"
      ]
     },
     "execution_count": 10,
     "metadata": {},
     "output_type": "execute_result"
    }
   ],
   "source": [
    "from sklearn.model_selection import train_test_split\n",
    "x = df[['花萼長度','花萼寬度']]\n",
    "y = df[['屬種']]\n",
    "x_train,x_test,y_train,y_test = train_test_split(x,y,test_size=0.3)\n",
    "x_test.head()"
   ]
  },
  {
   "cell_type": "markdown",
   "metadata": {},
   "source": [
    "標準化（Normalize）參數值"
   ]
  },
  {
   "cell_type": "code",
   "execution_count": 12,
   "metadata": {},
   "outputs": [
    {
     "data": {
      "text/plain": [
       "array([[ 0.11637891,  0.32166897],\n",
       "       [-0.35817586, -1.58116155],\n",
       "       [ 1.30276581,  0.32166897],\n",
       "       [-0.35817586, -1.81901536],\n",
       "       [-0.12089848, -1.34330773],\n",
       "       [ 0.70957236,  0.32166897],\n",
       "       [ 1.54004319, -0.15403866],\n",
       "       [-0.35817586, -1.58116155],\n",
       "       [-1.42592407,  1.27308423],\n",
       "       [ 1.18412712, -0.62974629]])"
      ]
     },
     "execution_count": 12,
     "metadata": {},
     "output_type": "execute_result"
    }
   ],
   "source": [
    "from sklearn.preprocessing import StandardScaler\n",
    "sc = StandardScaler()\n",
    "sc.fit(x_train)\n",
    "x_train_nor = sc.transform(x_train)\n",
    "x_test_nor = sc.transform(x_test)\n",
    "x_test_nor[:10]"
   ]
  },
  {
   "cell_type": "markdown",
   "metadata": {},
   "source": [
    "訓練資料分類效果（使用兩個參數）"
   ]
  },
  {
   "cell_type": "code",
   "execution_count": 122,
   "metadata": {},
   "outputs": [
    {
     "name": "stderr",
     "output_type": "stream",
     "text": [
      "/Users/ethan/anaconda3/lib/python3.7/site-packages/sklearn/utils/validation.py:578: DataConversionWarning: A column-vector y was passed when a 1d array was expected. Please change the shape of y to (n_samples, ), for example using ravel().\n",
      "  y = column_or_1d(y, warn=True)\n"
     ]
    },
    {
     "data": {
      "image/png": "[encoded data removed]",
      "text/plain": [
       "<Figure size 432x288 with 1 Axes>"
      ]
     },
     "metadata": {
      "needs_background": "light"
     },
     "output_type": "display_data"
    }
   ],
   "source": [
    "from sklearn.linear_model import LogisticRegression\n",
    "import matplotlib.patches as mpatches\n",
    "\n",
    "lr = LogisticRegression()\n",
    "lr.fit(x_train_nor,y_train)\n",
    "\n",
    "\n",
    "y_new_index=y_train.reset_index(drop=True)\n",
    "\n",
    "for i in range(len(x_train_nor)):\n",
    "    if(y_new_index[i:i+1].loc[i,'屬種']=='Iris-setosa'):\n",
    "        plt.plot(x_train['花萼長度'].reset_index(drop=True)[i],x_train['花萼寬度'].reset_index(drop=True)[i],'b.')\n",
    "    elif(y_new_index[i:i+1].loc[i,'屬種']=='Iris-versicolor'):\n",
    "        plt.plot(x_train['花萼長度'].reset_index(drop=True)[i],x_train['花萼寬度'].reset_index(drop=True)[i],'gx')\n",
    "    else:\n",
    "        plt.plot(x_train['花萼長度'].reset_index(drop=True)[i],x_train['花萼寬度'].reset_index(drop=True)[i],'r+')\n",
    "        \n",
    "# 標註（補丁patch）\n",
    "blue_patch = mpatches.Patch(color='blue', label='Iris-setosa')\n",
    "green_patch = mpatches.Patch(color='green', label='Iris-versicolor')\n",
    "red_patch = mpatches.Patch(color='red', label='Iris-virginica')\n",
    "plt.legend(handles=[blue_patch,green_patch,red_patch])        \n",
    "plt.show()    \n",
    "        \n"
   ]
  },
  {
   "cell_type": "code",
   "execution_count": 123,
   "metadata": {},
   "outputs": [
    {
     "data": {
      "image/png": "[encoded data removed]",
      "text/plain": [
       "<Figure size 432x288 with 1 Axes>"
      ]
     },
     "metadata": {
      "needs_background": "light"
     },
     "output_type": "display_data"
    }
   ],
   "source": [
    "for i in range(len(x_train_nor)):\n",
    "    if(lr.predict(x_train_nor[i].reshape(1,-1))=='Iris-setosa'):\n",
    "        plt.plot(x_train['花萼長度'].reset_index(drop=True)[i],x_train['花萼寬度'].reset_index(drop=True)[i],'b.')\n",
    "    elif(lr.predict(x_train_nor[i].reshape(1,-1))=='Iris-versicolor'):\n",
    "        plt.plot(x_train['花萼長度'].reset_index(drop=True)[i],x_train['花萼寬度'].reset_index(drop=True)[i],'gx')\n",
    "    else:\n",
    "        plt.plot(x_train['花萼長度'].reset_index(drop=True)[i],x_train['花萼寬度'].reset_index(drop=True)[i],'r+')\n",
    "        \n",
    "# 標註（補丁patch）\n",
    "blue_patch = mpatches.Patch(color='blue', label='Iris-setosa')\n",
    "green_patch = mpatches.Patch(color='green', label='Iris-versicolor')\n",
    "red_patch = mpatches.Patch(color='red', label='Iris-virginica')\n",
    "plt.legend(handles=[blue_patch,green_patch,red_patch])        \n",
    "plt.show()\n"
   ]
  },
  {
   "cell_type": "markdown",
   "metadata": {},
   "source": [
    "分類效果測試（使用訓練好的model）"
   ]
  },
  {
   "cell_type": "code",
   "execution_count": 124,
   "metadata": {},
   "outputs": [
    {
     "data": {
      "image/png": "[encoded data removed]",
      "text/plain": [
       "<Figure size 432x288 with 1 Axes>"
      ]
     },
     "metadata": {
      "needs_background": "light"
     },
     "output_type": "display_data"
    }
   ],
   "source": [
    "for i in range(len(x_test_nor)):\n",
    "    if(lr.predict(x_test_nor[i].reshape(1,-1))=='Iris-setosa'):\n",
    "        plt.plot(x_test['花萼長度'].reset_index(drop=True)[i],x_test['花萼寬度'].reset_index(drop=True)[i],'b.')\n",
    "    elif(lr.predict(x_test_nor[i].reshape(1,-1))=='Iris-versicolor'):\n",
    "        plt.plot(x_test['花萼長度'].reset_index(drop=True)[i],x_test['花萼寬度'].reset_index(drop=True)[i],'gx')\n",
    "    else:\n",
    "        plt.plot(x_test['花萼長度'].reset_index(drop=True)[i],x_test['花萼寬度'].reset_index(drop=True)[i],'r+')\n",
    "        \n",
    "# 標註（補丁patch）\n",
    "blue_patch = mpatches.Patch(color='blue', label='Iris-setosa')\n",
    "green_patch = mpatches.Patch(color='green', label='Iris-versicolor')\n",
    "red_patch = mpatches.Patch(color='red', label='Iris-virginica')\n",
    "plt.legend(handles=[blue_patch,green_patch,red_patch])  \n",
    "plt.show()"
   ]
  },
  {
   "cell_type": "markdown",
   "metadata": {},
   "source": [
    "視覺化混淆矩陣函式（from sklearn官網）"
   ]
  },
  {
   "cell_type": "code",
   "execution_count": 125,
   "metadata": {},
   "outputs": [],
   "source": [
    "def plot_confusion_matrix(cm, classes,\n",
    "                          normalize=False,\n",
    "                          title='Confusion matrix',\n",
    "                          cmap=plt.cm.Blues):\n",
    "    \"\"\"\n",
    "    This function prints and plots the confusion matrix.\n",
    "    Normalization can be applied by setting `normalize=True`.\n",
    "    \"\"\"\n",
    "    plt.imshow(cm, interpolation='nearest', cmap=cmap)\n",
    "    plt.title(title)\n",
    "    plt.colorbar()\n",
    "    tick_marks = np.arange(len(classes))\n",
    "    plt.xticks(tick_marks, classes, rotation=45)\n",
    "    plt.yticks(tick_marks, classes)\n",
    "\n",
    "    if normalize:\n",
    "        cm = cm.astype('float') / cm.sum(axis=1)[:, np.newaxis]\n",
    "        print(\"Normalized confusion matrix\")\n",
    "    else:\n",
    "        print('Confusion matrix, without normalization')\n",
    "\n",
    "    print(cm)\n",
    "\n",
    "    thresh = cm.max() / 2.\n",
    "    for i, j in itertools.product(range(cm.shape[0]), range(cm.shape[1])):\n",
    "        plt.text(j, i, cm[i, j],\n",
    "                 horizontalalignment=\"center\",\n",
    "                 color=\"white\" if cm[i, j] > thresh else \"black\")\n",
    "\n",
    "    plt.tight_layout()\n",
    "    plt.ylabel('True label')\n",
    "    plt.xlabel('Predicted label')\n",
    "    \n",
    "#Source code from: http://scikit-learn.org/stable/auto_examples/model_selection/plot_confusion_matrix.html#sphx-glr-auto-examples-model-selection-plot-confusion-matrix-py"
   ]
  },
  {
   "cell_type": "code",
   "execution_count": 126,
   "metadata": {},
   "outputs": [
    {
     "data": {
      "text/plain": [
       "array([[0.328, 0.284, 0.388],\n",
       "       [0.039, 0.72 , 0.241],\n",
       "       [0.01 , 0.24 , 0.75 ],\n",
       "       [0.024, 0.737, 0.239],\n",
       "       [0.03 , 0.656, 0.313],\n",
       "       [0.067, 0.277, 0.656],\n",
       "       [0.002, 0.298, 0.7  ],\n",
       "       [0.039, 0.72 , 0.241],\n",
       "       [0.918, 0.064, 0.018],\n",
       "       [0.002, 0.377, 0.621],\n",
       "       [0.007, 0.366, 0.627],\n",
       "       [0.823, 0.029, 0.148],\n",
       "       [0.159, 0.417, 0.425],\n",
       "       [0.003, 0.23 , 0.767],\n",
       "       [0.128, 0.543, 0.329],\n",
       "       [0.356, 0.388, 0.256],\n",
       "       [0.013, 0.288, 0.699],\n",
       "       [0.071, 0.461, 0.468],\n",
       "       [0.014, 0.443, 0.544],\n",
       "       [0.   , 0.291, 0.708],\n",
       "       [0.091, 0.535, 0.374],\n",
       "       [0.868, 0.102, 0.03 ],\n",
       "       [0.015, 0.393, 0.591],\n",
       "       [0.823, 0.151, 0.026],\n",
       "       [0.006, 0.274, 0.72 ],\n",
       "       [0.035, 0.852, 0.113],\n",
       "       [0.762, 0.195, 0.043],\n",
       "       [0.848, 0.107, 0.045],\n",
       "       [0.773, 0.121, 0.105],\n",
       "       [0.063, 0.693, 0.244],\n",
       "       [0.003, 0.515, 0.482],\n",
       "       [0.006, 0.274, 0.72 ],\n",
       "       [0.911, 0.044, 0.045],\n",
       "       [0.888, 0.036, 0.077],\n",
       "       [0.931, 0.021, 0.047],\n",
       "       [0.001, 0.295, 0.704],\n",
       "       [0.03 , 0.482, 0.488],\n",
       "       [0.012, 0.332, 0.656],\n",
       "       [0.736, 0.228, 0.036],\n",
       "       [0.006, 0.41 , 0.584],\n",
       "       [0.129, 0.767, 0.104],\n",
       "       [0.147, 0.239, 0.614],\n",
       "       [0.026, 0.535, 0.438],\n",
       "       [0.888, 0.036, 0.077],\n",
       "       [0.005, 0.314, 0.68 ]])"
      ]
     },
     "execution_count": 126,
     "metadata": {},
     "output_type": "execute_result"
    }
   ],
   "source": [
    "import numpy as np\n",
    "np.round(lr.predict_proba(x_test_nor),3)#四捨五入到小數點第3位\n",
    "#分別為那三種的機率"
   ]
  },
  {
   "cell_type": "markdown",
   "metadata": {},
   "source": [
    "Evaluation：Confusion Metrics（混淆矩陣）"
   ]
  },
  {
   "cell_type": "code",
   "execution_count": 128,
   "metadata": {},
   "outputs": [
    {
     "name": "stdout",
     "output_type": "stream",
     "text": [
      "[[12  0  0]\n",
      " [ 0  9  9]\n",
      " [ 0  3 12]]\n"
     ]
    }
   ],
   "source": [
    "from sklearn.metrics import confusion_matrix\n",
    "cnf_matrix = confusion_matrix(y_test, lr.predict(x_test_nor))\n",
    "print (cnf_matrix)"
   ]
  },
  {
   "cell_type": "code",
   "execution_count": 129,
   "metadata": {},
   "outputs": [
    {
     "name": "stdout",
     "output_type": "stream",
     "text": [
      "Confusion matrix, without normalization\n",
      "[[12  0  0]\n",
      " [ 0  9  9]\n",
      " [ 0  3 12]]\n"
     ]
    },
    {
     "data": {
      "image/png": "[encoded data removed]",
      "text/plain": [
       "<Figure size 432x288 with 2 Axes>"
      ]
     },
     "metadata": {
      "needs_background": "light"
     },
     "output_type": "display_data"
    }
   ],
   "source": [
    "import itertools\n",
    "target_names = ['Iris-setosa', 'Iris-versicolor', 'Iris-virginica']\n",
    "plot_confusion_matrix(cnf_matrix, classes=target_names, title='Confusion matrix, without normalization')\n",
    "\n",
    "plt.show()"
   ]
  },
  {
   "cell_type": "code",
   "execution_count": 131,
   "metadata": {},
   "outputs": [
    {
     "name": "stdout",
     "output_type": "stream",
     "text": [
      "                 precision    recall  f1-score   support\n",
      "\n",
      "    Iris-setosa       1.00      1.00      1.00        12\n",
      "Iris-versicolor       0.75      0.50      0.60        18\n",
      " Iris-virginica       0.57      0.80      0.67        15\n",
      "\n",
      "    avg / total       0.76      0.73      0.73        45\n",
      "\n"
     ]
    }
   ],
   "source": [
    "from sklearn.metrics import classification_report\n",
    "\n",
    "print(classification_report(y_test, lr.predict(x_test_nor), target_names=target_names))"
   ]
  },
  {
   "cell_type": "code",
   "execution_count": null,
   "metadata": {},
   "outputs": [],
   "source": []
  }
 ],
 "metadata": {
  "kernelspec": {
   "display_name": "Python 3",
   "language": "python",
   "name": "python3"
  },
  "language_info": {
   "codemirror_mode": {
    "name": "ipython",
    "version": 3
   },
   "file_extension": ".py",
   "mimetype": "text/x-python",
   "name": "python",
   "nbconvert_exporter": "python",
   "pygments_lexer": "ipython3",
   "version": "3.7.2"
  }
 },
 "nbformat": 4,
 "nbformat_minor": 2
}
