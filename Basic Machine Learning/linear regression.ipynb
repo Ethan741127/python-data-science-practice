{
 "cells": [
  {
   "cell_type": "markdown",
   "metadata": {},
   "source": [
    "相關性分析"
   ]
  },
  {
   "cell_type": "code",
   "execution_count": 81,
   "metadata": {},
   "outputs": [],
   "source": [
    "import pandas as pd\n",
    "import matplotlib.pyplot as plt\n",
    "import numpy as np\n",
    "%matplotlib inline\n",
    "plt.rcParams['font.family']='SimHei' #顯示中文\n",
    "plt.rcParams['axes.unicode_minus']=False #正常顯示負號"
   ]
  },
  {
   "cell_type": "code",
   "execution_count": 82,
   "metadata": {},
   "outputs": [
    {
     "data": {
      "text/html": [
       "<div>\n",
       "<style scoped>\n",
       "    .dataframe tbody tr th:only-of-type {\n",
       "        vertical-align: middle;\n",
       "    }\n",
       "\n",
       "    .dataframe tbody tr th {\n",
       "        vertical-align: top;\n",
       "    }\n",
       "\n",
       "    .dataframe thead th {\n",
       "        text-align: right;\n",
       "    }\n",
       "</style>\n",
       "<table border=\"1\" class=\"dataframe\">\n",
       "  <thead>\n",
       "    <tr style=\"text-align: right;\">\n",
       "      <th></th>\n",
       "      <th>建物移轉總面積平方公尺</th>\n",
       "      <th>建物現況格局-房</th>\n",
       "      <th>建物現況格局-廳</th>\n",
       "      <th>建物現況格局-衛</th>\n",
       "      <th>總價元</th>\n",
       "    </tr>\n",
       "  </thead>\n",
       "  <tbody>\n",
       "    <tr>\n",
       "      <th>0</th>\n",
       "      <td>133.85</td>\n",
       "      <td>3</td>\n",
       "      <td>2</td>\n",
       "      <td>2</td>\n",
       "      <td>13600000</td>\n",
       "    </tr>\n",
       "    <tr>\n",
       "      <th>1</th>\n",
       "      <td>74.08</td>\n",
       "      <td>0</td>\n",
       "      <td>2</td>\n",
       "      <td>1</td>\n",
       "      <td>19700000</td>\n",
       "    </tr>\n",
       "    <tr>\n",
       "      <th>2</th>\n",
       "      <td>109.87</td>\n",
       "      <td>3</td>\n",
       "      <td>2</td>\n",
       "      <td>2</td>\n",
       "      <td>12550000</td>\n",
       "    </tr>\n",
       "    <tr>\n",
       "      <th>3</th>\n",
       "      <td>50.02</td>\n",
       "      <td>1</td>\n",
       "      <td>1</td>\n",
       "      <td>1</td>\n",
       "      <td>9800000</td>\n",
       "    </tr>\n",
       "    <tr>\n",
       "      <th>4</th>\n",
       "      <td>81.38</td>\n",
       "      <td>3</td>\n",
       "      <td>2</td>\n",
       "      <td>2</td>\n",
       "      <td>15800000</td>\n",
       "    </tr>\n",
       "  </tbody>\n",
       "</table>\n",
       "</div>"
      ],
      "text/plain": [
       "   建物移轉總面積平方公尺  建物現況格局-房  建物現況格局-廳  建物現況格局-衛       總價元\n",
       "0       133.85         3         2         2  13600000\n",
       "1        74.08         0         2         1  19700000\n",
       "2       109.87         3         2         2  12550000\n",
       "3        50.02         1         1         1   9800000\n",
       "4        81.38         3         2         2  15800000"
      ]
     },
     "execution_count": 82,
     "metadata": {},
     "output_type": "execute_result"
    }
   ],
   "source": [
    "df = pd.read_csv('/Users/ethan/Desktop/AI/python資料科學/python-data-science-practice/Basic Machine Learning/(Mac) w4-1. 基礎機器學習/A_LVR_LAND_A.csv',encoding='big5')\n",
    "df.head()"
   ]
  },
  {
   "cell_type": "code",
   "execution_count": 83,
   "metadata": {},
   "outputs": [
    {
     "data": {
      "text/html": [
       "<div>\n",
       "<style scoped>\n",
       "    .dataframe tbody tr th:only-of-type {\n",
       "        vertical-align: middle;\n",
       "    }\n",
       "\n",
       "    .dataframe tbody tr th {\n",
       "        vertical-align: top;\n",
       "    }\n",
       "\n",
       "    .dataframe thead th {\n",
       "        text-align: right;\n",
       "    }\n",
       "</style>\n",
       "<table border=\"1\" class=\"dataframe\">\n",
       "  <thead>\n",
       "    <tr style=\"text-align: right;\">\n",
       "      <th></th>\n",
       "      <th>建物移轉總面積平方公尺</th>\n",
       "      <th>建物現況格局-房</th>\n",
       "      <th>建物現況格局-廳</th>\n",
       "      <th>建物現況格局-衛</th>\n",
       "      <th>總價元</th>\n",
       "    </tr>\n",
       "  </thead>\n",
       "  <tbody>\n",
       "    <tr>\n",
       "      <th>建物移轉總面積平方公尺</th>\n",
       "      <td>1.000000</td>\n",
       "      <td>0.195329</td>\n",
       "      <td>0.159584</td>\n",
       "      <td>0.303817</td>\n",
       "      <td>0.627678</td>\n",
       "    </tr>\n",
       "    <tr>\n",
       "      <th>建物現況格局-房</th>\n",
       "      <td>0.195329</td>\n",
       "      <td>1.000000</td>\n",
       "      <td>0.343025</td>\n",
       "      <td>0.503330</td>\n",
       "      <td>0.142180</td>\n",
       "    </tr>\n",
       "    <tr>\n",
       "      <th>建物現況格局-廳</th>\n",
       "      <td>0.159584</td>\n",
       "      <td>0.343025</td>\n",
       "      <td>1.000000</td>\n",
       "      <td>0.672597</td>\n",
       "      <td>0.089311</td>\n",
       "    </tr>\n",
       "    <tr>\n",
       "      <th>建物現況格局-衛</th>\n",
       "      <td>0.303817</td>\n",
       "      <td>0.503330</td>\n",
       "      <td>0.672597</td>\n",
       "      <td>1.000000</td>\n",
       "      <td>0.284548</td>\n",
       "    </tr>\n",
       "    <tr>\n",
       "      <th>總價元</th>\n",
       "      <td>0.627678</td>\n",
       "      <td>0.142180</td>\n",
       "      <td>0.089311</td>\n",
       "      <td>0.284548</td>\n",
       "      <td>1.000000</td>\n",
       "    </tr>\n",
       "  </tbody>\n",
       "</table>\n",
       "</div>"
      ],
      "text/plain": [
       "             建物移轉總面積平方公尺  建物現況格局-房  建物現況格局-廳  建物現況格局-衛       總價元\n",
       "建物移轉總面積平方公尺     1.000000  0.195329  0.159584  0.303817  0.627678\n",
       "建物現況格局-房        0.195329  1.000000  0.343025  0.503330  0.142180\n",
       "建物現況格局-廳        0.159584  0.343025  1.000000  0.672597  0.089311\n",
       "建物現況格局-衛        0.303817  0.503330  0.672597  1.000000  0.284548\n",
       "總價元             0.627678  0.142180  0.089311  0.284548  1.000000"
      ]
     },
     "execution_count": 83,
     "metadata": {},
     "output_type": "execute_result"
    }
   ],
   "source": [
    "df.corr()"
   ]
  },
  {
   "cell_type": "code",
   "execution_count": 84,
   "metadata": {},
   "outputs": [
    {
     "data": {
      "text/plain": [
       "<matplotlib.axes._subplots.AxesSubplot at 0x1a237961d0>"
      ]
     },
     "execution_count": 84,
     "metadata": {},
     "output_type": "execute_result"
    },
    {
     "name": "stderr",
     "output_type": "stream",
     "text": [
      "/Users/ethan/anaconda3/lib/python3.7/site-packages/matplotlib/font_manager.py:1331: UserWarning: findfont: Font family ['SimHei'] not found. Falling back to DejaVu Sans\n",
      "  (prop.get_family(), self.defaultFamily[fontext]))\n"
     ]
    },
    {
     "data": {
      "image/png": "[encoded data removed]",
      "text/plain": [
       "<Figure size 576x432 with 1 Axes>"
      ]
     },
     "metadata": {
      "needs_background": "light"
     },
     "output_type": "display_data"
    }
   ],
   "source": [
    "df.plot(kind='scatter',title='散佈圖（高度正相關）',figsize=(8,6),x='建物移轉總面積平方公尺',y='總價元',marker='+')"
   ]
  },
  {
   "cell_type": "markdown",
   "metadata": {},
   "source": [
    "資料預處理"
   ]
  },
  {
   "cell_type": "code",
   "execution_count": 85,
   "metadata": {},
   "outputs": [
    {
     "data": {
      "text/plain": [
       "<matplotlib.axes._subplots.AxesSubplot at 0x1a23351f28>"
      ]
     },
     "execution_count": 85,
     "metadata": {},
     "output_type": "execute_result"
    },
    {
     "name": "stderr",
     "output_type": "stream",
     "text": [
      "/Users/ethan/anaconda3/lib/python3.7/site-packages/matplotlib/font_manager.py:1331: UserWarning: findfont: Font family ['SimHei'] not found. Falling back to DejaVu Sans\n",
      "  (prop.get_family(), self.defaultFamily[fontext]))\n"
     ]
    },
    {
     "data": {
      "image/png": "[encoded data removed]",
      "text/plain": [
       "<Figure size 576x432 with 1 Axes>"
      ]
     },
     "metadata": {
      "needs_background": "light"
     },
     "output_type": "display_data"
    }
   ],
   "source": [
    "df = df[df['建物移轉總面積平方公尺']>0]\n",
    "df = df[df['建物移轉總面積平方公尺']<1000]\n",
    "df = df[df['總價元']>0]/10000\n",
    "df.plot(kind='scatter',title='散佈圖（高度正相關）',figsize=(8,6),x='建物移轉總面積平方公尺',y='總價元',marker='+')"
   ]
  },
  {
   "cell_type": "markdown",
   "metadata": {},
   "source": [
    "簡單線性切分訓練及測試資料 (1 feature)"
   ]
  },
  {
   "cell_type": "code",
   "execution_count": 86,
   "metadata": {},
   "outputs": [
    {
     "data": {
      "text/html": [
       "<div>\n",
       "<style scoped>\n",
       "    .dataframe tbody tr th:only-of-type {\n",
       "        vertical-align: middle;\n",
       "    }\n",
       "\n",
       "    .dataframe tbody tr th {\n",
       "        vertical-align: top;\n",
       "    }\n",
       "\n",
       "    .dataframe thead th {\n",
       "        text-align: right;\n",
       "    }\n",
       "</style>\n",
       "<table border=\"1\" class=\"dataframe\">\n",
       "  <thead>\n",
       "    <tr style=\"text-align: right;\">\n",
       "      <th></th>\n",
       "      <th>建物移轉總面積平方公尺</th>\n",
       "    </tr>\n",
       "  </thead>\n",
       "  <tbody>\n",
       "    <tr>\n",
       "      <th>484</th>\n",
       "      <td>0.015431</td>\n",
       "    </tr>\n",
       "    <tr>\n",
       "      <th>560</th>\n",
       "      <td>0.057488</td>\n",
       "    </tr>\n",
       "    <tr>\n",
       "      <th>31</th>\n",
       "      <td>0.003089</td>\n",
       "    </tr>\n",
       "    <tr>\n",
       "      <th>41</th>\n",
       "      <td>0.014187</td>\n",
       "    </tr>\n",
       "    <tr>\n",
       "      <th>616</th>\n",
       "      <td>0.006923</td>\n",
       "    </tr>\n",
       "  </tbody>\n",
       "</table>\n",
       "</div>"
      ],
      "text/plain": [
       "     建物移轉總面積平方公尺\n",
       "484     0.015431\n",
       "560     0.057488\n",
       "31      0.003089\n",
       "41      0.014187\n",
       "616     0.006923"
      ]
     },
     "execution_count": 86,
     "metadata": {},
     "output_type": "execute_result"
    }
   ],
   "source": [
    "from sklearn.model_selection import train_test_split\n",
    "x = df[['建物移轉總面積平方公尺']]\n",
    "y = df[['總價元']]\n",
    "x_train,x_test,y_train,y_test = train_test_split(x,y,test_size=0.3)\n",
    "x_test.head()"
   ]
  },
  {
   "cell_type": "code",
   "execution_count": 87,
   "metadata": {},
   "outputs": [
    {
     "name": "stdout",
     "output_type": "stream",
     "text": [
      "各變項參數: \n",
      " [[223139.40873109]]\n",
      "均方誤差 (Mean squared error, MSE): 2483680.829\n"
     ]
    }
   ],
   "source": [
    "import matplotlib.pyplot as plt\n",
    "import numpy as np\n",
    "from sklearn import datasets, linear_model\n",
    "plt.style.use('ggplot')\n",
    "\n",
    "# linear regression 物件\n",
    "regr = linear_model.LinearRegression()\n",
    "\n",
    "# 訓練模型\n",
    "regr.fit(x_train,y_train)\n",
    "print('各變項參數: \\n',regr.coef_)\n",
    "print(\"均方誤差 (Mean squared error, MSE): %.3f\" % np.mean((regr.predict(x_test)-y_test)**2))"
   ]
  },
  {
   "cell_type": "code",
   "execution_count": 88,
   "metadata": {},
   "outputs": [
    {
     "name": "stderr",
     "output_type": "stream",
     "text": [
      "/Users/ethan/anaconda3/lib/python3.7/site-packages/matplotlib/font_manager.py:1331: UserWarning: findfont: Font family ['SimHei'] not found. Falling back to DejaVu Sans\n",
      "  (prop.get_family(), self.defaultFamily[fontext]))\n"
     ]
    },
    {
     "data": {
      "image/png": "[encoded data removed]",
      "text/plain": [
       "<Figure size 432x288 with 1 Axes>"
      ]
     },
     "metadata": {},
     "output_type": "display_data"
    }
   ],
   "source": [
    "plt.scatter(x_test,y_test,color='blue',marker='+')\n",
    "plt.plot(x_test,regr.predict(x_test),color='green',linewidth=2)\n",
    "plt.ylabel('總價元(10K)')\n",
    "plt.xlabel('建物移轉總面積平方公尺')\n",
    "\n",
    "plt.show()"
   ]
  },
  {
   "cell_type": "markdown",
   "metadata": {},
   "source": [
    "多變項線性迴歸\n",
    "\n",
    "切分訓練及測試資料 (2 features)"
   ]
  },
  {
   "cell_type": "code",
   "execution_count": 90,
   "metadata": {},
   "outputs": [
    {
     "data": {
      "text/html": [
       "<div>\n",
       "<style scoped>\n",
       "    .dataframe tbody tr th:only-of-type {\n",
       "        vertical-align: middle;\n",
       "    }\n",
       "\n",
       "    .dataframe tbody tr th {\n",
       "        vertical-align: top;\n",
       "    }\n",
       "\n",
       "    .dataframe thead th {\n",
       "        text-align: right;\n",
       "    }\n",
       "</style>\n",
       "<table border=\"1\" class=\"dataframe\">\n",
       "  <thead>\n",
       "    <tr style=\"text-align: right;\">\n",
       "      <th></th>\n",
       "      <th>建物移轉總面積平方公尺</th>\n",
       "      <th>建物現況格局-衛</th>\n",
       "    </tr>\n",
       "  </thead>\n",
       "  <tbody>\n",
       "    <tr>\n",
       "      <th>483</th>\n",
       "      <td>0.005660</td>\n",
       "      <td>0.0001</td>\n",
       "    </tr>\n",
       "    <tr>\n",
       "      <th>444</th>\n",
       "      <td>0.009160</td>\n",
       "      <td>0.0000</td>\n",
       "    </tr>\n",
       "    <tr>\n",
       "      <th>9</th>\n",
       "      <td>0.027971</td>\n",
       "      <td>0.0002</td>\n",
       "    </tr>\n",
       "    <tr>\n",
       "      <th>503</th>\n",
       "      <td>0.012401</td>\n",
       "      <td>0.0002</td>\n",
       "    </tr>\n",
       "    <tr>\n",
       "      <th>482</th>\n",
       "      <td>0.007286</td>\n",
       "      <td>0.0001</td>\n",
       "    </tr>\n",
       "  </tbody>\n",
       "</table>\n",
       "</div>"
      ],
      "text/plain": [
       "     建物移轉總面積平方公尺  建物現況格局-衛\n",
       "483     0.005660    0.0001\n",
       "444     0.009160    0.0000\n",
       "9       0.027971    0.0002\n",
       "503     0.012401    0.0002\n",
       "482     0.007286    0.0001"
      ]
     },
     "execution_count": 90,
     "metadata": {},
     "output_type": "execute_result"
    }
   ],
   "source": [
    "from sklearn.model_selection import train_test_split\n",
    "m = df[['建物移轉總面積平方公尺','建物現況格局-衛']]\n",
    "k = df[['總價元']]\n",
    "m_train,m_test,k_train,k_test = train_test_split(m,k,test_size =0.3)\n",
    "m_test.head()"
   ]
  },
  {
   "cell_type": "markdown",
   "metadata": {},
   "source": [
    "標準化 (Normalize)"
   ]
  },
  {
   "cell_type": "code",
   "execution_count": 91,
   "metadata": {},
   "outputs": [
    {
     "data": {
      "text/plain": [
       "array([[-0.18945728,  0.53511261],\n",
       "       [-0.59294748,  2.60962503],\n",
       "       [-0.81191324, -0.50214359],\n",
       "       [-0.72706604, -0.50214359],\n",
       "       [-0.86175186, -0.50214359],\n",
       "       [-0.60234794, -0.50214359],\n",
       "       [-0.12527487,  0.53511261],\n",
       "       [-0.38103206, -0.50214359],\n",
       "       [-0.82966065, -1.5393998 ],\n",
       "       [ 0.19725797,  0.53511261]])"
      ]
     },
     "execution_count": 91,
     "metadata": {},
     "output_type": "execute_result"
    }
   ],
   "source": [
    "from sklearn.preprocessing import StandardScaler\n",
    "sc = StandardScaler()\n",
    "#先算出標準差\n",
    "sc.fit(m_train)\n",
    "#開始標準化\n",
    "m_train_nor=sc.transform(m_train)\n",
    "m_test_nor = sc.transform(m_test)\n",
    "m_train_nor[:10]\n"
   ]
  },
  {
   "cell_type": "code",
   "execution_count": 92,
   "metadata": {},
   "outputs": [
    {
     "name": "stdout",
     "output_type": "stream",
     "text": [
      "各變項參數(normalized): \n",
      " [[2765.64906502 -232.49433252]]\n",
      "均方誤差 (Mean squared error, MSE): 2005821.46\n"
     ]
    }
   ],
   "source": [
    "import matplotlib.pyplot as plt\n",
    "import numpy as np\n",
    "from sklearn import datasets, linear_model\n",
    "plt.style.use('ggplot')\n",
    "\n",
    "# linear regression 物件\n",
    "regr = linear_model.LinearRegression()\n",
    "\n",
    "# 訓練模型\n",
    "regr.fit(m_train_nor, k_train)\n",
    "\n",
    "print('各變項參數(normalized): \\n', regr.coef_)\n",
    "print(\"均方誤差 (Mean squared error, MSE): %.2f\" % np.mean((regr.predict(m_test_nor) - k_test) ** 2))"
   ]
  },
  {
   "cell_type": "markdown",
   "metadata": {},
   "source": [
    "多項式(Polynomial) 非線性迴歸\n",
    "\n",
    "切分訓練及測試資料 (1 feature)"
   ]
  },
  {
   "cell_type": "code",
   "execution_count": 93,
   "metadata": {},
   "outputs": [
    {
     "data": {
      "text/html": [
       "<div>\n",
       "<style scoped>\n",
       "    .dataframe tbody tr th:only-of-type {\n",
       "        vertical-align: middle;\n",
       "    }\n",
       "\n",
       "    .dataframe tbody tr th {\n",
       "        vertical-align: top;\n",
       "    }\n",
       "\n",
       "    .dataframe thead th {\n",
       "        text-align: right;\n",
       "    }\n",
       "</style>\n",
       "<table border=\"1\" class=\"dataframe\">\n",
       "  <thead>\n",
       "    <tr style=\"text-align: right;\">\n",
       "      <th></th>\n",
       "      <th>總價元</th>\n",
       "    </tr>\n",
       "  </thead>\n",
       "  <tbody>\n",
       "    <tr>\n",
       "      <th>382</th>\n",
       "      <td>1300.0</td>\n",
       "    </tr>\n",
       "    <tr>\n",
       "      <th>19</th>\n",
       "      <td>5250.0</td>\n",
       "    </tr>\n",
       "    <tr>\n",
       "      <th>447</th>\n",
       "      <td>1045.0</td>\n",
       "    </tr>\n",
       "    <tr>\n",
       "      <th>34</th>\n",
       "      <td>1500.0</td>\n",
       "    </tr>\n",
       "    <tr>\n",
       "      <th>640</th>\n",
       "      <td>2780.0</td>\n",
       "    </tr>\n",
       "  </tbody>\n",
       "</table>\n",
       "</div>"
      ],
      "text/plain": [
       "        總價元\n",
       "382  1300.0\n",
       "19   5250.0\n",
       "447  1045.0\n",
       "34   1500.0\n",
       "640  2780.0"
      ]
     },
     "execution_count": 93,
     "metadata": {},
     "output_type": "execute_result"
    }
   ],
   "source": [
    "from sklearn.model_selection import train_test_split\n",
    "w = df[['建物移轉總面積平方公尺']]\n",
    "q = df[['總價元']]\n",
    "w_train, w_test, q_train, q_test = train_test_split(w,q, test_size = 0.3) # 30% for testing, 70% for training\n",
    "\n",
    "q_train.head()"
   ]
  },
  {
   "cell_type": "markdown",
   "metadata": {},
   "source": [
    "創造高維變項"
   ]
  },
  {
   "cell_type": "code",
   "execution_count": 94,
   "metadata": {},
   "outputs": [
    {
     "name": "stdout",
     "output_type": "stream",
     "text": [
      "各變項參數: \n",
      " [[     0.         184220.95802042 746068.46708134]]\n",
      "均方誤差 (Mean squared error, MSE): 2105909.02\n"
     ]
    },
    {
     "name": "stderr",
     "output_type": "stream",
     "text": [
      "/Users/ethan/anaconda3/lib/python3.7/site-packages/matplotlib/font_manager.py:1331: UserWarning: findfont: Font family ['SimHei'] not found. Falling back to DejaVu Sans\n",
      "  (prop.get_family(), self.defaultFamily[fontext]))\n"
     ]
    },
    {
     "data": {
      "image/png": "[encoded data removed]",
      "text/plain": [
       "<Figure size 432x288 with 1 Axes>"
      ]
     },
     "metadata": {},
     "output_type": "display_data"
    }
   ],
   "source": [
    "import matplotlib.pyplot as plt\n",
    "import numpy as np\n",
    "from sklearn import datasets,linear_model\n",
    "from sklearn.preprocessing import PolynomialFeatures\n",
    "plt.style.use('ggplot')\n",
    "\n",
    "quadratic = PolynomialFeatures(degree=2)\n",
    "w_train_raw = w_train.copy()#原始w_train\n",
    "w_test_raw = w_test.copy()#原始w_test\n",
    "w_train = quadratic.fit_transform(w_train_raw)#產生x^0, x^1, x^2 \n",
    "w_test = quadratic.fit_transform(w_test_raw)#產生x^0, x^1, x^2\n",
    "\n",
    "w_fit = pd.DataFrame(np.arange(0,0.1,0.001))#自己創造產生DataFrame給畫圖用 0~0.099，中間間隔0.001\n",
    "\n",
    "regr = linear_model.LinearRegression()\n",
    "regr.fit(w_train ,q_train)\n",
    "print('各變項參數: \\n', regr.coef_)\n",
    "print(\"均方誤差 (Mean squared error, MSE): %.2f\" % np.mean((regr.predict(w_test) - q_test) ** 2))\n",
    "\n",
    "\n",
    "\n",
    "# Plot outputs\n",
    "plt.scatter(w_test_raw,q_test,  color='blue', marker = 'x')\n",
    "plt.plot(w_fit, regr.predict(quadratic.fit_transform(w_fit)), color='green', linewidth=1)\n",
    "\n",
    "plt.show()\n"
   ]
  },
  {
   "cell_type": "code",
   "execution_count": null,
   "metadata": {},
   "outputs": [],
   "source": []
  },
  {
   "cell_type": "code",
   "execution_count": null,
   "metadata": {},
   "outputs": [],
   "source": []
  }
 ],
 "metadata": {
  "kernelspec": {
   "display_name": "Python 3",
   "language": "python",
   "name": "python3"
  },
  "language_info": {
   "codemirror_mode": {
    "name": "ipython",
    "version": 3
   },
   "file_extension": ".py",
   "mimetype": "text/x-python",
   "name": "python",
   "nbconvert_exporter": "python",
   "pygments_lexer": "ipython3",
   "version": "3.7.2"
  }
 },
 "nbformat": 4,
 "nbformat_minor": 2
}
