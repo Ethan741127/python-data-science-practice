{
 "cells": [
  {
   "cell_type": "markdown",
   "metadata": {},
   "source": [
    "四分位數與boxplot"
   ]
  },
  {
   "cell_type": "code",
   "execution_count": 9,
   "metadata": {},
   "outputs": [
    {
     "data": {
      "image/png": "[encoded data removed]",
      "text/plain": [
       "<Figure size 432x288 with 1 Axes>"
      ]
     },
     "metadata": {
      "needs_background": "light"
     },
     "output_type": "display_data"
    }
   ],
   "source": [
    "import matplotlib.pyplot as plt\n",
    "import numpy as np\n",
    "\n",
    "%matplotlib inline \n",
    "#don't write plt.show() every time\n",
    "\n",
    "x = np.random.randn(1000)#常態分佈的函數\n",
    "r = plt.boxplot(x,showfliers=True)\n",
    "#showfliers=True show出異常值\n",
    "plt.show()"
   ]
  },
  {
   "cell_type": "code",
   "execution_count": 10,
   "metadata": {},
   "outputs": [
    {
     "data": {
      "text/plain": [
       "{'whiskers': [<matplotlib.lines.Line2D at 0x11feda518>,\n",
       "  <matplotlib.lines.Line2D at 0x11feda940>],\n",
       " 'caps': [<matplotlib.lines.Line2D at 0x11fedad68>,\n",
       "  <matplotlib.lines.Line2D at 0x11fedadd8>],\n",
       " 'boxes': [<matplotlib.lines.Line2D at 0x11feda048>],\n",
       " 'medians': [<matplotlib.lines.Line2D at 0x11fee06a0>],\n",
       " 'fliers': [<matplotlib.lines.Line2D at 0x11fee0a20>],\n",
       " 'means': []}"
      ]
     },
     "execution_count": 10,
     "metadata": {},
     "output_type": "execute_result"
    }
   ],
   "source": [
    "r"
   ]
  },
  {
   "cell_type": "code",
   "execution_count": 12,
   "metadata": {},
   "outputs": [
    {
     "data": {
      "text/plain": [
       "array([-2.76101109, -3.03845691, -2.86856214, -2.87717888, -2.76054475,\n",
       "       -3.43570839,  2.70520878,  3.97353956])"
      ]
     },
     "execution_count": 12,
     "metadata": {},
     "output_type": "execute_result"
    }
   ],
   "source": [
    "r['fliers'][0].get_data()[1]"
   ]
  },
  {
   "cell_type": "code",
   "execution_count": 18,
   "metadata": {},
   "outputs": [
    {
     "name": "stdout",
     "output_type": "stream",
     "text": [
      "四分位數： [-0.69660912 -0.01768954  0.65406644]\n"
     ]
    }
   ],
   "source": [
    "from scipy.stats.mstats import mquantiles\n",
    "print('四分位數：',mquantiles(x))"
   ]
  },
  {
   "cell_type": "code",
   "execution_count": 19,
   "metadata": {},
   "outputs": [
    {
     "name": "stdout",
     "output_type": "stream",
     "text": [
      "IQC: 1.3506755537432693\n"
     ]
    }
   ],
   "source": [
    "IQC = mquantiles(x)[2]-mquantiles(x)[0]\n",
    "print('IQC:',IQC)"
   ]
  },
  {
   "cell_type": "code",
   "execution_count": 23,
   "metadata": {},
   "outputs": [
    {
     "name": "stdout",
     "output_type": "stream",
     "text": [
      "maximum: 2.680079766761384\n"
     ]
    }
   ],
   "source": [
    "maximum = mquantiles(x)[2]+IQC* 1.5\n",
    "print('maximum:',maximum)"
   ]
  },
  {
   "cell_type": "code",
   "execution_count": 24,
   "metadata": {},
   "outputs": [
    {
     "name": "stdout",
     "output_type": "stream",
     "text": [
      "minimum: -2.722622448211694\n"
     ]
    }
   ],
   "source": [
    "minimum = mquantiles(x)[0]- IQC*1.5\n",
    "print('minimum:',minimum)"
   ]
  },
  {
   "cell_type": "code",
   "execution_count": null,
   "metadata": {},
   "outputs": [],
   "source": []
  },
  {
   "cell_type": "markdown",
   "metadata": {},
   "source": [
    "常態分佈標準差"
   ]
  },
  {
   "cell_type": "code",
   "execution_count": 29,
   "metadata": {},
   "outputs": [
    {
     "data": {
      "text/plain": [
       "<matplotlib.axes._subplots.AxesSubplot at 0x1a232d6ba8>"
      ]
     },
     "execution_count": 29,
     "metadata": {},
     "output_type": "execute_result"
    },
    {
     "data": {
      "image/png": "[encoded data removed]",
      "text/plain": [
       "<Figure size 432x288 with 1 Axes>"
      ]
     },
     "metadata": {
      "needs_background": "light"
     },
     "output_type": "display_data"
    }
   ],
   "source": [
    "import pandas as pd\n",
    "df = pd.DataFrame({'x':x})\n",
    "x[10]\n",
    "df.plot(kind='kde',title='PDF')"
   ]
  },
  {
   "cell_type": "code",
   "execution_count": 30,
   "metadata": {},
   "outputs": [
    {
     "name": "stdout",
     "output_type": "stream",
     "text": [
      "平均數 -0.03597779246282262\n"
     ]
    }
   ],
   "source": [
    "print('平均數',x.mean())"
   ]
  },
  {
   "cell_type": "code",
   "execution_count": 31,
   "metadata": {},
   "outputs": [
    {
     "name": "stdout",
     "output_type": "stream",
     "text": [
      "標準差 1.0213174287962454\n"
     ]
    }
   ],
   "source": [
    " print('標準差',x.std())"
   ]
  },
  {
   "cell_type": "code",
   "execution_count": 34,
   "metadata": {},
   "outputs": [
    {
     "name": "stdout",
     "output_type": "stream",
     "text": [
      "最大值 3.027974493925914\n"
     ]
    }
   ],
   "source": [
    "print('最大值',x.mean()+3*x.std())"
   ]
  },
  {
   "cell_type": "code",
   "execution_count": 36,
   "metadata": {},
   "outputs": [
    {
     "name": "stdout",
     "output_type": "stream",
     "text": [
      "最小值 -3.0999300788515587\n"
     ]
    }
   ],
   "source": [
    "print('最小值',x.mean()-3*x.std())"
   ]
  },
  {
   "cell_type": "code",
   "execution_count": 40,
   "metadata": {},
   "outputs": [
    {
     "name": "stdout",
     "output_type": "stream",
     "text": [
      "超過最大值的異常值：            x\n",
      "222  3.97354\n"
     ]
    }
   ],
   "source": [
    "print('超過最大值的異常值：', df[df['x'] > x.mean()+ 3 * x.std()])"
   ]
  },
  {
   "cell_type": "code",
   "execution_count": 41,
   "metadata": {},
   "outputs": [
    {
     "name": "stdout",
     "output_type": "stream",
     "text": [
      "超過最小值的異常值：             x\n",
      "959 -3.435708\n"
     ]
    }
   ],
   "source": [
    "print('超過最小值的異常值：', df[df['x'] < x.mean()- 3 * x.std()])"
   ]
  },
  {
   "cell_type": "code",
   "execution_count": null,
   "metadata": {},
   "outputs": [],
   "source": [
    "  "
   ]
  }
 ],
 "metadata": {
  "kernelspec": {
   "display_name": "Python 3",
   "language": "python",
   "name": "python3"
  },
  "language_info": {
   "codemirror_mode": {
    "name": "ipython",
    "version": 3
   },
   "file_extension": ".py",
   "mimetype": "text/x-python",
   "name": "python",
   "nbconvert_exporter": "python",
   "pygments_lexer": "ipython3",
   "version": "3.7.2"
  }
 },
 "nbformat": 4,
 "nbformat_minor": 2
}
