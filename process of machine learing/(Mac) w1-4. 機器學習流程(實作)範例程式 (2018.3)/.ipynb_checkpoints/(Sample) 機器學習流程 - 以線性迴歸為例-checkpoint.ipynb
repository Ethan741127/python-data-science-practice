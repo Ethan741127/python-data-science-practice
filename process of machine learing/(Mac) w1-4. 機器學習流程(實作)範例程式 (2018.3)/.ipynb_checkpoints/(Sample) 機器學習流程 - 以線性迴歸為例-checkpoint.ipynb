{
 "cells": [
  {
   "cell_type": "markdown",
   "metadata": {},
   "source": [
    "### 資料來源：政府開放資料平台 - 不動產買賣實價登錄批次資料 (http://data.gov.tw/node/6213) - 台北市資料"
   ]
  },
  {
   "cell_type": "markdown",
   "metadata": {},
   "source": [
    "# 一、資料匯入"
   ]
  },
  {
   "cell_type": "code",
   "execution_count": 1,
   "metadata": {},
   "outputs": [
    {
     "data": {
      "text/html": [
       "<div>\n",
       "<style scoped>\n",
       "    .dataframe tbody tr th:only-of-type {\n",
       "        vertical-align: middle;\n",
       "    }\n",
       "\n",
       "    .dataframe tbody tr th {\n",
       "        vertical-align: top;\n",
       "    }\n",
       "\n",
       "    .dataframe thead th {\n",
       "        text-align: right;\n",
       "    }\n",
       "</style>\n",
       "<table border=\"1\" class=\"dataframe\">\n",
       "  <thead>\n",
       "    <tr style=\"text-align: right;\">\n",
       "      <th></th>\n",
       "      <th>鄉鎮市區</th>\n",
       "      <th>交易標的</th>\n",
       "      <th>土地區段位置或建物區門牌</th>\n",
       "      <th>土地移轉總面積平方公尺</th>\n",
       "      <th>都市土地使用分區</th>\n",
       "      <th>非都市土地使用分區</th>\n",
       "      <th>非都市土地使用編定</th>\n",
       "      <th>交易年月日</th>\n",
       "      <th>交易筆棟數</th>\n",
       "      <th>移轉層次</th>\n",
       "      <th>總樓層數</th>\n",
       "      <th>建物型態</th>\n",
       "      <th>主要用途</th>\n",
       "      <th>主要建材</th>\n",
       "      <th>建築完成年月</th>\n",
       "      <th>建物移轉總面積平方公尺</th>\n",
       "      <th>建物現況格局-房</th>\n",
       "      <th>建物現況格局-廳</th>\n",
       "      <th>建物現況格局-衛</th>\n",
       "      <th>建物現況格局-隔間</th>\n",
       "      <th>有無管理組織</th>\n",
       "      <th>總價元</th>\n",
       "      <th>單價每平方公尺</th>\n",
       "      <th>車位類別</th>\n",
       "      <th>車位移轉總面積平方公尺</th>\n",
       "      <th>車位總價元</th>\n",
       "      <th>備註</th>\n",
       "      <th>編號</th>\n",
       "    </tr>\n",
       "  </thead>\n",
       "  <tbody>\n",
       "    <tr>\n",
       "      <th>831</th>\n",
       "      <td>南港區</td>\n",
       "      <td>車位</td>\n",
       "      <td>臺北市南港區經貿二路211~240號</td>\n",
       "      <td>0.44</td>\n",
       "      <td>住</td>\n",
       "      <td>NaN</td>\n",
       "      <td>NaN</td>\n",
       "      <td>1060420</td>\n",
       "      <td>土地0建物0車位1</td>\n",
       "      <td>NaN</td>\n",
       "      <td>NaN</td>\n",
       "      <td>其他</td>\n",
       "      <td>NaN</td>\n",
       "      <td>NaN</td>\n",
       "      <td>NaN</td>\n",
       "      <td>29.44</td>\n",
       "      <td>0</td>\n",
       "      <td>0</td>\n",
       "      <td>0</td>\n",
       "      <td>有</td>\n",
       "      <td>有</td>\n",
       "      <td>2300000</td>\n",
       "      <td>NaN</td>\n",
       "      <td>坡道平面</td>\n",
       "      <td>29.44</td>\n",
       "      <td>2300000</td>\n",
       "      <td>單獨車位交易。</td>\n",
       "      <td>RPRQMLNJPHMFFDA18CA</td>\n",
       "    </tr>\n",
       "    <tr>\n",
       "      <th>290</th>\n",
       "      <td>南港區</td>\n",
       "      <td>土地</td>\n",
       "      <td>玉成段五小段691~720地號</td>\n",
       "      <td>47.22</td>\n",
       "      <td>其他</td>\n",
       "      <td>NaN</td>\n",
       "      <td>NaN</td>\n",
       "      <td>1060518</td>\n",
       "      <td>土地2建物0車位0</td>\n",
       "      <td>NaN</td>\n",
       "      <td>NaN</td>\n",
       "      <td>其他</td>\n",
       "      <td>NaN</td>\n",
       "      <td>NaN</td>\n",
       "      <td>NaN</td>\n",
       "      <td>0.00</td>\n",
       "      <td>0</td>\n",
       "      <td>0</td>\n",
       "      <td>0</td>\n",
       "      <td>有</td>\n",
       "      <td>無</td>\n",
       "      <td>3300541</td>\n",
       "      <td>69897.0</td>\n",
       "      <td>NaN</td>\n",
       "      <td>0.00</td>\n",
       "      <td>0</td>\n",
       "      <td>(包含)公共設施保留地之交易</td>\n",
       "      <td>RPUOMLPJOHMFFDA38CA</td>\n",
       "    </tr>\n",
       "    <tr>\n",
       "      <th>556</th>\n",
       "      <td>信義區</td>\n",
       "      <td>房地(土地+建物)+車位</td>\n",
       "      <td>臺北市信義區松信路50巷1~30號</td>\n",
       "      <td>55.66</td>\n",
       "      <td>住</td>\n",
       "      <td>NaN</td>\n",
       "      <td>NaN</td>\n",
       "      <td>1060518</td>\n",
       "      <td>土地1建物1車位3</td>\n",
       "      <td>十層</td>\n",
       "      <td>十四層</td>\n",
       "      <td>住宅大樓(11層含以上有電梯)</td>\n",
       "      <td>住家用</td>\n",
       "      <td>鋼骨鋼筋混凝土造</td>\n",
       "      <td>1021206.0</td>\n",
       "      <td>387.28</td>\n",
       "      <td>0</td>\n",
       "      <td>0</td>\n",
       "      <td>0</td>\n",
       "      <td>無</td>\n",
       "      <td>有</td>\n",
       "      <td>75000000</td>\n",
       "      <td>277040.0</td>\n",
       "      <td>坡道平面</td>\n",
       "      <td>134.97</td>\n",
       "      <td>5100000</td>\n",
       "      <td>NaN</td>\n",
       "      <td>RPTNMLQLOHMFFDA48CA</td>\n",
       "    </tr>\n",
       "    <tr>\n",
       "      <th>279</th>\n",
       "      <td>士林區</td>\n",
       "      <td>房地(土地+建物)+車位</td>\n",
       "      <td>臺北市士林區天玉街31~60號</td>\n",
       "      <td>72.53</td>\n",
       "      <td>住</td>\n",
       "      <td>NaN</td>\n",
       "      <td>NaN</td>\n",
       "      <td>1060416</td>\n",
       "      <td>土地1建物1車位2</td>\n",
       "      <td>四層</td>\n",
       "      <td>十九層</td>\n",
       "      <td>住宅大樓(11層含以上有電梯)</td>\n",
       "      <td>住家用</td>\n",
       "      <td>見使用執照</td>\n",
       "      <td>910917.0</td>\n",
       "      <td>376.34</td>\n",
       "      <td>3</td>\n",
       "      <td>2</td>\n",
       "      <td>2</td>\n",
       "      <td>有</td>\n",
       "      <td>有</td>\n",
       "      <td>80880000</td>\n",
       "      <td>214912.0</td>\n",
       "      <td>坡道平面</td>\n",
       "      <td>105.66</td>\n",
       "      <td>0</td>\n",
       "      <td>NaN</td>\n",
       "      <td>RPVNMLQJOHMFFEA58CA</td>\n",
       "    </tr>\n",
       "    <tr>\n",
       "      <th>719</th>\n",
       "      <td>松山區</td>\n",
       "      <td>車位</td>\n",
       "      <td>臺北市松山區南京東路三段256巷1~30號</td>\n",
       "      <td>0.20</td>\n",
       "      <td>商</td>\n",
       "      <td>NaN</td>\n",
       "      <td>NaN</td>\n",
       "      <td>1060428</td>\n",
       "      <td>土地0建物0車位1</td>\n",
       "      <td>一層</td>\n",
       "      <td>五層</td>\n",
       "      <td>其他</td>\n",
       "      <td>見其他登記事項</td>\n",
       "      <td>鋼筋混凝土造</td>\n",
       "      <td>930924.0</td>\n",
       "      <td>28.52</td>\n",
       "      <td>0</td>\n",
       "      <td>0</td>\n",
       "      <td>0</td>\n",
       "      <td>有</td>\n",
       "      <td>有</td>\n",
       "      <td>1000000</td>\n",
       "      <td>NaN</td>\n",
       "      <td>塔式車位</td>\n",
       "      <td>0.00</td>\n",
       "      <td>0</td>\n",
       "      <td>NaN</td>\n",
       "      <td>RPTNMLNKOHMFFDA08CA</td>\n",
       "    </tr>\n",
       "  </tbody>\n",
       "</table>\n",
       "</div>"
      ],
      "text/plain": [
       "    鄉鎮市區          交易標的           土地區段位置或建物區門牌  土地移轉總面積平方公尺 都市土地使用分區  \\\n",
       "831  南港區            車位     臺北市南港區經貿二路211~240號         0.44        住   \n",
       "290  南港區            土地        玉成段五小段691~720地號        47.22       其他   \n",
       "556  信義區  房地(土地+建物)+車位      臺北市信義區松信路50巷1~30號        55.66        住   \n",
       "279  士林區  房地(土地+建物)+車位        臺北市士林區天玉街31~60號        72.53        住   \n",
       "719  松山區            車位  臺北市松山區南京東路三段256巷1~30號         0.20        商   \n",
       "\n",
       "     非都市土地使用分區  非都市土地使用編定    交易年月日      交易筆棟數 移轉層次 總樓層數             建物型態  \\\n",
       "831        NaN        NaN  1060420  土地0建物0車位1  NaN  NaN               其他   \n",
       "290        NaN        NaN  1060518  土地2建物0車位0  NaN  NaN               其他   \n",
       "556        NaN        NaN  1060518  土地1建物1車位3   十層  十四層  住宅大樓(11層含以上有電梯)   \n",
       "279        NaN        NaN  1060416  土地1建物1車位2   四層  十九層  住宅大樓(11層含以上有電梯)   \n",
       "719        NaN        NaN  1060428  土地0建物0車位1   一層   五層               其他   \n",
       "\n",
       "        主要用途      主要建材     建築完成年月  建物移轉總面積平方公尺  建物現況格局-房  建物現況格局-廳  建物現況格局-衛  \\\n",
       "831      NaN       NaN        NaN        29.44         0         0         0   \n",
       "290      NaN       NaN        NaN         0.00         0         0         0   \n",
       "556      住家用  鋼骨鋼筋混凝土造  1021206.0       387.28         0         0         0   \n",
       "279      住家用     見使用執照   910917.0       376.34         3         2         2   \n",
       "719  見其他登記事項    鋼筋混凝土造   930924.0        28.52         0         0         0   \n",
       "\n",
       "    建物現況格局-隔間 有無管理組織       總價元   單價每平方公尺  車位類別  車位移轉總面積平方公尺    車位總價元  \\\n",
       "831         有      有   2300000       NaN  坡道平面        29.44  2300000   \n",
       "290         有      無   3300541   69897.0   NaN         0.00        0   \n",
       "556         無      有  75000000  277040.0  坡道平面       134.97  5100000   \n",
       "279         有      有  80880000  214912.0  坡道平面       105.66        0   \n",
       "719         有      有   1000000       NaN  塔式車位         0.00        0   \n",
       "\n",
       "                 備註                   編號  \n",
       "831         單獨車位交易。  RPRQMLNJPHMFFDA18CA  \n",
       "290  (包含)公共設施保留地之交易  RPUOMLPJOHMFFDA38CA  \n",
       "556             NaN  RPTNMLQLOHMFFDA48CA  \n",
       "279             NaN  RPVNMLQJOHMFFEA58CA  \n",
       "719             NaN  RPTNMLNKOHMFFDA08CA  "
      ]
     },
     "execution_count": 1,
     "metadata": {},
     "output_type": "execute_result"
    }
   ],
   "source": [
    "import pandas as pd\n",
    "import numpy as np\n",
    "import matplotlib.pyplot as plt\n",
    "\n",
    "%matplotlib inline\n",
    "plt.style.use('ggplot')\n",
    "plt.rcParams['font.family']='SimHei' #顯示中文\n",
    "plt.rcParams['axes.unicode_minus']=False #正常顯示負號\n",
    "\n",
    "pd.set_option(\"display.max_columns\",50) #設定pandas最多顯示出50個欄位資訊\n",
    "\n",
    "df = pd.read_csv('A_LVR_LAND_A.csv', encoding='big5') #台北市\n",
    "df.sample(5) #隨機取其中5筆資料"
   ]
  },
  {
   "cell_type": "markdown",
   "metadata": {},
   "source": [
    "# 二、資料預處理(一)"
   ]
  },
  {
   "cell_type": "markdown",
   "metadata": {},
   "source": [
    "## 2.1 交易標的：非土地、車位交易"
   ]
  },
  {
   "cell_type": "code",
   "execution_count": 2,
   "metadata": {},
   "outputs": [
    {
     "data": {
      "text/html": [
       "<div>\n",
       "<style scoped>\n",
       "    .dataframe tbody tr th:only-of-type {\n",
       "        vertical-align: middle;\n",
       "    }\n",
       "\n",
       "    .dataframe tbody tr th {\n",
       "        vertical-align: top;\n",
       "    }\n",
       "\n",
       "    .dataframe thead th {\n",
       "        text-align: right;\n",
       "    }\n",
       "</style>\n",
       "<table border=\"1\" class=\"dataframe\">\n",
       "  <thead>\n",
       "    <tr style=\"text-align: right;\">\n",
       "      <th></th>\n",
       "      <th>土地移轉總面積平方公尺</th>\n",
       "      <th>非都市土地使用分區</th>\n",
       "      <th>非都市土地使用編定</th>\n",
       "      <th>交易年月日</th>\n",
       "      <th>建築完成年月</th>\n",
       "      <th>建物移轉總面積平方公尺</th>\n",
       "      <th>建物現況格局-房</th>\n",
       "      <th>建物現況格局-廳</th>\n",
       "      <th>建物現況格局-衛</th>\n",
       "      <th>總價元</th>\n",
       "      <th>單價每平方公尺</th>\n",
       "      <th>車位移轉總面積平方公尺</th>\n",
       "      <th>車位總價元</th>\n",
       "    </tr>\n",
       "    <tr>\n",
       "      <th>交易標的</th>\n",
       "      <th></th>\n",
       "      <th></th>\n",
       "      <th></th>\n",
       "      <th></th>\n",
       "      <th></th>\n",
       "      <th></th>\n",
       "      <th></th>\n",
       "      <th></th>\n",
       "      <th></th>\n",
       "      <th></th>\n",
       "      <th></th>\n",
       "      <th></th>\n",
       "      <th></th>\n",
       "    </tr>\n",
       "  </thead>\n",
       "  <tbody>\n",
       "    <tr>\n",
       "      <th>土地</th>\n",
       "      <td>215.995593</td>\n",
       "      <td>NaN</td>\n",
       "      <td>NaN</td>\n",
       "      <td>1.059181e+06</td>\n",
       "      <td>NaN</td>\n",
       "      <td>0.000000</td>\n",
       "      <td>0.000000</td>\n",
       "      <td>0.000000</td>\n",
       "      <td>0.000000</td>\n",
       "      <td>7.343879e+06</td>\n",
       "      <td>123041.372881</td>\n",
       "      <td>0.000000</td>\n",
       "      <td>0.000000e+00</td>\n",
       "    </tr>\n",
       "    <tr>\n",
       "      <th>建物</th>\n",
       "      <td>0.000000</td>\n",
       "      <td>NaN</td>\n",
       "      <td>NaN</td>\n",
       "      <td>1.054469e+06</td>\n",
       "      <td>941057.222222</td>\n",
       "      <td>80.709000</td>\n",
       "      <td>1.000000</td>\n",
       "      <td>0.600000</td>\n",
       "      <td>1.100000</td>\n",
       "      <td>5.636200e+06</td>\n",
       "      <td>82164.800000</td>\n",
       "      <td>0.000000</td>\n",
       "      <td>0.000000e+00</td>\n",
       "    </tr>\n",
       "    <tr>\n",
       "      <th>房地(土地+建物)</th>\n",
       "      <td>22.567617</td>\n",
       "      <td>NaN</td>\n",
       "      <td>NaN</td>\n",
       "      <td>1.059772e+06</td>\n",
       "      <td>765348.258373</td>\n",
       "      <td>86.596289</td>\n",
       "      <td>2.189453</td>\n",
       "      <td>1.447266</td>\n",
       "      <td>1.380859</td>\n",
       "      <td>1.472509e+07</td>\n",
       "      <td>166718.550781</td>\n",
       "      <td>0.000000</td>\n",
       "      <td>0.000000e+00</td>\n",
       "    </tr>\n",
       "    <tr>\n",
       "      <th>房地(土地+建物)+車位</th>\n",
       "      <td>36.521667</td>\n",
       "      <td>NaN</td>\n",
       "      <td>NaN</td>\n",
       "      <td>1.058768e+06</td>\n",
       "      <td>967275.413953</td>\n",
       "      <td>228.741806</td>\n",
       "      <td>2.430556</td>\n",
       "      <td>1.504630</td>\n",
       "      <td>1.597222</td>\n",
       "      <td>4.283112e+07</td>\n",
       "      <td>191406.018605</td>\n",
       "      <td>34.382361</td>\n",
       "      <td>1.393102e+06</td>\n",
       "    </tr>\n",
       "    <tr>\n",
       "      <th>車位</th>\n",
       "      <td>2.486136</td>\n",
       "      <td>NaN</td>\n",
       "      <td>NaN</td>\n",
       "      <td>1.060058e+06</td>\n",
       "      <td>908492.702703</td>\n",
       "      <td>41.700682</td>\n",
       "      <td>0.000000</td>\n",
       "      <td>0.000000</td>\n",
       "      <td>0.000000</td>\n",
       "      <td>2.502386e+06</td>\n",
       "      <td>NaN</td>\n",
       "      <td>30.595227</td>\n",
       "      <td>2.368295e+06</td>\n",
       "    </tr>\n",
       "  </tbody>\n",
       "</table>\n",
       "</div>"
      ],
      "text/plain": [
       "              土地移轉總面積平方公尺  非都市土地使用分區  非都市土地使用編定         交易年月日         建築完成年月  \\\n",
       "交易標的                                                                           \n",
       "土地             215.995593        NaN        NaN  1.059181e+06            NaN   \n",
       "建物               0.000000        NaN        NaN  1.054469e+06  941057.222222   \n",
       "房地(土地+建物)       22.567617        NaN        NaN  1.059772e+06  765348.258373   \n",
       "房地(土地+建物)+車位    36.521667        NaN        NaN  1.058768e+06  967275.413953   \n",
       "車位               2.486136        NaN        NaN  1.060058e+06  908492.702703   \n",
       "\n",
       "              建物移轉總面積平方公尺  建物現況格局-房  建物現況格局-廳  建物現況格局-衛           總價元  \\\n",
       "交易標的                                                                    \n",
       "土地               0.000000  0.000000  0.000000  0.000000  7.343879e+06   \n",
       "建物              80.709000  1.000000  0.600000  1.100000  5.636200e+06   \n",
       "房地(土地+建物)       86.596289  2.189453  1.447266  1.380859  1.472509e+07   \n",
       "房地(土地+建物)+車位   228.741806  2.430556  1.504630  1.597222  4.283112e+07   \n",
       "車位              41.700682  0.000000  0.000000  0.000000  2.502386e+06   \n",
       "\n",
       "                    單價每平方公尺  車位移轉總面積平方公尺         車位總價元  \n",
       "交易標的                                                    \n",
       "土地            123041.372881     0.000000  0.000000e+00  \n",
       "建物             82164.800000     0.000000  0.000000e+00  \n",
       "房地(土地+建物)     166718.550781     0.000000  0.000000e+00  \n",
       "房地(土地+建物)+車位  191406.018605    34.382361  1.393102e+06  \n",
       "車位                      NaN    30.595227  2.368295e+06  "
      ]
     },
     "execution_count": 2,
     "metadata": {},
     "output_type": "execute_result"
    }
   ],
   "source": [
    "df.groupby('交易標的').mean()"
   ]
  },
  {
   "cell_type": "code",
   "execution_count": 3,
   "metadata": {},
   "outputs": [],
   "source": [
    "# 去除土地和車位兩種交易資料\n",
    "df = df[(df['交易標的']!='土地') & (df['交易標的']!='車位')].reset_index(drop=True)"
   ]
  },
  {
   "cell_type": "code",
   "execution_count": 4,
   "metadata": {},
   "outputs": [],
   "source": [
    "df.loc[:,'總價元'] = df.loc[:,'總價元']/10000 #改成以萬為單位，方便圖表顯示"
   ]
  },
  {
   "cell_type": "code",
   "execution_count": 5,
   "metadata": {},
   "outputs": [
    {
     "data": {
      "text/html": [
       "<div>\n",
       "<style scoped>\n",
       "    .dataframe tbody tr th:only-of-type {\n",
       "        vertical-align: middle;\n",
       "    }\n",
       "\n",
       "    .dataframe tbody tr th {\n",
       "        vertical-align: top;\n",
       "    }\n",
       "\n",
       "    .dataframe thead th {\n",
       "        text-align: right;\n",
       "    }\n",
       "</style>\n",
       "<table border=\"1\" class=\"dataframe\">\n",
       "  <thead>\n",
       "    <tr style=\"text-align: right;\">\n",
       "      <th></th>\n",
       "      <th>土地移轉總面積平方公尺</th>\n",
       "      <th>非都市土地使用分區</th>\n",
       "      <th>非都市土地使用編定</th>\n",
       "      <th>交易年月日</th>\n",
       "      <th>建築完成年月</th>\n",
       "      <th>建物移轉總面積平方公尺</th>\n",
       "      <th>建物現況格局-房</th>\n",
       "      <th>建物現況格局-廳</th>\n",
       "      <th>建物現況格局-衛</th>\n",
       "      <th>總價元</th>\n",
       "      <th>單價每平方公尺</th>\n",
       "      <th>車位移轉總面積平方公尺</th>\n",
       "      <th>車位總價元</th>\n",
       "    </tr>\n",
       "    <tr>\n",
       "      <th>交易標的</th>\n",
       "      <th></th>\n",
       "      <th></th>\n",
       "      <th></th>\n",
       "      <th></th>\n",
       "      <th></th>\n",
       "      <th></th>\n",
       "      <th></th>\n",
       "      <th></th>\n",
       "      <th></th>\n",
       "      <th></th>\n",
       "      <th></th>\n",
       "      <th></th>\n",
       "      <th></th>\n",
       "    </tr>\n",
       "  </thead>\n",
       "  <tbody>\n",
       "    <tr>\n",
       "      <th>建物</th>\n",
       "      <td>0.000000</td>\n",
       "      <td>NaN</td>\n",
       "      <td>NaN</td>\n",
       "      <td>1.054469e+06</td>\n",
       "      <td>941057.222222</td>\n",
       "      <td>80.709000</td>\n",
       "      <td>1.000000</td>\n",
       "      <td>0.600000</td>\n",
       "      <td>1.100000</td>\n",
       "      <td>563.620000</td>\n",
       "      <td>82164.800000</td>\n",
       "      <td>0.000000</td>\n",
       "      <td>0.000000e+00</td>\n",
       "    </tr>\n",
       "    <tr>\n",
       "      <th>房地(土地+建物)</th>\n",
       "      <td>22.567617</td>\n",
       "      <td>NaN</td>\n",
       "      <td>NaN</td>\n",
       "      <td>1.059772e+06</td>\n",
       "      <td>765348.258373</td>\n",
       "      <td>86.596289</td>\n",
       "      <td>2.189453</td>\n",
       "      <td>1.447266</td>\n",
       "      <td>1.380859</td>\n",
       "      <td>1472.509301</td>\n",
       "      <td>166718.550781</td>\n",
       "      <td>0.000000</td>\n",
       "      <td>0.000000e+00</td>\n",
       "    </tr>\n",
       "    <tr>\n",
       "      <th>房地(土地+建物)+車位</th>\n",
       "      <td>36.521667</td>\n",
       "      <td>NaN</td>\n",
       "      <td>NaN</td>\n",
       "      <td>1.058768e+06</td>\n",
       "      <td>967275.413953</td>\n",
       "      <td>228.741806</td>\n",
       "      <td>2.430556</td>\n",
       "      <td>1.504630</td>\n",
       "      <td>1.597222</td>\n",
       "      <td>4283.111866</td>\n",
       "      <td>191406.018605</td>\n",
       "      <td>34.382361</td>\n",
       "      <td>1.393102e+06</td>\n",
       "    </tr>\n",
       "  </tbody>\n",
       "</table>\n",
       "</div>"
      ],
      "text/plain": [
       "              土地移轉總面積平方公尺  非都市土地使用分區  非都市土地使用編定         交易年月日         建築完成年月  \\\n",
       "交易標的                                                                           \n",
       "建物               0.000000        NaN        NaN  1.054469e+06  941057.222222   \n",
       "房地(土地+建物)       22.567617        NaN        NaN  1.059772e+06  765348.258373   \n",
       "房地(土地+建物)+車位    36.521667        NaN        NaN  1.058768e+06  967275.413953   \n",
       "\n",
       "              建物移轉總面積平方公尺  建物現況格局-房  建物現況格局-廳  建物現況格局-衛          總價元  \\\n",
       "交易標的                                                                   \n",
       "建物              80.709000  1.000000  0.600000  1.100000   563.620000   \n",
       "房地(土地+建物)       86.596289  2.189453  1.447266  1.380859  1472.509301   \n",
       "房地(土地+建物)+車位   228.741806  2.430556  1.504630  1.597222  4283.111866   \n",
       "\n",
       "                    單價每平方公尺  車位移轉總面積平方公尺         車位總價元  \n",
       "交易標的                                                    \n",
       "建物             82164.800000     0.000000  0.000000e+00  \n",
       "房地(土地+建物)     166718.550781     0.000000  0.000000e+00  \n",
       "房地(土地+建物)+車位  191406.018605    34.382361  1.393102e+06  "
      ]
     },
     "execution_count": 5,
     "metadata": {},
     "output_type": "execute_result"
    }
   ],
   "source": [
    "df.groupby('交易標的').mean()"
   ]
  },
  {
   "cell_type": "markdown",
   "metadata": {},
   "source": [
    "## 2.2 產生特徵：交易年/屋齡"
   ]
  },
  {
   "cell_type": "code",
   "execution_count": 6,
   "metadata": {},
   "outputs": [
    {
     "name": "stdout",
     "output_type": "stream",
     "text": [
      "1040303\n",
      "<class 'numpy.int64'>\n"
     ]
    }
   ],
   "source": [
    "print(df.loc[0,'交易年月日'])\n",
    "print(type(df.loc[0,'交易年月日']))"
   ]
  },
  {
   "cell_type": "code",
   "execution_count": 7,
   "metadata": {},
   "outputs": [],
   "source": [
    "for i in range(len(df)):\n",
    "    df.loc[i,'交易年'] = round(df.loc[i,'交易年月日']/10000)"
   ]
  },
  {
   "cell_type": "code",
   "execution_count": 8,
   "metadata": {},
   "outputs": [
    {
     "name": "stdout",
     "output_type": "stream",
     "text": [
      "831111.0\n",
      "<class 'numpy.float64'>\n"
     ]
    }
   ],
   "source": [
    "print(df.loc[0,'建築完成年月'])\n",
    "print(type(df.loc[0,'建築完成年月']))"
   ]
  },
  {
   "cell_type": "code",
   "execution_count": 9,
   "metadata": {},
   "outputs": [
    {
     "data": {
      "text/plain": [
       "2018"
      ]
     },
     "execution_count": 9,
     "metadata": {},
     "output_type": "execute_result"
    }
   ],
   "source": [
    "from datetime import datetime\n",
    "now = datetime.now()\n",
    "now.year #(年,月,日,時,分,秒,微秒) ps: 微秒(microseconds)=1/1000000秒"
   ]
  },
  {
   "cell_type": "code",
   "execution_count": 10,
   "metadata": {},
   "outputs": [],
   "source": [
    "for i in range(len(df)):\n",
    "    df.loc[i,'建築完成年'] = round(df.loc[i,'建築完成年月']/10000)\n",
    "    df.loc[i,'屋齡'] = now.year - 1911 - round(df.loc[i,'建築完成年月']/10000)"
   ]
  },
  {
   "cell_type": "code",
   "execution_count": 11,
   "metadata": {},
   "outputs": [
    {
     "data": {
      "text/html": [
       "<div>\n",
       "<style scoped>\n",
       "    .dataframe tbody tr th:only-of-type {\n",
       "        vertical-align: middle;\n",
       "    }\n",
       "\n",
       "    .dataframe tbody tr th {\n",
       "        vertical-align: top;\n",
       "    }\n",
       "\n",
       "    .dataframe thead th {\n",
       "        text-align: right;\n",
       "    }\n",
       "</style>\n",
       "<table border=\"1\" class=\"dataframe\">\n",
       "  <thead>\n",
       "    <tr style=\"text-align: right;\">\n",
       "      <th></th>\n",
       "      <th>鄉鎮市區</th>\n",
       "      <th>交易標的</th>\n",
       "      <th>土地區段位置或建物區門牌</th>\n",
       "      <th>土地移轉總面積平方公尺</th>\n",
       "      <th>都市土地使用分區</th>\n",
       "      <th>非都市土地使用分區</th>\n",
       "      <th>非都市土地使用編定</th>\n",
       "      <th>交易年月日</th>\n",
       "      <th>交易筆棟數</th>\n",
       "      <th>移轉層次</th>\n",
       "      <th>總樓層數</th>\n",
       "      <th>建物型態</th>\n",
       "      <th>主要用途</th>\n",
       "      <th>主要建材</th>\n",
       "      <th>建築完成年月</th>\n",
       "      <th>建物移轉總面積平方公尺</th>\n",
       "      <th>建物現況格局-房</th>\n",
       "      <th>建物現況格局-廳</th>\n",
       "      <th>建物現況格局-衛</th>\n",
       "      <th>建物現況格局-隔間</th>\n",
       "      <th>有無管理組織</th>\n",
       "      <th>總價元</th>\n",
       "      <th>單價每平方公尺</th>\n",
       "      <th>車位類別</th>\n",
       "      <th>車位移轉總面積平方公尺</th>\n",
       "      <th>車位總價元</th>\n",
       "      <th>備註</th>\n",
       "      <th>編號</th>\n",
       "      <th>交易年</th>\n",
       "      <th>建築完成年</th>\n",
       "      <th>屋齡</th>\n",
       "    </tr>\n",
       "  </thead>\n",
       "  <tbody>\n",
       "    <tr>\n",
       "      <th>280</th>\n",
       "      <td>松山區</td>\n",
       "      <td>房地(土地+建物)</td>\n",
       "      <td>臺北市松山區南京東路五段123巷8弄1~30號</td>\n",
       "      <td>52.0</td>\n",
       "      <td>住</td>\n",
       "      <td>NaN</td>\n",
       "      <td>NaN</td>\n",
       "      <td>1060418</td>\n",
       "      <td>土地1建物1車位0</td>\n",
       "      <td>三層</td>\n",
       "      <td>四層</td>\n",
       "      <td>公寓(5樓含以下無電梯)</td>\n",
       "      <td>NaN</td>\n",
       "      <td>加強磚造</td>\n",
       "      <td>NaN</td>\n",
       "      <td>105.72</td>\n",
       "      <td>3</td>\n",
       "      <td>2</td>\n",
       "      <td>2</td>\n",
       "      <td>有</td>\n",
       "      <td>無</td>\n",
       "      <td>1825.0</td>\n",
       "      <td>172626.0</td>\n",
       "      <td>NaN</td>\n",
       "      <td>0.0</td>\n",
       "      <td>0</td>\n",
       "      <td>含增建或未登記建物-陽台加窗。</td>\n",
       "      <td>RPRNMLQJOHMFFDA18DA</td>\n",
       "      <td>106.0</td>\n",
       "      <td>NaN</td>\n",
       "      <td>NaN</td>\n",
       "    </tr>\n",
       "  </tbody>\n",
       "</table>\n",
       "</div>"
      ],
      "text/plain": [
       "    鄉鎮市區       交易標的             土地區段位置或建物區門牌  土地移轉總面積平方公尺 都市土地使用分區  非都市土地使用分區  \\\n",
       "280  松山區  房地(土地+建物)  臺北市松山區南京東路五段123巷8弄1~30號         52.0        住        NaN   \n",
       "\n",
       "     非都市土地使用編定    交易年月日      交易筆棟數 移轉層次 總樓層數          建物型態 主要用途  主要建材  建築完成年月  \\\n",
       "280        NaN  1060418  土地1建物1車位0   三層   四層  公寓(5樓含以下無電梯)  NaN  加強磚造     NaN   \n",
       "\n",
       "     建物移轉總面積平方公尺  建物現況格局-房  建物現況格局-廳  建物現況格局-衛 建物現況格局-隔間 有無管理組織     總價元  \\\n",
       "280       105.72         3         2         2         有      無  1825.0   \n",
       "\n",
       "      單價每平方公尺 車位類別  車位移轉總面積平方公尺  車位總價元               備註                   編號  \\\n",
       "280  172626.0  NaN          0.0      0  含增建或未登記建物-陽台加窗。  RPRNMLQJOHMFFDA18DA   \n",
       "\n",
       "       交易年  建築完成年  屋齡  \n",
       "280  106.0    NaN NaN  "
      ]
     },
     "execution_count": 11,
     "metadata": {},
     "output_type": "execute_result"
    }
   ],
   "source": [
    "df.sample(1)"
   ]
  },
  {
   "cell_type": "markdown",
   "metadata": {},
   "source": [
    "# 三、資料探索"
   ]
  },
  {
   "cell_type": "markdown",
   "metadata": {},
   "source": [
    "## 3.1 各鄉鎮資料筆數"
   ]
  },
  {
   "cell_type": "code",
   "execution_count": 12,
   "metadata": {},
   "outputs": [
    {
     "data": {
      "text/plain": [
       "Text(0,0.5,'資料筆數')"
      ]
     },
     "execution_count": 12,
     "metadata": {},
     "output_type": "execute_result"
    },
    {
     "data": {
      "image/png": "[encoded data removed]",
      "text/plain": [
       "<matplotlib.figure.Figure at 0x1068c3a90>"
      ]
     },
     "metadata": {},
     "output_type": "display_data"
    }
   ],
   "source": [
    "ax = df.groupby('鄉鎮市區').count().plot(kind='bar',y='編號',figsize=(10,6),fontsize=14,title='各鄉鎮資料筆數')\n",
    "ax.set_ylabel('資料筆數')"
   ]
  },
  {
   "cell_type": "markdown",
   "metadata": {},
   "source": [
    "## 3.2 相關性分析"
   ]
  },
  {
   "cell_type": "code",
   "execution_count": 13,
   "metadata": {},
   "outputs": [
    {
     "data": {
      "text/html": [
       "<div>\n",
       "<style scoped>\n",
       "    .dataframe tbody tr th:only-of-type {\n",
       "        vertical-align: middle;\n",
       "    }\n",
       "\n",
       "    .dataframe tbody tr th {\n",
       "        vertical-align: top;\n",
       "    }\n",
       "\n",
       "    .dataframe thead th {\n",
       "        text-align: right;\n",
       "    }\n",
       "</style>\n",
       "<table border=\"1\" class=\"dataframe\">\n",
       "  <thead>\n",
       "    <tr style=\"text-align: right;\">\n",
       "      <th></th>\n",
       "      <th>總價元</th>\n",
       "      <th>土地移轉總面積平方公尺</th>\n",
       "      <th>建物移轉總面積平方公尺</th>\n",
       "      <th>建物現況格局-房</th>\n",
       "      <th>建物現況格局-廳</th>\n",
       "      <th>建物現況格局-衛</th>\n",
       "      <th>車位移轉總面積平方公尺</th>\n",
       "      <th>車位總價元</th>\n",
       "      <th>屋齡</th>\n",
       "      <th>建築完成年</th>\n",
       "      <th>交易年</th>\n",
       "    </tr>\n",
       "  </thead>\n",
       "  <tbody>\n",
       "    <tr>\n",
       "      <th>總價元</th>\n",
       "      <td>1.000000</td>\n",
       "      <td>0.718356</td>\n",
       "      <td>0.897664</td>\n",
       "      <td>0.037094</td>\n",
       "      <td>-0.051536</td>\n",
       "      <td>0.062915</td>\n",
       "      <td>0.472775</td>\n",
       "      <td>0.517171</td>\n",
       "      <td>-0.351787</td>\n",
       "      <td>0.351787</td>\n",
       "      <td>-0.044518</td>\n",
       "    </tr>\n",
       "    <tr>\n",
       "      <th>土地移轉總面積平方公尺</th>\n",
       "      <td>0.718356</td>\n",
       "      <td>1.000000</td>\n",
       "      <td>0.837357</td>\n",
       "      <td>0.218130</td>\n",
       "      <td>0.107488</td>\n",
       "      <td>0.168725</td>\n",
       "      <td>0.236906</td>\n",
       "      <td>0.215380</td>\n",
       "      <td>-0.090268</td>\n",
       "      <td>0.090268</td>\n",
       "      <td>0.006141</td>\n",
       "    </tr>\n",
       "    <tr>\n",
       "      <th>建物移轉總面積平方公尺</th>\n",
       "      <td>0.897664</td>\n",
       "      <td>0.837357</td>\n",
       "      <td>1.000000</td>\n",
       "      <td>0.072909</td>\n",
       "      <td>-0.027742</td>\n",
       "      <td>0.056027</td>\n",
       "      <td>0.451150</td>\n",
       "      <td>0.384596</td>\n",
       "      <td>-0.303746</td>\n",
       "      <td>0.303746</td>\n",
       "      <td>-0.048933</td>\n",
       "    </tr>\n",
       "    <tr>\n",
       "      <th>建物現況格局-房</th>\n",
       "      <td>0.037094</td>\n",
       "      <td>0.218130</td>\n",
       "      <td>0.072909</td>\n",
       "      <td>1.000000</td>\n",
       "      <td>0.664950</td>\n",
       "      <td>0.761660</td>\n",
       "      <td>0.016739</td>\n",
       "      <td>-0.012425</td>\n",
       "      <td>0.101536</td>\n",
       "      <td>-0.101536</td>\n",
       "      <td>-0.032178</td>\n",
       "    </tr>\n",
       "    <tr>\n",
       "      <th>建物現況格局-廳</th>\n",
       "      <td>-0.051536</td>\n",
       "      <td>0.107488</td>\n",
       "      <td>-0.027742</td>\n",
       "      <td>0.664950</td>\n",
       "      <td>1.000000</td>\n",
       "      <td>0.547287</td>\n",
       "      <td>-0.049335</td>\n",
       "      <td>-0.076489</td>\n",
       "      <td>0.051712</td>\n",
       "      <td>-0.051712</td>\n",
       "      <td>-0.001068</td>\n",
       "    </tr>\n",
       "    <tr>\n",
       "      <th>建物現況格局-衛</th>\n",
       "      <td>0.062915</td>\n",
       "      <td>0.168725</td>\n",
       "      <td>0.056027</td>\n",
       "      <td>0.761660</td>\n",
       "      <td>0.547287</td>\n",
       "      <td>1.000000</td>\n",
       "      <td>0.009501</td>\n",
       "      <td>-0.009853</td>\n",
       "      <td>-0.025424</td>\n",
       "      <td>0.025424</td>\n",
       "      <td>-0.070500</td>\n",
       "    </tr>\n",
       "    <tr>\n",
       "      <th>車位移轉總面積平方公尺</th>\n",
       "      <td>0.472775</td>\n",
       "      <td>0.236906</td>\n",
       "      <td>0.451150</td>\n",
       "      <td>0.016739</td>\n",
       "      <td>-0.049335</td>\n",
       "      <td>0.009501</td>\n",
       "      <td>1.000000</td>\n",
       "      <td>0.741627</td>\n",
       "      <td>-0.462698</td>\n",
       "      <td>0.462698</td>\n",
       "      <td>-0.096084</td>\n",
       "    </tr>\n",
       "    <tr>\n",
       "      <th>車位總價元</th>\n",
       "      <td>0.517171</td>\n",
       "      <td>0.215380</td>\n",
       "      <td>0.384596</td>\n",
       "      <td>-0.012425</td>\n",
       "      <td>-0.076489</td>\n",
       "      <td>-0.009853</td>\n",
       "      <td>0.741627</td>\n",
       "      <td>1.000000</td>\n",
       "      <td>-0.357414</td>\n",
       "      <td>0.357414</td>\n",
       "      <td>-0.061319</td>\n",
       "    </tr>\n",
       "    <tr>\n",
       "      <th>屋齡</th>\n",
       "      <td>-0.351787</td>\n",
       "      <td>-0.090268</td>\n",
       "      <td>-0.303746</td>\n",
       "      <td>0.101536</td>\n",
       "      <td>0.051712</td>\n",
       "      <td>-0.025424</td>\n",
       "      <td>-0.462698</td>\n",
       "      <td>-0.357414</td>\n",
       "      <td>1.000000</td>\n",
       "      <td>-1.000000</td>\n",
       "      <td>0.142024</td>\n",
       "    </tr>\n",
       "    <tr>\n",
       "      <th>建築完成年</th>\n",
       "      <td>0.351787</td>\n",
       "      <td>0.090268</td>\n",
       "      <td>0.303746</td>\n",
       "      <td>-0.101536</td>\n",
       "      <td>-0.051712</td>\n",
       "      <td>0.025424</td>\n",
       "      <td>0.462698</td>\n",
       "      <td>0.357414</td>\n",
       "      <td>-1.000000</td>\n",
       "      <td>1.000000</td>\n",
       "      <td>-0.142024</td>\n",
       "    </tr>\n",
       "    <tr>\n",
       "      <th>交易年</th>\n",
       "      <td>-0.044518</td>\n",
       "      <td>0.006141</td>\n",
       "      <td>-0.048933</td>\n",
       "      <td>-0.032178</td>\n",
       "      <td>-0.001068</td>\n",
       "      <td>-0.070500</td>\n",
       "      <td>-0.096084</td>\n",
       "      <td>-0.061319</td>\n",
       "      <td>0.142024</td>\n",
       "      <td>-0.142024</td>\n",
       "      <td>1.000000</td>\n",
       "    </tr>\n",
       "  </tbody>\n",
       "</table>\n",
       "</div>"
      ],
      "text/plain": [
       "                  總價元  土地移轉總面積平方公尺  建物移轉總面積平方公尺  建物現況格局-房  建物現況格局-廳  建物現況格局-衛  \\\n",
       "總價元          1.000000     0.718356     0.897664  0.037094 -0.051536  0.062915   \n",
       "土地移轉總面積平方公尺  0.718356     1.000000     0.837357  0.218130  0.107488  0.168725   \n",
       "建物移轉總面積平方公尺  0.897664     0.837357     1.000000  0.072909 -0.027742  0.056027   \n",
       "建物現況格局-房     0.037094     0.218130     0.072909  1.000000  0.664950  0.761660   \n",
       "建物現況格局-廳    -0.051536     0.107488    -0.027742  0.664950  1.000000  0.547287   \n",
       "建物現況格局-衛     0.062915     0.168725     0.056027  0.761660  0.547287  1.000000   \n",
       "車位移轉總面積平方公尺  0.472775     0.236906     0.451150  0.016739 -0.049335  0.009501   \n",
       "車位總價元        0.517171     0.215380     0.384596 -0.012425 -0.076489 -0.009853   \n",
       "屋齡          -0.351787    -0.090268    -0.303746  0.101536  0.051712 -0.025424   \n",
       "建築完成年        0.351787     0.090268     0.303746 -0.101536 -0.051712  0.025424   \n",
       "交易年         -0.044518     0.006141    -0.048933 -0.032178 -0.001068 -0.070500   \n",
       "\n",
       "             車位移轉總面積平方公尺     車位總價元        屋齡     建築完成年       交易年  \n",
       "總價元             0.472775  0.517171 -0.351787  0.351787 -0.044518  \n",
       "土地移轉總面積平方公尺     0.236906  0.215380 -0.090268  0.090268  0.006141  \n",
       "建物移轉總面積平方公尺     0.451150  0.384596 -0.303746  0.303746 -0.048933  \n",
       "建物現況格局-房        0.016739 -0.012425  0.101536 -0.101536 -0.032178  \n",
       "建物現況格局-廳       -0.049335 -0.076489  0.051712 -0.051712 -0.001068  \n",
       "建物現況格局-衛        0.009501 -0.009853 -0.025424  0.025424 -0.070500  \n",
       "車位移轉總面積平方公尺     1.000000  0.741627 -0.462698  0.462698 -0.096084  \n",
       "車位總價元           0.741627  1.000000 -0.357414  0.357414 -0.061319  \n",
       "屋齡             -0.462698 -0.357414  1.000000 -1.000000  0.142024  \n",
       "建築完成年           0.462698  0.357414 -1.000000  1.000000 -0.142024  \n",
       "交易年            -0.096084 -0.061319  0.142024 -0.142024  1.000000  "
      ]
     },
     "execution_count": 13,
     "metadata": {},
     "output_type": "execute_result"
    }
   ],
   "source": [
    "corr = df[['總價元','土地移轉總面積平方公尺','建物移轉總面積平方公尺','建物現況格局-房','建物現況格局-廳','建物現況格局-衛','車位移轉總面積平方公尺','車位總價元','屋齡','建築完成年','交易年']].corr()\n",
    "corr"
   ]
  },
  {
   "cell_type": "code",
   "execution_count": 14,
   "metadata": {},
   "outputs": [
    {
     "data": {
      "image/png": "[encoded data removed]",
      "text/plain": [
       "<matplotlib.figure.Figure at 0x10a09ca90>"
      ]
     },
     "metadata": {},
     "output_type": "display_data"
    }
   ],
   "source": [
    "import seaborn as sns\n",
    "plt.rcParams['font.family']='SimHei' #顯示中文\n",
    "plt.figure(figsize=(10,10))\n",
    "sns.heatmap(corr, square=True, annot=True)\n",
    "plt.show()"
   ]
  },
  {
   "cell_type": "code",
   "execution_count": 15,
   "metadata": {},
   "outputs": [
    {
     "data": {
      "text/plain": [
       "<matplotlib.axes._subplots.AxesSubplot at 0x1a151b74e0>"
      ]
     },
     "execution_count": 15,
     "metadata": {},
     "output_type": "execute_result"
    },
    {
     "data": {
      "image/png": "[encoded data removed]",
      "text/plain": [
       "<matplotlib.figure.Figure at 0x10a4bf908>"
      ]
     },
     "metadata": {},
     "output_type": "display_data"
    }
   ],
   "source": [
    "df.plot(kind='scatter',title='散佈圖',figsize=(10,6),x='建物現況格局-房',y='總價元',marker='+')"
   ]
  },
  {
   "cell_type": "code",
   "execution_count": 16,
   "metadata": {},
   "outputs": [
    {
     "data": {
      "text/plain": [
       "<matplotlib.axes._subplots.AxesSubplot at 0x1a14f0a2e8>"
      ]
     },
     "execution_count": 16,
     "metadata": {},
     "output_type": "execute_result"
    },
    {
     "data": {
      "image/png": "[encoded data removed]",
      "text/plain": [
       "<matplotlib.figure.Figure at 0x1a14f04710>"
      ]
     },
     "metadata": {},
     "output_type": "display_data"
    }
   ],
   "source": [
    "df.plot(kind='scatter',title='散佈圖',figsize=(10,6),x='建物移轉總面積平方公尺',y='總價元',marker='+')"
   ]
  },
  {
   "cell_type": "code",
   "execution_count": 17,
   "metadata": {},
   "outputs": [
    {
     "data": {
      "text/plain": [
       "<matplotlib.axes._subplots.AxesSubplot at 0x1a15517630>"
      ]
     },
     "execution_count": 17,
     "metadata": {},
     "output_type": "execute_result"
    },
    {
     "data": {
      "image/png": "[encoded data removed]",
      "text/plain": [
       "<matplotlib.figure.Figure at 0x1a153d67b8>"
      ]
     },
     "metadata": {},
     "output_type": "display_data"
    }
   ],
   "source": [
    "df.plot(kind='scatter',title='散佈圖',figsize=(10,6),x='建物現況格局-廳',y='總價元',marker='+')"
   ]
  },
  {
   "cell_type": "code",
   "execution_count": 18,
   "metadata": {},
   "outputs": [
    {
     "data": {
      "text/plain": [
       "<matplotlib.axes._subplots.AxesSubplot at 0x1a15388e10>"
      ]
     },
     "execution_count": 18,
     "metadata": {},
     "output_type": "execute_result"
    },
    {
     "data": {
      "image/png": "[encoded data removed]",
      "text/plain": [
       "<matplotlib.figure.Figure at 0x1a154f5c88>"
      ]
     },
     "metadata": {},
     "output_type": "display_data"
    }
   ],
   "source": [
    "df.plot(kind='scatter',title='散佈圖',figsize=(10,6),x='車位移轉總面積平方公尺',y='總價元',marker='+')"
   ]
  },
  {
   "cell_type": "markdown",
   "metadata": {},
   "source": [
    "## 3.3 各鄉鎮比較"
   ]
  },
  {
   "cell_type": "code",
   "execution_count": 19,
   "metadata": {},
   "outputs": [
    {
     "data": {
      "text/html": [
       "<div>\n",
       "<style scoped>\n",
       "    .dataframe tbody tr th:only-of-type {\n",
       "        vertical-align: middle;\n",
       "    }\n",
       "\n",
       "    .dataframe tbody tr th {\n",
       "        vertical-align: top;\n",
       "    }\n",
       "\n",
       "    .dataframe thead th {\n",
       "        text-align: right;\n",
       "    }\n",
       "</style>\n",
       "<table border=\"1\" class=\"dataframe\">\n",
       "  <thead>\n",
       "    <tr style=\"text-align: right;\">\n",
       "      <th></th>\n",
       "      <th>土地移轉總面積平方公尺</th>\n",
       "      <th>建物移轉總面積平方公尺</th>\n",
       "      <th>單價每平方公尺</th>\n",
       "      <th>建物現況格局-房</th>\n",
       "      <th>建物現況格局-廳</th>\n",
       "      <th>建物現況格局-衛</th>\n",
       "      <th>車位移轉總面積平方公尺</th>\n",
       "      <th>車位總價元</th>\n",
       "      <th>屋齡</th>\n",
       "      <th>建築完成年</th>\n",
       "      <th>交易年</th>\n",
       "      <th>總價元</th>\n",
       "    </tr>\n",
       "    <tr>\n",
       "      <th>鄉鎮市區</th>\n",
       "      <th></th>\n",
       "      <th></th>\n",
       "      <th></th>\n",
       "      <th></th>\n",
       "      <th></th>\n",
       "      <th></th>\n",
       "      <th></th>\n",
       "      <th></th>\n",
       "      <th></th>\n",
       "      <th></th>\n",
       "      <th></th>\n",
       "      <th></th>\n",
       "    </tr>\n",
       "  </thead>\n",
       "  <tbody>\n",
       "    <tr>\n",
       "      <th>中山區</th>\n",
       "      <td>16.297692</td>\n",
       "      <td>105.000096</td>\n",
       "      <td>182520.461538</td>\n",
       "      <td>2.076923</td>\n",
       "      <td>1.375000</td>\n",
       "      <td>1.519231</td>\n",
       "      <td>7.903173</td>\n",
       "      <td>479519.230769</td>\n",
       "      <td>21.096774</td>\n",
       "      <td>85.903226</td>\n",
       "      <td>105.903846</td>\n",
       "      <td>2139.697917</td>\n",
       "    </tr>\n",
       "    <tr>\n",
       "      <th>中正區</th>\n",
       "      <td>17.749583</td>\n",
       "      <td>113.277500</td>\n",
       "      <td>203961.895833</td>\n",
       "      <td>1.708333</td>\n",
       "      <td>1.145833</td>\n",
       "      <td>1.187500</td>\n",
       "      <td>5.110417</td>\n",
       "      <td>277083.333333</td>\n",
       "      <td>23.743590</td>\n",
       "      <td>83.256410</td>\n",
       "      <td>105.833333</td>\n",
       "      <td>2477.166704</td>\n",
       "    </tr>\n",
       "    <tr>\n",
       "      <th>信義區</th>\n",
       "      <td>28.029821</td>\n",
       "      <td>127.634286</td>\n",
       "      <td>189706.750000</td>\n",
       "      <td>2.267857</td>\n",
       "      <td>1.428571</td>\n",
       "      <td>1.446429</td>\n",
       "      <td>8.865714</td>\n",
       "      <td>298214.285714</td>\n",
       "      <td>28.780488</td>\n",
       "      <td>78.219512</td>\n",
       "      <td>105.946429</td>\n",
       "      <td>2314.053964</td>\n",
       "    </tr>\n",
       "    <tr>\n",
       "      <th>內湖區</th>\n",
       "      <td>37.064609</td>\n",
       "      <td>182.183652</td>\n",
       "      <td>162547.035088</td>\n",
       "      <td>2.521739</td>\n",
       "      <td>1.530435</td>\n",
       "      <td>1.547826</td>\n",
       "      <td>17.334609</td>\n",
       "      <td>478695.652174</td>\n",
       "      <td>20.176991</td>\n",
       "      <td>86.823009</td>\n",
       "      <td>105.652174</td>\n",
       "      <td>2892.934783</td>\n",
       "    </tr>\n",
       "    <tr>\n",
       "      <th>北投區</th>\n",
       "      <td>28.839167</td>\n",
       "      <td>133.713000</td>\n",
       "      <td>142094.283333</td>\n",
       "      <td>2.050000</td>\n",
       "      <td>1.366667</td>\n",
       "      <td>1.350000</td>\n",
       "      <td>17.170833</td>\n",
       "      <td>734166.666667</td>\n",
       "      <td>20.016667</td>\n",
       "      <td>86.983333</td>\n",
       "      <td>105.866667</td>\n",
       "      <td>1960.550000</td>\n",
       "    </tr>\n",
       "    <tr>\n",
       "      <th>南港區</th>\n",
       "      <td>31.355000</td>\n",
       "      <td>156.041176</td>\n",
       "      <td>164861.647059</td>\n",
       "      <td>2.294118</td>\n",
       "      <td>1.529412</td>\n",
       "      <td>1.500000</td>\n",
       "      <td>15.133824</td>\n",
       "      <td>555882.352941</td>\n",
       "      <td>15.142857</td>\n",
       "      <td>91.857143</td>\n",
       "      <td>105.970588</td>\n",
       "      <td>2641.029412</td>\n",
       "    </tr>\n",
       "    <tr>\n",
       "      <th>士林區</th>\n",
       "      <td>33.232364</td>\n",
       "      <td>148.830000</td>\n",
       "      <td>179288.290909</td>\n",
       "      <td>2.309091</td>\n",
       "      <td>1.563636</td>\n",
       "      <td>1.545455</td>\n",
       "      <td>15.637818</td>\n",
       "      <td>938181.818182</td>\n",
       "      <td>29.109091</td>\n",
       "      <td>77.890909</td>\n",
       "      <td>106.000000</td>\n",
       "      <td>3244.573075</td>\n",
       "    </tr>\n",
       "    <tr>\n",
       "      <th>大同區</th>\n",
       "      <td>18.098182</td>\n",
       "      <td>108.097576</td>\n",
       "      <td>142900.272727</td>\n",
       "      <td>2.212121</td>\n",
       "      <td>1.454545</td>\n",
       "      <td>1.303030</td>\n",
       "      <td>7.021212</td>\n",
       "      <td>192424.242424</td>\n",
       "      <td>23.185185</td>\n",
       "      <td>83.814815</td>\n",
       "      <td>105.909091</td>\n",
       "      <td>1549.110000</td>\n",
       "    </tr>\n",
       "    <tr>\n",
       "      <th>大安區</th>\n",
       "      <td>22.519455</td>\n",
       "      <td>126.577636</td>\n",
       "      <td>247827.327273</td>\n",
       "      <td>2.163636</td>\n",
       "      <td>1.436364</td>\n",
       "      <td>1.400000</td>\n",
       "      <td>6.381818</td>\n",
       "      <td>252727.272727</td>\n",
       "      <td>24.722222</td>\n",
       "      <td>82.277778</td>\n",
       "      <td>106.000000</td>\n",
       "      <td>3099.045173</td>\n",
       "    </tr>\n",
       "    <tr>\n",
       "      <th>文山區</th>\n",
       "      <td>32.762361</td>\n",
       "      <td>116.861667</td>\n",
       "      <td>139447.333333</td>\n",
       "      <td>2.555556</td>\n",
       "      <td>1.625000</td>\n",
       "      <td>1.541667</td>\n",
       "      <td>9.924583</td>\n",
       "      <td>315972.222222</td>\n",
       "      <td>18.500000</td>\n",
       "      <td>88.500000</td>\n",
       "      <td>105.916667</td>\n",
       "      <td>1586.723512</td>\n",
       "    </tr>\n",
       "    <tr>\n",
       "      <th>松山區</th>\n",
       "      <td>23.050000</td>\n",
       "      <td>105.785909</td>\n",
       "      <td>200028.568182</td>\n",
       "      <td>2.340909</td>\n",
       "      <td>1.613636</td>\n",
       "      <td>1.386364</td>\n",
       "      <td>1.609091</td>\n",
       "      <td>181818.181818</td>\n",
       "      <td>32.487805</td>\n",
       "      <td>74.512195</td>\n",
       "      <td>106.000000</td>\n",
       "      <td>2106.715716</td>\n",
       "    </tr>\n",
       "    <tr>\n",
       "      <th>萬華區</th>\n",
       "      <td>19.857419</td>\n",
       "      <td>80.406613</td>\n",
       "      <td>132711.532258</td>\n",
       "      <td>2.161290</td>\n",
       "      <td>1.338710</td>\n",
       "      <td>1.290323</td>\n",
       "      <td>1.555645</td>\n",
       "      <td>7096.774194</td>\n",
       "      <td>31.037736</td>\n",
       "      <td>75.962264</td>\n",
       "      <td>106.000000</td>\n",
       "      <td>1074.496774</td>\n",
       "    </tr>\n",
       "  </tbody>\n",
       "</table>\n",
       "</div>"
      ],
      "text/plain": [
       "      土地移轉總面積平方公尺  建物移轉總面積平方公尺        單價每平方公尺  建物現況格局-房  建物現況格局-廳  建物現況格局-衛  \\\n",
       "鄉鎮市區                                                                          \n",
       "中山區     16.297692   105.000096  182520.461538  2.076923  1.375000  1.519231   \n",
       "中正區     17.749583   113.277500  203961.895833  1.708333  1.145833  1.187500   \n",
       "信義區     28.029821   127.634286  189706.750000  2.267857  1.428571  1.446429   \n",
       "內湖區     37.064609   182.183652  162547.035088  2.521739  1.530435  1.547826   \n",
       "北投區     28.839167   133.713000  142094.283333  2.050000  1.366667  1.350000   \n",
       "南港區     31.355000   156.041176  164861.647059  2.294118  1.529412  1.500000   \n",
       "士林區     33.232364   148.830000  179288.290909  2.309091  1.563636  1.545455   \n",
       "大同區     18.098182   108.097576  142900.272727  2.212121  1.454545  1.303030   \n",
       "大安區     22.519455   126.577636  247827.327273  2.163636  1.436364  1.400000   \n",
       "文山區     32.762361   116.861667  139447.333333  2.555556  1.625000  1.541667   \n",
       "松山區     23.050000   105.785909  200028.568182  2.340909  1.613636  1.386364   \n",
       "萬華區     19.857419    80.406613  132711.532258  2.161290  1.338710  1.290323   \n",
       "\n",
       "      車位移轉總面積平方公尺          車位總價元         屋齡      建築完成年         交易年  \\\n",
       "鄉鎮市區                                                                 \n",
       "中山區      7.903173  479519.230769  21.096774  85.903226  105.903846   \n",
       "中正區      5.110417  277083.333333  23.743590  83.256410  105.833333   \n",
       "信義區      8.865714  298214.285714  28.780488  78.219512  105.946429   \n",
       "內湖區     17.334609  478695.652174  20.176991  86.823009  105.652174   \n",
       "北投區     17.170833  734166.666667  20.016667  86.983333  105.866667   \n",
       "南港區     15.133824  555882.352941  15.142857  91.857143  105.970588   \n",
       "士林區     15.637818  938181.818182  29.109091  77.890909  106.000000   \n",
       "大同區      7.021212  192424.242424  23.185185  83.814815  105.909091   \n",
       "大安區      6.381818  252727.272727  24.722222  82.277778  106.000000   \n",
       "文山區      9.924583  315972.222222  18.500000  88.500000  105.916667   \n",
       "松山區      1.609091  181818.181818  32.487805  74.512195  106.000000   \n",
       "萬華區      1.555645    7096.774194  31.037736  75.962264  106.000000   \n",
       "\n",
       "              總價元  \n",
       "鄉鎮市區               \n",
       "中山區   2139.697917  \n",
       "中正區   2477.166704  \n",
       "信義區   2314.053964  \n",
       "內湖區   2892.934783  \n",
       "北投區   1960.550000  \n",
       "南港區   2641.029412  \n",
       "士林區   3244.573075  \n",
       "大同區   1549.110000  \n",
       "大安區   3099.045173  \n",
       "文山區   1586.723512  \n",
       "松山區   2106.715716  \n",
       "萬華區   1074.496774  "
      ]
     },
     "execution_count": 19,
     "metadata": {},
     "output_type": "execute_result"
    }
   ],
   "source": [
    "df2 = df[['鄉鎮市區','土地移轉總面積平方公尺','建物移轉總面積平方公尺','單價每平方公尺','建物現況格局-房','建物現況格局-廳','建物現況格局-衛','車位移轉總面積平方公尺','車位總價元','屋齡','建築完成年','交易年','總價元']]\n",
    "df2.groupby('鄉鎮市區').mean()"
   ]
  },
  {
   "cell_type": "code",
   "execution_count": 20,
   "metadata": {},
   "outputs": [
    {
     "data": {
      "text/plain": [
       "<matplotlib.axes._subplots.AxesSubplot at 0x1a15794e80>"
      ]
     },
     "execution_count": 20,
     "metadata": {},
     "output_type": "execute_result"
    },
    {
     "data": {
      "image/png": "[encoded data removed]",
      "text/plain": [
       "<matplotlib.figure.Figure at 0x1a15669a90>"
      ]
     },
     "metadata": {},
     "output_type": "display_data"
    }
   ],
   "source": [
    "df2.groupby('鄉鎮市區').mean().plot(kind='bar',y='單價每平方公尺',figsize=(10,6),fontsize=14,title='各鄉鎮市單價每平方公尺平均')"
   ]
  },
  {
   "cell_type": "markdown",
   "metadata": {},
   "source": [
    "# 四、資料預處理(二) - 機器學習"
   ]
  },
  {
   "cell_type": "markdown",
   "metadata": {},
   "source": [
    "## 4.1 針對鄉鎮市區做one-hot encoding"
   ]
  },
  {
   "cell_type": "code",
   "execution_count": 21,
   "metadata": {},
   "outputs": [
    {
     "data": {
      "text/html": [
       "<div>\n",
       "<style scoped>\n",
       "    .dataframe tbody tr th:only-of-type {\n",
       "        vertical-align: middle;\n",
       "    }\n",
       "\n",
       "    .dataframe tbody tr th {\n",
       "        vertical-align: top;\n",
       "    }\n",
       "\n",
       "    .dataframe thead th {\n",
       "        text-align: right;\n",
       "    }\n",
       "</style>\n",
       "<table border=\"1\" class=\"dataframe\">\n",
       "  <thead>\n",
       "    <tr style=\"text-align: right;\">\n",
       "      <th></th>\n",
       "      <th>中山區</th>\n",
       "      <th>中正區</th>\n",
       "      <th>信義區</th>\n",
       "      <th>內湖區</th>\n",
       "      <th>北投區</th>\n",
       "      <th>南港區</th>\n",
       "      <th>士林區</th>\n",
       "      <th>大同區</th>\n",
       "      <th>大安區</th>\n",
       "      <th>文山區</th>\n",
       "      <th>松山區</th>\n",
       "      <th>萬華區</th>\n",
       "    </tr>\n",
       "  </thead>\n",
       "  <tbody>\n",
       "    <tr>\n",
       "      <th>0</th>\n",
       "      <td>0</td>\n",
       "      <td>0</td>\n",
       "      <td>0</td>\n",
       "      <td>0</td>\n",
       "      <td>0</td>\n",
       "      <td>0</td>\n",
       "      <td>0</td>\n",
       "      <td>1</td>\n",
       "      <td>0</td>\n",
       "      <td>0</td>\n",
       "      <td>0</td>\n",
       "      <td>0</td>\n",
       "    </tr>\n",
       "    <tr>\n",
       "      <th>1</th>\n",
       "      <td>0</td>\n",
       "      <td>0</td>\n",
       "      <td>0</td>\n",
       "      <td>1</td>\n",
       "      <td>0</td>\n",
       "      <td>0</td>\n",
       "      <td>0</td>\n",
       "      <td>0</td>\n",
       "      <td>0</td>\n",
       "      <td>0</td>\n",
       "      <td>0</td>\n",
       "      <td>0</td>\n",
       "    </tr>\n",
       "    <tr>\n",
       "      <th>2</th>\n",
       "      <td>0</td>\n",
       "      <td>0</td>\n",
       "      <td>0</td>\n",
       "      <td>1</td>\n",
       "      <td>0</td>\n",
       "      <td>0</td>\n",
       "      <td>0</td>\n",
       "      <td>0</td>\n",
       "      <td>0</td>\n",
       "      <td>0</td>\n",
       "      <td>0</td>\n",
       "      <td>0</td>\n",
       "    </tr>\n",
       "    <tr>\n",
       "      <th>3</th>\n",
       "      <td>0</td>\n",
       "      <td>0</td>\n",
       "      <td>0</td>\n",
       "      <td>1</td>\n",
       "      <td>0</td>\n",
       "      <td>0</td>\n",
       "      <td>0</td>\n",
       "      <td>0</td>\n",
       "      <td>0</td>\n",
       "      <td>0</td>\n",
       "      <td>0</td>\n",
       "      <td>0</td>\n",
       "    </tr>\n",
       "    <tr>\n",
       "      <th>4</th>\n",
       "      <td>0</td>\n",
       "      <td>0</td>\n",
       "      <td>0</td>\n",
       "      <td>1</td>\n",
       "      <td>0</td>\n",
       "      <td>0</td>\n",
       "      <td>0</td>\n",
       "      <td>0</td>\n",
       "      <td>0</td>\n",
       "      <td>0</td>\n",
       "      <td>0</td>\n",
       "      <td>0</td>\n",
       "    </tr>\n",
       "  </tbody>\n",
       "</table>\n",
       "</div>"
      ],
      "text/plain": [
       "   中山區  中正區  信義區  內湖區  北投區  南港區  士林區  大同區  大安區  文山區  松山區  萬華區\n",
       "0    0    0    0    0    0    0    0    1    0    0    0    0\n",
       "1    0    0    0    1    0    0    0    0    0    0    0    0\n",
       "2    0    0    0    1    0    0    0    0    0    0    0    0\n",
       "3    0    0    0    1    0    0    0    0    0    0    0    0\n",
       "4    0    0    0    1    0    0    0    0    0    0    0    0"
      ]
     },
     "execution_count": 21,
     "metadata": {},
     "output_type": "execute_result"
    }
   ],
   "source": [
    "df_region = pd.get_dummies(df['鄉鎮市區'])\n",
    "df_region.head()"
   ]
  },
  {
   "cell_type": "code",
   "execution_count": 22,
   "metadata": {},
   "outputs": [
    {
     "data": {
      "text/html": [
       "<div>\n",
       "<style scoped>\n",
       "    .dataframe tbody tr th:only-of-type {\n",
       "        vertical-align: middle;\n",
       "    }\n",
       "\n",
       "    .dataframe tbody tr th {\n",
       "        vertical-align: top;\n",
       "    }\n",
       "\n",
       "    .dataframe thead th {\n",
       "        text-align: right;\n",
       "    }\n",
       "</style>\n",
       "<table border=\"1\" class=\"dataframe\">\n",
       "  <thead>\n",
       "    <tr style=\"text-align: right;\">\n",
       "      <th></th>\n",
       "      <th>鄉鎮市區</th>\n",
       "      <th>土地移轉總面積平方公尺</th>\n",
       "      <th>建物移轉總面積平方公尺</th>\n",
       "      <th>單價每平方公尺</th>\n",
       "      <th>建物現況格局-房</th>\n",
       "      <th>建物現況格局-廳</th>\n",
       "      <th>建物現況格局-衛</th>\n",
       "      <th>車位移轉總面積平方公尺</th>\n",
       "      <th>車位總價元</th>\n",
       "      <th>屋齡</th>\n",
       "      <th>建築完成年</th>\n",
       "      <th>交易年</th>\n",
       "      <th>總價元</th>\n",
       "      <th>中山區</th>\n",
       "      <th>中正區</th>\n",
       "      <th>信義區</th>\n",
       "      <th>內湖區</th>\n",
       "      <th>北投區</th>\n",
       "      <th>南港區</th>\n",
       "      <th>士林區</th>\n",
       "      <th>大同區</th>\n",
       "      <th>大安區</th>\n",
       "      <th>文山區</th>\n",
       "      <th>松山區</th>\n",
       "      <th>萬華區</th>\n",
       "    </tr>\n",
       "  </thead>\n",
       "  <tbody>\n",
       "    <tr>\n",
       "      <th>0</th>\n",
       "      <td>大同區</td>\n",
       "      <td>6.34</td>\n",
       "      <td>55.19</td>\n",
       "      <td>233738.0</td>\n",
       "      <td>1</td>\n",
       "      <td>1</td>\n",
       "      <td>1</td>\n",
       "      <td>0.00</td>\n",
       "      <td>0</td>\n",
       "      <td>24.0</td>\n",
       "      <td>83.0</td>\n",
       "      <td>104.0</td>\n",
       "      <td>1290.0</td>\n",
       "      <td>0</td>\n",
       "      <td>0</td>\n",
       "      <td>0</td>\n",
       "      <td>0</td>\n",
       "      <td>0</td>\n",
       "      <td>0</td>\n",
       "      <td>0</td>\n",
       "      <td>1</td>\n",
       "      <td>0</td>\n",
       "      <td>0</td>\n",
       "      <td>0</td>\n",
       "      <td>0</td>\n",
       "    </tr>\n",
       "    <tr>\n",
       "      <th>1</th>\n",
       "      <td>內湖區</td>\n",
       "      <td>4.96</td>\n",
       "      <td>38.79</td>\n",
       "      <td>110853.0</td>\n",
       "      <td>1</td>\n",
       "      <td>1</td>\n",
       "      <td>1</td>\n",
       "      <td>0.00</td>\n",
       "      <td>0</td>\n",
       "      <td>22.0</td>\n",
       "      <td>85.0</td>\n",
       "      <td>105.0</td>\n",
       "      <td>430.0</td>\n",
       "      <td>0</td>\n",
       "      <td>0</td>\n",
       "      <td>0</td>\n",
       "      <td>1</td>\n",
       "      <td>0</td>\n",
       "      <td>0</td>\n",
       "      <td>0</td>\n",
       "      <td>0</td>\n",
       "      <td>0</td>\n",
       "      <td>0</td>\n",
       "      <td>0</td>\n",
       "      <td>0</td>\n",
       "    </tr>\n",
       "    <tr>\n",
       "      <th>2</th>\n",
       "      <td>內湖區</td>\n",
       "      <td>13.72</td>\n",
       "      <td>149.24</td>\n",
       "      <td>160815.0</td>\n",
       "      <td>3</td>\n",
       "      <td>2</td>\n",
       "      <td>2</td>\n",
       "      <td>12.96</td>\n",
       "      <td>0</td>\n",
       "      <td>10.0</td>\n",
       "      <td>97.0</td>\n",
       "      <td>105.0</td>\n",
       "      <td>2400.0</td>\n",
       "      <td>0</td>\n",
       "      <td>0</td>\n",
       "      <td>0</td>\n",
       "      <td>1</td>\n",
       "      <td>0</td>\n",
       "      <td>0</td>\n",
       "      <td>0</td>\n",
       "      <td>0</td>\n",
       "      <td>0</td>\n",
       "      <td>0</td>\n",
       "      <td>0</td>\n",
       "      <td>0</td>\n",
       "    </tr>\n",
       "    <tr>\n",
       "      <th>3</th>\n",
       "      <td>內湖區</td>\n",
       "      <td>22.45</td>\n",
       "      <td>136.20</td>\n",
       "      <td>149046.0</td>\n",
       "      <td>3</td>\n",
       "      <td>2</td>\n",
       "      <td>1</td>\n",
       "      <td>34.60</td>\n",
       "      <td>0</td>\n",
       "      <td>10.0</td>\n",
       "      <td>97.0</td>\n",
       "      <td>105.0</td>\n",
       "      <td>2030.0</td>\n",
       "      <td>0</td>\n",
       "      <td>0</td>\n",
       "      <td>0</td>\n",
       "      <td>1</td>\n",
       "      <td>0</td>\n",
       "      <td>0</td>\n",
       "      <td>0</td>\n",
       "      <td>0</td>\n",
       "      <td>0</td>\n",
       "      <td>0</td>\n",
       "      <td>0</td>\n",
       "      <td>0</td>\n",
       "    </tr>\n",
       "    <tr>\n",
       "      <th>4</th>\n",
       "      <td>內湖區</td>\n",
       "      <td>33.51</td>\n",
       "      <td>242.78</td>\n",
       "      <td>197216.0</td>\n",
       "      <td>5</td>\n",
       "      <td>2</td>\n",
       "      <td>2</td>\n",
       "      <td>51.07</td>\n",
       "      <td>0</td>\n",
       "      <td>14.0</td>\n",
       "      <td>93.0</td>\n",
       "      <td>105.0</td>\n",
       "      <td>4788.0</td>\n",
       "      <td>0</td>\n",
       "      <td>0</td>\n",
       "      <td>0</td>\n",
       "      <td>1</td>\n",
       "      <td>0</td>\n",
       "      <td>0</td>\n",
       "      <td>0</td>\n",
       "      <td>0</td>\n",
       "      <td>0</td>\n",
       "      <td>0</td>\n",
       "      <td>0</td>\n",
       "      <td>0</td>\n",
       "    </tr>\n",
       "  </tbody>\n",
       "</table>\n",
       "</div>"
      ],
      "text/plain": [
       "  鄉鎮市區  土地移轉總面積平方公尺  建物移轉總面積平方公尺   單價每平方公尺  建物現況格局-房  建物現況格局-廳  建物現況格局-衛  \\\n",
       "0  大同區         6.34        55.19  233738.0         1         1         1   \n",
       "1  內湖區         4.96        38.79  110853.0         1         1         1   \n",
       "2  內湖區        13.72       149.24  160815.0         3         2         2   \n",
       "3  內湖區        22.45       136.20  149046.0         3         2         1   \n",
       "4  內湖區        33.51       242.78  197216.0         5         2         2   \n",
       "\n",
       "   車位移轉總面積平方公尺  車位總價元    屋齡  建築完成年    交易年     總價元  中山區  中正區  信義區  內湖區  北投區  \\\n",
       "0         0.00      0  24.0   83.0  104.0  1290.0    0    0    0    0    0   \n",
       "1         0.00      0  22.0   85.0  105.0   430.0    0    0    0    1    0   \n",
       "2        12.96      0  10.0   97.0  105.0  2400.0    0    0    0    1    0   \n",
       "3        34.60      0  10.0   97.0  105.0  2030.0    0    0    0    1    0   \n",
       "4        51.07      0  14.0   93.0  105.0  4788.0    0    0    0    1    0   \n",
       "\n",
       "   南港區  士林區  大同區  大安區  文山區  松山區  萬華區  \n",
       "0    0    0    1    0    0    0    0  \n",
       "1    0    0    0    0    0    0    0  \n",
       "2    0    0    0    0    0    0    0  \n",
       "3    0    0    0    0    0    0    0  \n",
       "4    0    0    0    0    0    0    0  "
      ]
     },
     "execution_count": 22,
     "metadata": {},
     "output_type": "execute_result"
    }
   ],
   "source": [
    "df_ml = pd.merge(df2,df_region,left_index=True,right_index=True)\n",
    "df_ml.head()"
   ]
  },
  {
   "cell_type": "markdown",
   "metadata": {},
   "source": [
    "## 4.2 去除遺失值和極端值"
   ]
  },
  {
   "cell_type": "code",
   "execution_count": 23,
   "metadata": {},
   "outputs": [],
   "source": [
    "df_ml = df_ml.dropna().reset_index(drop=True)"
   ]
  },
  {
   "cell_type": "code",
   "execution_count": 24,
   "metadata": {},
   "outputs": [],
   "source": [
    "df_ml = df_ml[df_ml['建物移轉總面積平方公尺']<1000]"
   ]
  },
  {
   "cell_type": "code",
   "execution_count": 25,
   "metadata": {},
   "outputs": [
    {
     "data": {
      "text/plain": [
       "<matplotlib.axes._subplots.AxesSubplot at 0x1a1567aba8>"
      ]
     },
     "execution_count": 25,
     "metadata": {},
     "output_type": "execute_result"
    },
    {
     "data": {
      "image/png": "[encoded data removed]",
      "text/plain": [
       "<matplotlib.figure.Figure at 0x1a14ede278>"
      ]
     },
     "metadata": {},
     "output_type": "display_data"
    }
   ],
   "source": [
    "df_ml.plot(kind='scatter',x='建物移轉總面積平方公尺',y='總價元')"
   ]
  },
  {
   "cell_type": "markdown",
   "metadata": {},
   "source": [
    "# 五、簡單線性迴歸"
   ]
  },
  {
   "cell_type": "markdown",
   "metadata": {},
   "source": [
    "## 5.1 使用Scikit-Learn SGDRegressor\n",
    "### 5.1.1 切分訓練及測試資料 (1 feature)  \n",
    "##### PS: 這裡的測試資料可視為驗證資料集CV (最後的測試資料應另外保留)"
   ]
  },
  {
   "cell_type": "code",
   "execution_count": 26,
   "metadata": {},
   "outputs": [
    {
     "data": {
      "text/html": [
       "<div>\n",
       "<style scoped>\n",
       "    .dataframe tbody tr th:only-of-type {\n",
       "        vertical-align: middle;\n",
       "    }\n",
       "\n",
       "    .dataframe tbody tr th {\n",
       "        vertical-align: top;\n",
       "    }\n",
       "\n",
       "    .dataframe thead th {\n",
       "        text-align: right;\n",
       "    }\n",
       "</style>\n",
       "<table border=\"1\" class=\"dataframe\">\n",
       "  <thead>\n",
       "    <tr style=\"text-align: right;\">\n",
       "      <th></th>\n",
       "      <th>建物移轉總面積平方公尺</th>\n",
       "    </tr>\n",
       "  </thead>\n",
       "  <tbody>\n",
       "    <tr>\n",
       "      <th>479</th>\n",
       "      <td>40.13</td>\n",
       "    </tr>\n",
       "    <tr>\n",
       "      <th>612</th>\n",
       "      <td>32.00</td>\n",
       "    </tr>\n",
       "    <tr>\n",
       "      <th>27</th>\n",
       "      <td>43.10</td>\n",
       "    </tr>\n",
       "    <tr>\n",
       "      <th>193</th>\n",
       "      <td>120.45</td>\n",
       "    </tr>\n",
       "    <tr>\n",
       "      <th>187</th>\n",
       "      <td>37.58</td>\n",
       "    </tr>\n",
       "  </tbody>\n",
       "</table>\n",
       "</div>"
      ],
      "text/plain": [
       "     建物移轉總面積平方公尺\n",
       "479        40.13\n",
       "612        32.00\n",
       "27         43.10\n",
       "193       120.45\n",
       "187        37.58"
      ]
     },
     "execution_count": 26,
     "metadata": {},
     "output_type": "execute_result"
    }
   ],
   "source": [
    "from sklearn.model_selection import train_test_split\n",
    "\n",
    "X = df_ml[['建物移轉總面積平方公尺']]\n",
    "y = df_ml[['總價元']]\n",
    "\n",
    "X_train, X_test, y_train, y_test = train_test_split(X, y, test_size = 0.3) # 30% for testing, 70% for training\n",
    "X_train.head()"
   ]
  },
  {
   "cell_type": "markdown",
   "metadata": {},
   "source": [
    "### 5.1.2 特徵標準化(Standardization)"
   ]
  },
  {
   "cell_type": "code",
   "execution_count": 27,
   "metadata": {},
   "outputs": [],
   "source": [
    "from sklearn.preprocessing import StandardScaler\n",
    "sc = StandardScaler()\n",
    "sc.fit(X_train)\n",
    "X_train_normalized = sc.transform(X_train)\n",
    "X_test_normalized = sc.transform(X_test)"
   ]
  },
  {
   "cell_type": "code",
   "execution_count": 28,
   "metadata": {},
   "outputs": [
    {
     "name": "stdout",
     "output_type": "stream",
     "text": [
      "各變項參數: [2374.4688291]\n",
      "MSE: 839740.59\n",
      "R Square: 0.7843397878048173\n"
     ]
    },
    {
     "data": {
      "image/png": "[encoded data removed]",
      "text/plain": [
       "<matplotlib.figure.Figure at 0x1a15b22e48>"
      ]
     },
     "metadata": {},
     "output_type": "display_data"
    }
   ],
   "source": [
    "from sklearn import datasets, linear_model\n",
    "\n",
    "#SGDRegressor的input y需要一維矩陣type\n",
    "y_train_1d = y_train.values.ravel()\n",
    "y_test_1d = y_test.values.ravel()\n",
    "\n",
    "# linear regression 物件\n",
    "sgdr = linear_model.SGDRegressor(max_iter=10,learning_rate='constant',eta0=0.001)\n",
    "\n",
    "# 訓練模型\n",
    "sgdr.fit(X_train_normalized, y_train_1d)\n",
    "\n",
    "print('各變項參數:', sgdr.coef_)\n",
    "print(\"MSE: %.2f\" % np.mean((sgdr.predict(X_test_normalized) - y_test_1d) ** 2))\n",
    "print(\"R Square:\",sgdr.score(X_test_normalized,y_test))\n",
    "\n",
    "plt.scatter(X_train['建物移轉總面積平方公尺'], y_train_1d,  color='blue', marker = 'x')\n",
    "\n",
    "plt.plot(X_train, sgdr.predict(X_train_normalized), color='green', linewidth=1)\n",
    "\n",
    "plt.ylabel('總價元(10K)')\n",
    "plt.xlabel('建物移轉總面積平方公尺')\n",
    "\n",
    "plt.show()"
   ]
  },
  {
   "cell_type": "markdown",
   "metadata": {},
   "source": [
    "### 5.1.3 K折交叉驗證 (K-fold Cross-Validation) + 學習曲線 (Learning Curve)"
   ]
  },
  {
   "cell_type": "code",
   "execution_count": 29,
   "metadata": {},
   "outputs": [
    {
     "name": "stdout",
     "output_type": "stream",
     "text": [
      "Automatically created module for IPython interactive environment\n"
     ]
    }
   ],
   "source": [
    "# Scikit-Learn 官網作圖函式\n",
    "print(__doc__)\n",
    "\n",
    "import numpy as np\n",
    "import matplotlib.pyplot as plt\n",
    "from sklearn.naive_bayes import GaussianNB\n",
    "from sklearn.svm import SVC\n",
    "from sklearn.datasets import load_digits\n",
    "from sklearn.model_selection import learning_curve\n",
    "from sklearn.model_selection import ShuffleSplit\n",
    "\n",
    "\n",
    "def plot_learning_curve(estimator, title, X, y, ylim=None, cv=None,\n",
    "                        n_jobs=1, train_sizes=np.linspace(.1, 1.0, 5)):\n",
    "    \"\"\"\n",
    "    Generate a simple plot of the test and training learning curve.\n",
    "\n",
    "    Parameters\n",
    "    ----------\n",
    "    estimator : object type that implements the \"fit\" and \"predict\" methods\n",
    "        An object of that type which is cloned for each validation.\n",
    "\n",
    "    title : string\n",
    "        Title for the chart.\n",
    "\n",
    "    X : array-like, shape (n_samples, n_features)\n",
    "        Training vector, where n_samples is the number of samples and\n",
    "        n_features is the number of features.\n",
    "\n",
    "    y : array-like, shape (n_samples) or (n_samples, n_features), optional\n",
    "        Target relative to X for classification or regression;\n",
    "        None for unsupervised learning.\n",
    "\n",
    "    ylim : tuple, shape (ymin, ymax), optional\n",
    "        Defines minimum and maximum yvalues plotted.\n",
    "\n",
    "    cv : int, cross-validation generator or an iterable, optional\n",
    "        Determines the cross-validation splitting strategy.\n",
    "        Possible inputs for cv are:\n",
    "          - None, to use the default 3-fold cross-validation,\n",
    "          - integer, to specify the number of folds.\n",
    "          - An object to be used as a cross-validation generator.\n",
    "          - An iterable yielding train/test splits.\n",
    "\n",
    "        For integer/None inputs, if ``y`` is binary or multiclass,\n",
    "        :class:`StratifiedKFold` used. If the estimator is not a classifier\n",
    "        or if ``y`` is neither binary nor multiclass, :class:`KFold` is used.\n",
    "\n",
    "        Refer :ref:`User Guide <cross_validation>` for the various\n",
    "        cross-validators that can be used here.\n",
    "\n",
    "    n_jobs : integer, optional\n",
    "        Number of jobs to run in parallel (default 1).\n",
    "    \"\"\"\n",
    "    plt.figure(figsize=(10,6))  #調整作圖大小\n",
    "    plt.title(title)\n",
    "    if ylim is not None:\n",
    "        plt.ylim(*ylim)\n",
    "    plt.xlabel(\"Training examples\")\n",
    "    plt.ylabel(\"Score\")\n",
    "    train_sizes, train_scores, test_scores = learning_curve(\n",
    "        estimator, X, y, cv=cv, n_jobs=n_jobs, train_sizes=train_sizes)\n",
    "    train_scores_mean = np.mean(train_scores, axis=1)\n",
    "    train_scores_std = np.std(train_scores, axis=1)\n",
    "    test_scores_mean = np.mean(test_scores, axis=1)\n",
    "    test_scores_std = np.std(test_scores, axis=1)\n",
    "    plt.grid()\n",
    "\n",
    "    plt.fill_between(train_sizes, train_scores_mean - train_scores_std,\n",
    "                     train_scores_mean + train_scores_std, alpha=0.1,\n",
    "                     color=\"r\")\n",
    "    plt.fill_between(train_sizes, test_scores_mean - test_scores_std,\n",
    "                     test_scores_mean + test_scores_std, alpha=0.1, color=\"g\")\n",
    "    plt.plot(train_sizes, train_scores_mean, 'o-', color=\"r\",\n",
    "             label=\"Training score\")\n",
    "    plt.plot(train_sizes, test_scores_mean, 'o-', color=\"g\",\n",
    "             label=\"Cross-validation score\")\n",
    "\n",
    "    plt.legend(loc=\"best\")\n",
    "    return plt"
   ]
  },
  {
   "cell_type": "code",
   "execution_count": 30,
   "metadata": {},
   "outputs": [
    {
     "data": {
      "text/plain": [
       "<module 'matplotlib.pyplot' from '/anaconda3/lib/python3.6/site-packages/matplotlib/pyplot.py'>"
      ]
     },
     "execution_count": 30,
     "metadata": {},
     "output_type": "execute_result"
    },
    {
     "data": {
      "image/png": "[encoded data removed]",
      "text/plain": [
       "<matplotlib.figure.Figure at 0x1a16023630>"
      ]
     },
     "metadata": {},
     "output_type": "display_data"
    }
   ],
   "source": [
    "from sklearn.model_selection import KFold,StratifiedKFold\n",
    "\n",
    "cv = KFold(n_splits=4, random_state=None, shuffle=True)\n",
    "estimator = linear_model.SGDRegressor(max_iter=1000,learning_rate='constant',eta0=0.01)\n",
    "\n",
    "sc.fit(X_train)\n",
    "plot_learning_curve(estimator, \"SGDRegressor\", sc.transform(X), y.values.ravel(), cv=cv, train_sizes=np.linspace(0.2, 1.0, 5))"
   ]
  },
  {
   "cell_type": "markdown",
   "metadata": {},
   "source": [
    "## 5.2 使用Scikit-Learn LinearRegression"
   ]
  },
  {
   "cell_type": "code",
   "execution_count": 31,
   "metadata": {},
   "outputs": [
    {
     "name": "stdout",
     "output_type": "stream",
     "text": [
      "各變項參數: [[2434.10154321]]\n",
      "MSE: 848112.68\n",
      "R Square: 0.7821896888650076\n"
     ]
    },
    {
     "data": {
      "image/png": "[encoded data removed]",
      "text/plain": [
       "<matplotlib.figure.Figure at 0x1a15b22278>"
      ]
     },
     "metadata": {},
     "output_type": "display_data"
    }
   ],
   "source": [
    "# linear regression\n",
    "regr = linear_model.LinearRegression()\n",
    "\n",
    "# 訓練模型\n",
    "regr.fit(X_train_normalized, y_train)\n",
    "\n",
    "print('各變項參數:', regr.coef_)\n",
    "print(\"MSE: %.2f\" % np.mean((regr.predict(X_test_normalized) - y_test) ** 2))\n",
    "print(\"R Square:\",regr.score(X_test_normalized,y_test))\n",
    "\n",
    "plt.figure(figsize=(10,6))  #調整作圖大小\n",
    "plt.scatter(X_train['建物移轉總面積平方公尺'], y_train['總價元'],  color='blue', marker = 'x')\n",
    "plt.plot(X_train['建物移轉總面積平方公尺'], regr.predict(X_train_normalized), color='green', linewidth=1)\n",
    "\n",
    "plt.ylabel('總價元(10K)')\n",
    "plt.xlabel('建物移轉總面積平方公尺')\n",
    "\n",
    "plt.show()"
   ]
  },
  {
   "cell_type": "code",
   "execution_count": 32,
   "metadata": {},
   "outputs": [
    {
     "data": {
      "text/plain": [
       "<module 'matplotlib.pyplot' from '/anaconda3/lib/python3.6/site-packages/matplotlib/pyplot.py'>"
      ]
     },
     "execution_count": 32,
     "metadata": {},
     "output_type": "execute_result"
    },
    {
     "data": {
      "image/png": "[encoded data removed]",
      "text/plain": [
       "<matplotlib.figure.Figure at 0x1a16023550>"
      ]
     },
     "metadata": {},
     "output_type": "display_data"
    }
   ],
   "source": [
    "cv = KFold(n_splits=4, random_state=None, shuffle=True)\n",
    "estimator = linear_model.LinearRegression()\n",
    "\n",
    "sc.fit(X_train)\n",
    "plot_learning_curve(estimator, \"LinearRegression\", sc.transform(X), y.values.ravel(), cv=cv , train_sizes=np.linspace(0.2, 1.0, 5))"
   ]
  },
  {
   "cell_type": "markdown",
   "metadata": {},
   "source": [
    "## 六、多變項線性迴歸\n",
    "### 6.1 切分訓練及測試資料 (2 features)"
   ]
  },
  {
   "cell_type": "code",
   "execution_count": 33,
   "metadata": {},
   "outputs": [],
   "source": [
    "X = df_ml[['建物移轉總面積平方公尺','屋齡']]\n",
    "y = df_ml[['總價元']]"
   ]
  },
  {
   "cell_type": "code",
   "execution_count": 34,
   "metadata": {},
   "outputs": [
    {
     "data": {
      "text/html": [
       "<div>\n",
       "<style scoped>\n",
       "    .dataframe tbody tr th:only-of-type {\n",
       "        vertical-align: middle;\n",
       "    }\n",
       "\n",
       "    .dataframe tbody tr th {\n",
       "        vertical-align: top;\n",
       "    }\n",
       "\n",
       "    .dataframe thead th {\n",
       "        text-align: right;\n",
       "    }\n",
       "</style>\n",
       "<table border=\"1\" class=\"dataframe\">\n",
       "  <thead>\n",
       "    <tr style=\"text-align: right;\">\n",
       "      <th></th>\n",
       "      <th>建物移轉總面積平方公尺</th>\n",
       "      <th>屋齡</th>\n",
       "    </tr>\n",
       "  </thead>\n",
       "  <tbody>\n",
       "    <tr>\n",
       "      <th>219</th>\n",
       "      <td>169.67</td>\n",
       "      <td>8.0</td>\n",
       "    </tr>\n",
       "    <tr>\n",
       "      <th>271</th>\n",
       "      <td>28.88</td>\n",
       "      <td>23.0</td>\n",
       "    </tr>\n",
       "    <tr>\n",
       "      <th>33</th>\n",
       "      <td>112.18</td>\n",
       "      <td>33.0</td>\n",
       "    </tr>\n",
       "    <tr>\n",
       "      <th>48</th>\n",
       "      <td>150.90</td>\n",
       "      <td>2.0</td>\n",
       "    </tr>\n",
       "    <tr>\n",
       "      <th>2</th>\n",
       "      <td>149.24</td>\n",
       "      <td>10.0</td>\n",
       "    </tr>\n",
       "  </tbody>\n",
       "</table>\n",
       "</div>"
      ],
      "text/plain": [
       "     建物移轉總面積平方公尺    屋齡\n",
       "219       169.67   8.0\n",
       "271        28.88  23.0\n",
       "33        112.18  33.0\n",
       "48        150.90   2.0\n",
       "2         149.24  10.0"
      ]
     },
     "execution_count": 34,
     "metadata": {},
     "output_type": "execute_result"
    }
   ],
   "source": [
    "from sklearn.model_selection import train_test_split\n",
    "X_train, X_test, y_train, y_test = train_test_split(X,y, test_size = 0.3) # 30% for testing, 70% for training\n",
    "X_train.head()"
   ]
  },
  {
   "cell_type": "markdown",
   "metadata": {},
   "source": [
    "### 6.1 特徵標準化 (Standardization)"
   ]
  },
  {
   "cell_type": "code",
   "execution_count": 35,
   "metadata": {},
   "outputs": [],
   "source": [
    "from sklearn.preprocessing import StandardScaler\n",
    "sc = StandardScaler()\n",
    "sc.fit(X_train)\n",
    "X_train_normalized = sc.transform(X_train)\n",
    "X_test_normalized = sc.transform(X_test)"
   ]
  },
  {
   "cell_type": "markdown",
   "metadata": {},
   "source": [
    "### 6.2 使用Scikit-Learn LinearRegression"
   ]
  },
  {
   "cell_type": "code",
   "execution_count": 36,
   "metadata": {},
   "outputs": [
    {
     "name": "stdout",
     "output_type": "stream",
     "text": [
      "各變項參數: [[2027.91650703 -199.27324164]]\n",
      "MSE: 2104825.87\n",
      "R Square: 0.7593773922715095\n"
     ]
    }
   ],
   "source": [
    "# linear regression 物件\n",
    "regr = linear_model.LinearRegression()\n",
    "\n",
    "# 訓練模型\n",
    "regr.fit(X_train_normalized, y_train)\n",
    "\n",
    "print('各變項參數:', regr.coef_)\n",
    "print(\"MSE: %.2f\" % np.mean((regr.predict(X_test_normalized) - y_test) ** 2))\n",
    "print(\"R Square:\",regr.score(X_test_normalized, y_test))"
   ]
  },
  {
   "cell_type": "code",
   "execution_count": 37,
   "metadata": {},
   "outputs": [
    {
     "data": {
      "text/plain": [
       "<module 'matplotlib.pyplot' from '/anaconda3/lib/python3.6/site-packages/matplotlib/pyplot.py'>"
      ]
     },
     "execution_count": 37,
     "metadata": {},
     "output_type": "execute_result"
    },
    {
     "data": {
      "image/png": "[encoded data removed]",
      "text/plain": [
       "<matplotlib.figure.Figure at 0x1a161d2518>"
      ]
     },
     "metadata": {},
     "output_type": "display_data"
    }
   ],
   "source": [
    "#cv = ShuffleSplit(n_splits=3, random_state=None, test_size=0.3)\n",
    "cv = KFold(n_splits=4, random_state=None, shuffle=True)\n",
    "estimator = linear_model.LinearRegression()\n",
    "\n",
    "sc.fit(X_train)\n",
    "plot_learning_curve(estimator, \"MultipleLinearRegression\", sc.transform(X), y.values.ravel(), cv=cv , train_sizes=np.linspace(0.1, 1.0, 5))"
   ]
  },
  {
   "cell_type": "markdown",
   "metadata": {},
   "source": [
    "### 6.3 使用Scikit-Learn SGDRegressor"
   ]
  },
  {
   "cell_type": "code",
   "execution_count": 38,
   "metadata": {},
   "outputs": [
    {
     "name": "stdout",
     "output_type": "stream",
     "text": [
      "各變項參數: [2051.09005387 -137.98960471]\n",
      "MSE: 2094902.23\n",
      "R Square: 0.760511857731814\n"
     ]
    }
   ],
   "source": [
    "y_train_1d = y_train.values.ravel()\n",
    "y_test_1d = y_test.values.ravel()\n",
    "\n",
    "# SGD Regressor \n",
    "sgdr = linear_model.SGDRegressor(max_iter=100,learning_rate='constant',eta0=0.01)\n",
    "\n",
    "# 訓練模型\n",
    "sgdr.fit(X_train_normalized, y_train_1d)\n",
    "\n",
    "print('各變項參數:', sgdr.coef_)\n",
    "print(\"MSE: %.2f\" % np.mean((sgdr.predict(X_test_normalized) - y_test_1d) ** 2))\n",
    "print(\"R Square:\",sgdr.score(X_test_normalized,y_test_1d))"
   ]
  },
  {
   "cell_type": "code",
   "execution_count": 39,
   "metadata": {},
   "outputs": [
    {
     "data": {
      "text/plain": [
       "<module 'matplotlib.pyplot' from '/anaconda3/lib/python3.6/site-packages/matplotlib/pyplot.py'>"
      ]
     },
     "execution_count": 39,
     "metadata": {},
     "output_type": "execute_result"
    },
    {
     "data": {
      "image/png": "[encoded data removed]",
      "text/plain": [
       "<matplotlib.figure.Figure at 0x1a166b5fd0>"
      ]
     },
     "metadata": {},
     "output_type": "display_data"
    }
   ],
   "source": [
    "from sklearn.model_selection import ShuffleSplit\n",
    "cv = KFold(n_splits=4, random_state=None, shuffle=True)\n",
    "#cv = ShuffleSplit(n_splits=3, random_state=None, test_size=0.3)\n",
    "estimator = linear_model.SGDRegressor(max_iter=1000,learning_rate='constant',eta0=0.01)\n",
    "\n",
    "plot_learning_curve(estimator, \"MultipleLinearRegression with SGD\", sc.transform(X), y.values.ravel(), cv=cv , train_sizes=np.linspace(0.2, 1.0, 5))"
   ]
  },
  {
   "cell_type": "markdown",
   "metadata": {},
   "source": [
    "## 七、多項式(Polynomial) 非線性迴歸\n",
    "### 切分訓練及測試資料 (1 feature)"
   ]
  },
  {
   "cell_type": "code",
   "execution_count": 40,
   "metadata": {},
   "outputs": [
    {
     "data": {
      "text/html": [
       "<div>\n",
       "<style scoped>\n",
       "    .dataframe tbody tr th:only-of-type {\n",
       "        vertical-align: middle;\n",
       "    }\n",
       "\n",
       "    .dataframe tbody tr th {\n",
       "        vertical-align: top;\n",
       "    }\n",
       "\n",
       "    .dataframe thead th {\n",
       "        text-align: right;\n",
       "    }\n",
       "</style>\n",
       "<table border=\"1\" class=\"dataframe\">\n",
       "  <thead>\n",
       "    <tr style=\"text-align: right;\">\n",
       "      <th></th>\n",
       "      <th>建物移轉總面積平方公尺</th>\n",
       "    </tr>\n",
       "  </thead>\n",
       "  <tbody>\n",
       "    <tr>\n",
       "      <th>600</th>\n",
       "      <td>31.18</td>\n",
       "    </tr>\n",
       "    <tr>\n",
       "      <th>235</th>\n",
       "      <td>144.40</td>\n",
       "    </tr>\n",
       "    <tr>\n",
       "      <th>277</th>\n",
       "      <td>89.12</td>\n",
       "    </tr>\n",
       "    <tr>\n",
       "      <th>204</th>\n",
       "      <td>116.65</td>\n",
       "    </tr>\n",
       "    <tr>\n",
       "      <th>586</th>\n",
       "      <td>167.33</td>\n",
       "    </tr>\n",
       "  </tbody>\n",
       "</table>\n",
       "</div>"
      ],
      "text/plain": [
       "     建物移轉總面積平方公尺\n",
       "600        31.18\n",
       "235       144.40\n",
       "277        89.12\n",
       "204       116.65\n",
       "586       167.33"
      ]
     },
     "execution_count": 40,
     "metadata": {},
     "output_type": "execute_result"
    }
   ],
   "source": [
    "from sklearn.model_selection import train_test_split\n",
    "X = df_ml[['建物移轉總面積平方公尺']]\n",
    "y = df_ml[['總價元']]\n",
    "X_train, X_test, y_train, y_test = train_test_split(X,y, test_size = 0.3) # 30% for testing, 70% for training\n",
    "X_train.head()"
   ]
  },
  {
   "cell_type": "markdown",
   "metadata": {},
   "source": [
    "### 創造高次方變項"
   ]
  },
  {
   "cell_type": "code",
   "execution_count": 41,
   "metadata": {},
   "outputs": [
    {
     "name": "stdout",
     "output_type": "stream",
     "text": [
      "各變項參數: \n",
      " [[0.00000000e+00 1.75378537e+01 6.07528489e-03]]\n",
      "MSE: 2236266.69\n",
      "R Square: 0.7352813583623741\n"
     ]
    },
    {
     "data": {
      "image/png": "[encoded data removed]",
      "text/plain": [
       "<matplotlib.figure.Figure at 0x1a167dd3c8>"
      ]
     },
     "metadata": {},
     "output_type": "display_data"
    }
   ],
   "source": [
    "from sklearn.preprocessing import PolynomialFeatures\n",
    "\n",
    "quadratic = PolynomialFeatures(degree=2)\n",
    "X_train_raw = X_train.copy() #原始X_train\n",
    "X_test_raw = X_test.copy() #原始X_test\n",
    "X_train_poly = quadratic.fit_transform(X_train_raw) #產生x^0, x^1, x^2\n",
    "X_test_poly = quadratic.fit_transform(X_test_raw) #產生x^0, x^1, x^2\n",
    "\n",
    "# linear regression 物件\n",
    "regr = linear_model.LinearRegression()\n",
    "\n",
    "# 訓練模型\n",
    "regr.fit(X_train_poly, y_train)\n",
    "\n",
    "print('各變項參數: \\n', regr.coef_)\n",
    "print(\"MSE: %.2f\" % np.mean((regr.predict(X_test_poly) - y_test) ** 2))\n",
    "print(\"R Square:\",regr.score(X_test_poly, y_test))\n",
    "\n",
    "# Plot outputs\n",
    "plt.figure(figsize=(10,6))\n",
    "plt.scatter(X_test_raw['建物移轉總面積平方公尺'], y_test['總價元'],  color='blue', marker = 'x')\n",
    "\n",
    "X_fit = pd.DataFrame(np.arange(0,700,1)) #作圖用\n",
    "plt.plot(X_fit, regr.predict(quadratic.fit_transform(X_fit)), color='green', linewidth=1)\n",
    "\n",
    "\n",
    "plt.show()"
   ]
  },
  {
   "cell_type": "code",
   "execution_count": 42,
   "metadata": {},
   "outputs": [],
   "source": [
    "quadratic = PolynomialFeatures(degree=2)\n",
    "X_raw = X.copy() #原始X_train\n",
    "X_poly = quadratic.fit_transform(X_raw) #產生x^0, x^1, x^2"
   ]
  },
  {
   "cell_type": "code",
   "execution_count": 43,
   "metadata": {},
   "outputs": [
    {
     "data": {
      "text/plain": [
       "<module 'matplotlib.pyplot' from '/anaconda3/lib/python3.6/site-packages/matplotlib/pyplot.py'>"
      ]
     },
     "execution_count": 43,
     "metadata": {},
     "output_type": "execute_result"
    },
    {
     "data": {
      "image/png": "[encoded data removed]",
      "text/plain": [
       "<matplotlib.figure.Figure at 0x1a166ae550>"
      ]
     },
     "metadata": {},
     "output_type": "display_data"
    }
   ],
   "source": [
    "cv = KFold(n_splits=4, random_state=None, shuffle=True)\n",
    "estimator = linear_model.LinearRegression()\n",
    "plot_learning_curve(estimator, \"Nonlinear Regression\", X_poly, y, cv=cv,train_sizes=np.linspace(0.2, 1.0, 5))"
   ]
  },
  {
   "cell_type": "markdown",
   "metadata": {},
   "source": [
    "## 補充：自造簡單線性迴歸 Gradient Descent"
   ]
  },
  {
   "cell_type": "code",
   "execution_count": 44,
   "metadata": {},
   "outputs": [],
   "source": [
    "def computeCost(X, y, weight=np.array([[0,0]])):\n",
    "    m = y.size\n",
    "    J = 0\n",
    "    h = X.dot(weight)\n",
    "    J = 1/(2*m)*np.sum(np.square(h-y))\n",
    "    return(J)\n",
    "\n",
    "def gradientDescent(X, y, weight=np.array([[0,0]]), alpha=0.01, num_iters=1500):\n",
    "    m = y.size\n",
    "    J_history = np.zeros(num_iters)\n",
    "    \n",
    "    for iters in np.arange(num_iters):\n",
    "        h = X.dot(weight)\n",
    "        weight = weight - alpha*(1/m)*(X.T.dot(h-y))\n",
    "        J_history[iters] = computeCost(X, y, weight)\n",
    "    return(weight, J_history)"
   ]
  },
  {
   "cell_type": "code",
   "execution_count": 45,
   "metadata": {},
   "outputs": [
    {
     "data": {
      "text/html": [
       "<div>\n",
       "<style scoped>\n",
       "    .dataframe tbody tr th:only-of-type {\n",
       "        vertical-align: middle;\n",
       "    }\n",
       "\n",
       "    .dataframe tbody tr th {\n",
       "        vertical-align: top;\n",
       "    }\n",
       "\n",
       "    .dataframe thead th {\n",
       "        text-align: right;\n",
       "    }\n",
       "</style>\n",
       "<table border=\"1\" class=\"dataframe\">\n",
       "  <thead>\n",
       "    <tr style=\"text-align: right;\">\n",
       "      <th></th>\n",
       "      <th>建物移轉總面積平方公尺</th>\n",
       "    </tr>\n",
       "  </thead>\n",
       "  <tbody>\n",
       "    <tr>\n",
       "      <th>260</th>\n",
       "      <td>66.59</td>\n",
       "    </tr>\n",
       "    <tr>\n",
       "      <th>547</th>\n",
       "      <td>63.72</td>\n",
       "    </tr>\n",
       "    <tr>\n",
       "      <th>184</th>\n",
       "      <td>99.89</td>\n",
       "    </tr>\n",
       "    <tr>\n",
       "      <th>239</th>\n",
       "      <td>29.63</td>\n",
       "    </tr>\n",
       "    <tr>\n",
       "      <th>308</th>\n",
       "      <td>153.66</td>\n",
       "    </tr>\n",
       "  </tbody>\n",
       "</table>\n",
       "</div>"
      ],
      "text/plain": [
       "     建物移轉總面積平方公尺\n",
       "260        66.59\n",
       "547        63.72\n",
       "184        99.89\n",
       "239        29.63\n",
       "308       153.66"
      ]
     },
     "execution_count": 45,
     "metadata": {},
     "output_type": "execute_result"
    }
   ],
   "source": [
    "X = df_ml[['建物移轉總面積平方公尺']]\n",
    "y = df_ml[['總價元']]\n",
    "\n",
    "X_train, X_test, y_train, y_test = train_test_split(X, y, test_size = 0.3) # 30% for testing, 70% for training\n",
    "X_train.head()"
   ]
  },
  {
   "cell_type": "code",
   "execution_count": 46,
   "metadata": {},
   "outputs": [],
   "source": [
    "sc.fit(X_train)\n",
    "X_train_normalized = sc.transform(X_train)"
   ]
  },
  {
   "cell_type": "code",
   "execution_count": 47,
   "metadata": {},
   "outputs": [
    {
     "name": "stdout",
     "output_type": "stream",
     "text": [
      "weight:  [2172.45334211 2172.45334211]\n"
     ]
    },
    {
     "data": {
      "image/png": "[encoded data removed]",
      "text/plain": [
       "<matplotlib.figure.Figure at 0x10a489b70>"
      ]
     },
     "metadata": {},
     "output_type": "display_data"
    }
   ],
   "source": [
    "# theta for minimized cost J\n",
    "weight , Cost_J = gradientDescent(X_train_normalized, y_train.values)\n",
    "\n",
    "print('weight: ',weight.ravel())\n",
    "plt.figure(figsize=(10,6))\n",
    "plt.plot(Cost_J)\n",
    "plt.ylabel('Cost J')\n",
    "plt.xlabel('Number of Iterations/Steps');"
   ]
  }
 ],
 "metadata": {
  "anaconda-cloud": {},
  "kernelspec": {
   "display_name": "Python 3",
   "language": "python",
   "name": "python3"
  },
  "language_info": {
   "codemirror_mode": {
    "name": "ipython",
    "version": 3
   },
   "file_extension": ".py",
   "mimetype": "text/x-python",
   "name": "python",
   "nbconvert_exporter": "python",
   "pygments_lexer": "ipython3",
   "version": "3.6.4"
  }
 },
 "nbformat": 4,
 "nbformat_minor": 1
}
